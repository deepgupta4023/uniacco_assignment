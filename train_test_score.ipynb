{
 "cells": [
  {
   "cell_type": "markdown",
   "id": "5a5d2b2b",
   "metadata": {},
   "source": [
    "# Importing necessary modules"
   ]
  },
  {
   "cell_type": "code",
   "execution_count": 1,
   "id": "db923e92",
   "metadata": {},
   "outputs": [],
   "source": [
    "import pandas as pd\n",
    "import numpy as np\n",
    "import seaborn as sns\n",
    "import re\n",
    "import math\n",
    "import warnings\n",
    "warnings.filterwarnings(\"ignore\")\n",
    "from sklearn.linear_model import LogisticRegression\n",
    "from sklearn.model_selection import train_test_split\n",
    "from sklearn.metrics import classification_report,accuracy_score,precision_score,recall_score,f1_score\n",
    "%matplotlib inline"
   ]
  },
  {
   "cell_type": "markdown",
   "id": "94f27901",
   "metadata": {},
   "source": [
    "# Reading the dataset"
   ]
  },
  {
   "cell_type": "code",
   "execution_count": 2,
   "id": "4473c766",
   "metadata": {},
   "outputs": [],
   "source": [
    "df=pd.read_csv('Data_Science_Internship - Dump.csv', index_col=0)"
   ]
  },
  {
   "cell_type": "code",
   "execution_count": 3,
   "id": "7450dd83",
   "metadata": {},
   "outputs": [
    {
     "data": {
      "text/html": [
       "<div>\n",
       "<style scoped>\n",
       "    .dataframe tbody tr th:only-of-type {\n",
       "        vertical-align: middle;\n",
       "    }\n",
       "\n",
       "    .dataframe tbody tr th {\n",
       "        vertical-align: top;\n",
       "    }\n",
       "\n",
       "    .dataframe thead th {\n",
       "        text-align: right;\n",
       "    }\n",
       "</style>\n",
       "<table border=\"1\" class=\"dataframe\">\n",
       "  <thead>\n",
       "    <tr style=\"text-align: right;\">\n",
       "      <th></th>\n",
       "      <th>Agent_id</th>\n",
       "      <th>status</th>\n",
       "      <th>lost_reason</th>\n",
       "      <th>budget</th>\n",
       "      <th>lease</th>\n",
       "      <th>movein</th>\n",
       "      <th>source</th>\n",
       "      <th>source_city</th>\n",
       "      <th>source_country</th>\n",
       "      <th>utm_source</th>\n",
       "      <th>utm_medium</th>\n",
       "      <th>des_city</th>\n",
       "      <th>des_country</th>\n",
       "      <th>room_type</th>\n",
       "      <th>lead_id</th>\n",
       "    </tr>\n",
       "  </thead>\n",
       "  <tbody>\n",
       "    <tr>\n",
       "      <th>0</th>\n",
       "      <td>1deba9e96f404694373de9749ddd1ca8aa7bb823145a6f...</td>\n",
       "      <td>LOST</td>\n",
       "      <td>Not responding</td>\n",
       "      <td>NaN</td>\n",
       "      <td>NaN</td>\n",
       "      <td>NaN</td>\n",
       "      <td>9b2d5b4678781e53038e91ea5324530a03f27dc1d0e5f6...</td>\n",
       "      <td>9b2d5b4678781e53038e91ea5324530a03f27dc1d0e5f6...</td>\n",
       "      <td>9b2d5b4678781e53038e91ea5324530a03f27dc1d0e5f6...</td>\n",
       "      <td>3d59f7548e1af2151b64135003ce63c0a484c26b9b8b16...</td>\n",
       "      <td>268ad70eb5bc4737a2ae28162cbca30118cc94520e49ef...</td>\n",
       "      <td>ecc0e7dc084f141b29479058967d0bc07dee25d9690a98...</td>\n",
       "      <td>8d23a6e37e0a6431a8f1b43a91026dcff51170a89a6512...</td>\n",
       "      <td>NaN</td>\n",
       "      <td>cd5dc0d9393f3980d11d4ba6f88f8110c2b7a7f7796307...</td>\n",
       "    </tr>\n",
       "    <tr>\n",
       "      <th>1</th>\n",
       "      <td>299ae77a4ef350ae0dd37d6bba1c002d03444fb1edb236...</td>\n",
       "      <td>LOST</td>\n",
       "      <td>Low budget</td>\n",
       "      <td>NaN</td>\n",
       "      <td>NaN</td>\n",
       "      <td>NaN</td>\n",
       "      <td>9b2d5b4678781e53038e91ea5324530a03f27dc1d0e5f6...</td>\n",
       "      <td>9b2d5b4678781e53038e91ea5324530a03f27dc1d0e5f6...</td>\n",
       "      <td>9b2d5b4678781e53038e91ea5324530a03f27dc1d0e5f6...</td>\n",
       "      <td>3d59f7548e1af2151b64135003ce63c0a484c26b9b8b16...</td>\n",
       "      <td>268ad70eb5bc4737a2ae28162cbca30118cc94520e49ef...</td>\n",
       "      <td>5372372f3bf5896820cb2819300c3e681820d82c6efc54...</td>\n",
       "      <td>8d23a6e37e0a6431a8f1b43a91026dcff51170a89a6512...</td>\n",
       "      <td>NaN</td>\n",
       "      <td>b94693673a5f7178d1b114e4004ad52377d3244dd24a3d...</td>\n",
       "    </tr>\n",
       "    <tr>\n",
       "      <th>2</th>\n",
       "      <td>c213697430c006013012dd2aca82dd9732aa0a1a6bca13...</td>\n",
       "      <td>LOST</td>\n",
       "      <td>Not responding</td>\n",
       "      <td>£121 - £180 Per Week</td>\n",
       "      <td>Full Year Course Stay 40 - 44 weeks</td>\n",
       "      <td>31/08/22</td>\n",
       "      <td>7aae3e886e89fc1187a5c47d6cea1c22998ee610ade1f2...</td>\n",
       "      <td>9b8cc3c63cdf447e463c11544924bf027945cbd29675f7...</td>\n",
       "      <td>e09e10e67812e9d236ad900e5d46b4308fc62f5d69446a...</td>\n",
       "      <td>bbdefa2950f49882f295b1285d4fa9dec45fc4144bfb07...</td>\n",
       "      <td>09076eb7665d1fb9389c7c4517fee0b00e43092eb34821...</td>\n",
       "      <td>11ab03a1a8c367191355c152f39fe28cae5e426fce49ef...</td>\n",
       "      <td>8d23a6e37e0a6431a8f1b43a91026dcff51170a89a6512...</td>\n",
       "      <td>Ensuite</td>\n",
       "      <td>96ea4e2bf04496c044745938c0299c264c3f4ba079e572...</td>\n",
       "    </tr>\n",
       "    <tr>\n",
       "      <th>3</th>\n",
       "      <td>eac9815a500f908736d303e23aa227f0957177b0e6756b...</td>\n",
       "      <td>LOST</td>\n",
       "      <td>Low budget</td>\n",
       "      <td>0-0</td>\n",
       "      <td>0</td>\n",
       "      <td>NaN</td>\n",
       "      <td>ba2d0a29556ac20f86f45e4543c0825428cba33fd7a9ea...</td>\n",
       "      <td>a5f0d2d08eb0592087e3a3a2f9c1ba2c67cc30f2efd2bd...</td>\n",
       "      <td>e09e10e67812e9d236ad900e5d46b4308fc62f5d69446a...</td>\n",
       "      <td>bbdefa2950f49882f295b1285d4fa9dec45fc4144bfb07...</td>\n",
       "      <td>09076eb7665d1fb9389c7c4517fee0b00e43092eb34821...</td>\n",
       "      <td>19372fa44c57a01c37a5a8418779ca3d99b0b59731fb35...</td>\n",
       "      <td>8d23a6e37e0a6431a8f1b43a91026dcff51170a89a6512...</td>\n",
       "      <td>NaN</td>\n",
       "      <td>1d2b34d8add02a182a4129023766ca4585a8ddced0e5b3...</td>\n",
       "    </tr>\n",
       "    <tr>\n",
       "      <th>4</th>\n",
       "      <td>1deba9e96f404694373de9749ddd1ca8aa7bb823145a6f...</td>\n",
       "      <td>LOST</td>\n",
       "      <td>Junk lead</td>\n",
       "      <td>NaN</td>\n",
       "      <td>NaN</td>\n",
       "      <td>NaN</td>\n",
       "      <td>9b2d5b4678781e53038e91ea5324530a03f27dc1d0e5f6...</td>\n",
       "      <td>9b2d5b4678781e53038e91ea5324530a03f27dc1d0e5f6...</td>\n",
       "      <td>9b2d5b4678781e53038e91ea5324530a03f27dc1d0e5f6...</td>\n",
       "      <td>3d59f7548e1af2151b64135003ce63c0a484c26b9b8b16...</td>\n",
       "      <td>268ad70eb5bc4737a2ae28162cbca30118cc94520e49ef...</td>\n",
       "      <td>9b2d5b4678781e53038e91ea5324530a03f27dc1d0e5f6...</td>\n",
       "      <td>9b2d5b4678781e53038e91ea5324530a03f27dc1d0e5f6...</td>\n",
       "      <td>NaN</td>\n",
       "      <td>fc10fffd29cfbe93c55158fb47752a7501c211d253468c...</td>\n",
       "    </tr>\n",
       "  </tbody>\n",
       "</table>\n",
       "</div>"
      ],
      "text/plain": [
       "                                            Agent_id status     lost_reason  \\\n",
       "0  1deba9e96f404694373de9749ddd1ca8aa7bb823145a6f...   LOST  Not responding   \n",
       "1  299ae77a4ef350ae0dd37d6bba1c002d03444fb1edb236...   LOST      Low budget   \n",
       "2  c213697430c006013012dd2aca82dd9732aa0a1a6bca13...   LOST  Not responding   \n",
       "3  eac9815a500f908736d303e23aa227f0957177b0e6756b...   LOST      Low budget   \n",
       "4  1deba9e96f404694373de9749ddd1ca8aa7bb823145a6f...   LOST       Junk lead   \n",
       "\n",
       "                 budget                                lease    movein  \\\n",
       "0                   NaN                                  NaN       NaN   \n",
       "1                   NaN                                  NaN       NaN   \n",
       "2  £121 - £180 Per Week  Full Year Course Stay 40 - 44 weeks  31/08/22   \n",
       "3                   0-0                                    0       NaN   \n",
       "4                   NaN                                  NaN       NaN   \n",
       "\n",
       "                                              source  \\\n",
       "0  9b2d5b4678781e53038e91ea5324530a03f27dc1d0e5f6...   \n",
       "1  9b2d5b4678781e53038e91ea5324530a03f27dc1d0e5f6...   \n",
       "2  7aae3e886e89fc1187a5c47d6cea1c22998ee610ade1f2...   \n",
       "3  ba2d0a29556ac20f86f45e4543c0825428cba33fd7a9ea...   \n",
       "4  9b2d5b4678781e53038e91ea5324530a03f27dc1d0e5f6...   \n",
       "\n",
       "                                         source_city  \\\n",
       "0  9b2d5b4678781e53038e91ea5324530a03f27dc1d0e5f6...   \n",
       "1  9b2d5b4678781e53038e91ea5324530a03f27dc1d0e5f6...   \n",
       "2  9b8cc3c63cdf447e463c11544924bf027945cbd29675f7...   \n",
       "3  a5f0d2d08eb0592087e3a3a2f9c1ba2c67cc30f2efd2bd...   \n",
       "4  9b2d5b4678781e53038e91ea5324530a03f27dc1d0e5f6...   \n",
       "\n",
       "                                      source_country  \\\n",
       "0  9b2d5b4678781e53038e91ea5324530a03f27dc1d0e5f6...   \n",
       "1  9b2d5b4678781e53038e91ea5324530a03f27dc1d0e5f6...   \n",
       "2  e09e10e67812e9d236ad900e5d46b4308fc62f5d69446a...   \n",
       "3  e09e10e67812e9d236ad900e5d46b4308fc62f5d69446a...   \n",
       "4  9b2d5b4678781e53038e91ea5324530a03f27dc1d0e5f6...   \n",
       "\n",
       "                                          utm_source  \\\n",
       "0  3d59f7548e1af2151b64135003ce63c0a484c26b9b8b16...   \n",
       "1  3d59f7548e1af2151b64135003ce63c0a484c26b9b8b16...   \n",
       "2  bbdefa2950f49882f295b1285d4fa9dec45fc4144bfb07...   \n",
       "3  bbdefa2950f49882f295b1285d4fa9dec45fc4144bfb07...   \n",
       "4  3d59f7548e1af2151b64135003ce63c0a484c26b9b8b16...   \n",
       "\n",
       "                                          utm_medium  \\\n",
       "0  268ad70eb5bc4737a2ae28162cbca30118cc94520e49ef...   \n",
       "1  268ad70eb5bc4737a2ae28162cbca30118cc94520e49ef...   \n",
       "2  09076eb7665d1fb9389c7c4517fee0b00e43092eb34821...   \n",
       "3  09076eb7665d1fb9389c7c4517fee0b00e43092eb34821...   \n",
       "4  268ad70eb5bc4737a2ae28162cbca30118cc94520e49ef...   \n",
       "\n",
       "                                            des_city  \\\n",
       "0  ecc0e7dc084f141b29479058967d0bc07dee25d9690a98...   \n",
       "1  5372372f3bf5896820cb2819300c3e681820d82c6efc54...   \n",
       "2  11ab03a1a8c367191355c152f39fe28cae5e426fce49ef...   \n",
       "3  19372fa44c57a01c37a5a8418779ca3d99b0b59731fb35...   \n",
       "4  9b2d5b4678781e53038e91ea5324530a03f27dc1d0e5f6...   \n",
       "\n",
       "                                         des_country room_type  \\\n",
       "0  8d23a6e37e0a6431a8f1b43a91026dcff51170a89a6512...       NaN   \n",
       "1  8d23a6e37e0a6431a8f1b43a91026dcff51170a89a6512...       NaN   \n",
       "2  8d23a6e37e0a6431a8f1b43a91026dcff51170a89a6512...   Ensuite   \n",
       "3  8d23a6e37e0a6431a8f1b43a91026dcff51170a89a6512...       NaN   \n",
       "4  9b2d5b4678781e53038e91ea5324530a03f27dc1d0e5f6...       NaN   \n",
       "\n",
       "                                             lead_id  \n",
       "0  cd5dc0d9393f3980d11d4ba6f88f8110c2b7a7f7796307...  \n",
       "1  b94693673a5f7178d1b114e4004ad52377d3244dd24a3d...  \n",
       "2  96ea4e2bf04496c044745938c0299c264c3f4ba079e572...  \n",
       "3  1d2b34d8add02a182a4129023766ca4585a8ddced0e5b3...  \n",
       "4  fc10fffd29cfbe93c55158fb47752a7501c211d253468c...  "
      ]
     },
     "execution_count": 3,
     "metadata": {},
     "output_type": "execute_result"
    }
   ],
   "source": [
    "df.head()"
   ]
  },
  {
   "cell_type": "markdown",
   "id": "e47a3f3f",
   "metadata": {},
   "source": [
    "Notes: '9b2d5b4678781e53038e91ea5324530a03f27dc1d0e5f6c9bc9d493a23be9de0' represents NaN "
   ]
  },
  {
   "cell_type": "code",
   "execution_count": 4,
   "id": "f1e9d53c",
   "metadata": {},
   "outputs": [],
   "source": [
    "df=df.replace('9b2d5b4678781e53038e91ea5324530a03f27dc1d0e5f6c9bc9d493a23be9de0', np.nan)"
   ]
  },
  {
   "cell_type": "markdown",
   "id": "9ec84f6c",
   "metadata": {},
   "source": [
    "Note: The leads with STATUS other than ‘WON’ or ‘LOST’ can be dropped during training."
   ]
  },
  {
   "cell_type": "code",
   "execution_count": 5,
   "id": "13872daa",
   "metadata": {},
   "outputs": [],
   "source": [
    "df=df[(df.status =='LOST')|( df.status=='WON')]"
   ]
  },
  {
   "cell_type": "markdown",
   "id": "26a2bd44",
   "metadata": {},
   "source": [
    "# Manually Label Encoding Target Variable"
   ]
  },
  {
   "cell_type": "code",
   "execution_count": 6,
   "id": "e6fea528",
   "metadata": {},
   "outputs": [],
   "source": [
    "df['status']=list(map(lambda x: 1 if x=='WON' else 0, df['status']))"
   ]
  },
  {
   "cell_type": "markdown",
   "id": "e79646d0",
   "metadata": {},
   "source": [
    "# Dropping duplicates"
   ]
  },
  {
   "cell_type": "code",
   "execution_count": 7,
   "id": "c1f84d4c",
   "metadata": {},
   "outputs": [],
   "source": [
    "df=df.drop_duplicates()"
   ]
  },
  {
   "cell_type": "markdown",
   "id": "d739e52e",
   "metadata": {},
   "source": [
    "# Inspect columns"
   ]
  },
  {
   "cell_type": "code",
   "execution_count": 8,
   "id": "0a285439",
   "metadata": {},
   "outputs": [
    {
     "data": {
      "text/plain": [
       "Index(['Agent_id', 'status', 'lost_reason', 'budget', 'lease', 'movein',\n",
       "       'source', 'source_city', 'source_country', 'utm_source', 'utm_medium',\n",
       "       'des_city', 'des_country', 'room_type', 'lead_id'],\n",
       "      dtype='object')"
      ]
     },
     "execution_count": 8,
     "metadata": {},
     "output_type": "execute_result"
    }
   ],
   "source": [
    "df.columns"
   ]
  },
  {
   "cell_type": "markdown",
   "id": "f7e3eaf4",
   "metadata": {},
   "source": [
    "'Agent_id': Unique Identifier of Agent responsible for dealing with the client, \n",
    "\n",
    "'status': Present status of the lead, \n",
    "\n",
    "'lost_reason': Reason why they lost the lead, \n",
    "\n",
    "'budget': Budget of the lead, \n",
    "\n",
    "'lease': Lease duration lead is willing to engage in (assuming the numbers without any text represent weeks), \n",
    "\n",
    "'movein': Move in date ,\n",
    "\n",
    "'source', 'source_city', 'source_country', : Source address of the lead\n",
    "\n",
    "'utm_source', 'utm_medium',\n",
    "       \n",
    " 'des_city', 'des_country': address where the lead is about to move in, \n",
    " \n",
    " 'room_type': type of room lead is interested in, \n",
    " \n",
    " 'lead_id': unique identifier of a lead"
   ]
  },
  {
   "cell_type": "markdown",
   "id": "b8916ed5",
   "metadata": {},
   "source": [
    "# Plan of action\n",
    "\n",
    "we are going to create a logistic regression model that can classify our records into WON or LOST. and we can use it to give us a probability which we can use for Lead Score"
   ]
  },
  {
   "cell_type": "markdown",
   "id": "d4b6c7ff",
   "metadata": {},
   "source": [
    "# Hypothesis\n",
    "1. Some agents might have better success rate than others\n",
    "2. budget might be a strong reason for a lead to final the deal or not\n",
    "3. lease and des_city might be a influential factor in deciding to forward with a deal or not\n",
    "4. room type may also be a reason when combined with budget"
   ]
  },
  {
   "cell_type": "markdown",
   "id": "097e43f6",
   "metadata": {},
   "source": [
    "# As the dataset is imbalanced, Separating dataset into majority and minority"
   ]
  },
  {
   "cell_type": "markdown",
   "id": "ef1a5526",
   "metadata": {},
   "source": [
    "# columns to consider\n",
    "1. Agent_id\n",
    "2. Budget\n",
    "3. Lease\n",
    "4. source_city\n",
    "5. utm_medium\n",
    "6. des_city\n",
    "7. des_country\n",
    "5. room_type"
   ]
  },
  {
   "cell_type": "code",
   "execution_count": 9,
   "id": "691d757d",
   "metadata": {},
   "outputs": [],
   "source": [
    "imp_cols=['Agent_id', 'budget', 'lease', 'source', 'source_city', 'utm_medium',\n",
    "       'des_city', 'des_country', 'room_type']"
   ]
  },
  {
   "cell_type": "markdown",
   "id": "cdd00483",
   "metadata": {},
   "source": [
    "# Candidates with status as WON has  NULL in lost_reason it is a calssic case of causation and nor correlation. So even though this column is highly related we will discard it in training our model"
   ]
  },
  {
   "cell_type": "markdown",
   "id": "576fa44c",
   "metadata": {},
   "source": [
    "# budget column "
   ]
  },
  {
   "cell_type": "markdown",
   "id": "d69e0f11",
   "metadata": {},
   "source": [
    "# Assigning slab to budget column"
   ]
  },
  {
   "cell_type": "code",
   "execution_count": 10,
   "id": "796e1bbd",
   "metadata": {},
   "outputs": [],
   "source": [
    "def assign_budget(budget):\n",
    "    nums=[]\n",
    "    \n",
    "    if budget=='unavailable':\n",
    "        return('unavailable')\n",
    "    temp=re.findall('\\d*',budget)\n",
    "    \n",
    "    \n",
    "    for item in temp:\n",
    "        if item!='':\n",
    "            nums.append(int(item))\n",
    "            \n",
    "    if len(nums)==0:\n",
    "        return '0-60'\n",
    "           \n",
    "    high=max(nums)\n",
    "    \n",
    "    if high<=60:\n",
    "        return '0-60'\n",
    "    elif high>60 and high<=120:\n",
    "        return '61-120'\n",
    "    elif high>120 and high<=180:\n",
    "        return '121-180'\n",
    "    elif high>180 and high<=240:\n",
    "        return '181-240'\n",
    "    elif high>240 and high<=300:\n",
    "        return '240-300'\n",
    "    elif high>300:\n",
    "        return '>300'\n",
    "    else:\n",
    "        return 'other'\n",
    "        "
   ]
  },
  {
   "cell_type": "code",
   "execution_count": 11,
   "id": "1ee1cc44",
   "metadata": {},
   "outputs": [],
   "source": [
    "budget_mode=df.budget.mode()[0]\n"
   ]
  },
  {
   "cell_type": "markdown",
   "id": "b227e68d",
   "metadata": {},
   "source": [
    "# lease"
   ]
  },
  {
   "cell_type": "markdown",
   "id": "ef6d9ba9",
   "metadata": {},
   "source": [
    "# Assigning slab to lease column"
   ]
  },
  {
   "cell_type": "code",
   "execution_count": 12,
   "id": "a968444b",
   "metadata": {},
   "outputs": [],
   "source": [
    "def find_week_slab(weeks):\n",
    "    if weeks>=52:\n",
    "        return('1 year or more')\n",
    "    elif weeks>=39 and weeks<52:\n",
    "        return('9 months - 1 year')\n",
    "    elif weeks>=26 and weeks<39:\n",
    "        return('6 months - 9 months')\n",
    "    elif weeks>=13 and weeks<26:\n",
    "        return('3 months - 6 months')\n",
    "    elif weeks<13:\n",
    "        return('less than 3 months')\n",
    "    else:\n",
    "        return('Other')"
   ]
  },
  {
   "cell_type": "code",
   "execution_count": 13,
   "id": "81b0e271",
   "metadata": {},
   "outputs": [],
   "source": [
    "def categorize_lease_term(lease):\n",
    "    if lease=='unavailable':\n",
    "        return 'unavailable'\n",
    "    nums=[]\n",
    "    #print(lease)\n",
    "    if re.search('year',lease)!=None or re.search('course',lease)!=None :\n",
    "        return('1 year or more')\n",
    "        \n",
    "    elif re.search('month',lease)!=None:\n",
    "        temp=re.findall('\\d*',lease)\n",
    "        for item in temp:\n",
    "            if item!='':\n",
    "                nums.append(int(item))\n",
    "            \n",
    "            return(find_week_slab(round(max(nums)*4.3)))\n",
    "    \n",
    "    else:\n",
    "        \n",
    "        temp=re.findall('\\d*',lease)\n",
    "    \n",
    "        for item in temp:\n",
    "            if item!='':\n",
    "                nums.append(int(item))\n",
    "\n",
    "        if len(nums)==0:\n",
    "            return 'Other'\n",
    "\n",
    "        high=max(nums)\n",
    "        return(find_week_slab(max(nums)))\n",
    "        "
   ]
  },
  {
   "cell_type": "markdown",
   "id": "8cdf1fdd",
   "metadata": {},
   "source": [
    "# DES_CITY"
   ]
  },
  {
   "cell_type": "markdown",
   "id": "4f300cca",
   "metadata": {},
   "source": [
    "# Keeping cities with more than 100 records and putting others in other_des_cities category"
   ]
  },
  {
   "cell_type": "code",
   "execution_count": 14,
   "id": "38eff37d",
   "metadata": {
    "scrolled": true
   },
   "outputs": [
    {
     "data": {
      "text/plain": [
       "Index(['ecc0e7dc084f141b29479058967d0bc07dee25d9690a98ee4e6fdad5168274d7',\n",
       "       '810c069040f6a9b16fdf976a901755508a87cb0224b169d4b5d803357e647947',\n",
       "       '11ab03a1a8c367191355c152f39fe28cae5e426fce49efb320230ca4ae3f97a1',\n",
       "       '8593b9db65212160979d946950601c26622a219c80f1f122679eb69ec5b96600',\n",
       "       '6a5ed83658ef85afc77709cc16ede854ad98e3c2ad8b076e10dcbcd6e5096271',\n",
       "       '5e02dadaa7e4cd29809e2f8a115f1e5e9c01b29813a1fb9707218804218da32a',\n",
       "       '9b8cc3c63cdf447e463c11544924bf027945cbd29675f77955bb36364356c14e',\n",
       "       'b2586a6cef5690b74e9fb425f95f8fb3f1e18a4cdc3225eb2f53534ec3602aee',\n",
       "       '5372372f3bf5896820cb2819300c3e681820d82c6efc548fb07bed3a6c83f451',\n",
       "       'c384826dfbfce62c3fd99a46984a56fe71546a85c2cb6cf12031691b8e038a23',\n",
       "       '085c3a49a31cbfa71c36746a98dc908d30d423a63b969c5a5c7cadefcd92492b',\n",
       "       'bf5ade33b5b472c3599473a5cb4e5c7037e4c73296b7e97006edb71f029133b6',\n",
       "       '9edff2628ff7385bffbe7fc9cae89010d2cb9182e805e146de99e99cd4dfce61',\n",
       "       '1b4e390dcd79bc05931bc4a080340fff0ed6eab8c34760043493b972ccaa84cb',\n",
       "       '6c5988c3032fffdad757f9ece1a56029a631825d5270013d25d1622ffe5ac5e9',\n",
       "       '2baa70fa96081bf1c4c7319e7af4bed170348d9c6821b4db2888d716967550b7',\n",
       "       '71b89d8b802ddcc0120ec5352d9c0fe5bde35a3aff101b3536d600218983dfbe',\n",
       "       '13d4b96b6ee361b737e22404aeecca45f322ba7d4c2c425b8f31cc85f2d3808a',\n",
       "       '4f00c4593da1a548582b1ebe1b922788912eeae54183458938855b650f9eb681',\n",
       "       'f9bfb92c288658941063ed2dfc7feca398a9df1623a428f5790d9818dc91297f',\n",
       "       '3ef7e995c2ca31e6354bda2bbcd5acd9de5b144b1db73d67b4677938c189dc8a',\n",
       "       '0a8ad51fea30c29587f61bd8420a49602aa78304833627829cd29d7594ce3c57',\n",
       "       '3c44caddda7c1aa127bebaa13aaf6713964e0e943b94845c3dc819d2f60bb754',\n",
       "       '998c18dc0e513ab0035c7b858e3780bbbead88695a15defd8cba3edd0f9cc2d7',\n",
       "       '19372fa44c57a01c37a5a8418779ca3d99b0b59731fb351380c9d648e357ab96',\n",
       "       'acb208d3ac02ab6d5a45120b4187f12bc41a132011fe1c64ec0bfb89c40a4f67',\n",
       "       '086eec074ad18d1159de3c076d7f7d8a55f5bc8d134f6f9f5b3cc306181ced80',\n",
       "       'f3966925d3b328c7fda7ebf6bc87747f2f15040ae6c16502a76d02e57003eb10',\n",
       "       '618738f7143c9b43a98a6b42d743a6595069a9b4dcf42d7deafb725d1e93dd52',\n",
       "       'e509e9f3fb8f1e6b3cee0b3e924eb6e533928aeca836532c458ff60f606af025',\n",
       "       'e34eb721eceb4f46181760c2f9b23b551419a518be82e693b9387b8496a9b98b',\n",
       "       '463816d07097e1a7cf27b86cf03082ee49f6ce2d87663cd27a24d7254a83e76a',\n",
       "       'ea58dc05b968545d016953b84130933e920097afbf34431e837395905d39e0f8',\n",
       "       '6b33d27be13e79b6a8e4733690e8fffe12d47715d22fbac4805f358ae96bdcea',\n",
       "       'f4a95c80f4c35feff42a9f3830c6bfca4c0ea7bd43c6487fb2dc31eef7042736',\n",
       "       '0fa4720e8f52f127b3eb09a73a2dc682a95eee72b5d2a9b17ed1ba503602efce',\n",
       "       'a3a90dcfa0abf041f3e54b0dcc83fc052023cbe1f7c87ad096710b383f7f56bd',\n",
       "       '042d522ccd46f987dbe295492815f0464a93b9bec8a06cadd0d9eb250db8fa41',\n",
       "       '3c1def48af45cb9748302f34e57f2cbeb866de95beb0d2d295c38a52b17f0f78',\n",
       "       '2c431a02b039eaac86c97e95d8204f4f2db04a6d33b3c7dcc87e75e4c97f317a',\n",
       "       '874523a7284bc49124fd6951e8d2f5825643ce5987161c463de40edd20548812',\n",
       "       '8d54efb91fed801820dda961ef4609f87ae9e80c1da940bd8c356ec90c0ba428',\n",
       "       '0d6eeec007a7b5e27f8791411df529553457a4a5fafbb85f12c81c1ca5208247',\n",
       "       '777e88b51092d314e2b6b9e523fc4dc2f3281c52df171e5a3343ba4bbae44c5b',\n",
       "       '013bd8afc3f7e4d042792262278f98673dbd27b86f5d63e0a79935025fada1c0',\n",
       "       '6dbda2c3b0ef92781fdf7feff5f3ef647fe361944ca8a384e0eb5e36062d2955',\n",
       "       'e452f0a3e6f3ab1c0a954908bb8a8866372fa4931a89deca50cbd103fc42e197',\n",
       "       'dad114b6ed7342bac65c79575f6c7ff761ec26b52c1f5f7a9110532973d05df2',\n",
       "       '4b3e78f8015604260cdfeb4b2f0e470dd7633c69725d39f43eec2d23c45ab8ad',\n",
       "       '28cbd370a5129ecf99a2fde651ce6b7106fc486754a23760ed4661398995adba'],\n",
       "      dtype='object')"
      ]
     },
     "execution_count": 14,
     "metadata": {},
     "output_type": "execute_result"
    }
   ],
   "source": [
    "des_cities=df.des_city.value_counts()[df.des_city.value_counts().values>100].index\n",
    "des_cities"
   ]
  },
  {
   "cell_type": "markdown",
   "id": "158cd2b1",
   "metadata": {},
   "source": [
    "# Source city"
   ]
  },
  {
   "cell_type": "markdown",
   "id": "d6aab5df",
   "metadata": {},
   "source": [
    "# Keeping cities with more than 100 records and putting others in other_source_cities category"
   ]
  },
  {
   "cell_type": "code",
   "execution_count": 15,
   "id": "47a9d1fb",
   "metadata": {
    "scrolled": false
   },
   "outputs": [
    {
     "data": {
      "text/plain": [
       "Index(['ecc0e7dc084f141b29479058967d0bc07dee25d9690a98ee4e6fdad5168274d7',\n",
       "       'b384863fa1f6e091164b74219726eee0b9dd47776b91a4dc71fd0516630d21ec',\n",
       "       '9f2ba6981e36ea0fca6c16f42e6413d788d2a7499b8b7f418c5d76f12d191f02',\n",
       "       '7d1550b844ff586a6023216c06263105eed0a849a2a1f69bb8862ab288d8cdab',\n",
       "       '810c069040f6a9b16fdf976a901755508a87cb0224b169d4b5d803357e647947',\n",
       "       '4fa64bd55d5c0c1f83015952b4b9500cb099dd0b1b04647f1a7c3c5708295b6e',\n",
       "       '282f96b099630502f8bb5033849c69982dd147015853061ed938c2a254fd8dcf',\n",
       "       '5e02dadaa7e4cd29809e2f8a115f1e5e9c01b29813a1fb9707218804218da32a',\n",
       "       '8593b9db65212160979d946950601c26622a219c80f1f122679eb69ec5b96600',\n",
       "       'b2586a6cef5690b74e9fb425f95f8fb3f1e18a4cdc3225eb2f53534ec3602aee',\n",
       "       '7b7f15f9ffbeb905caaee265ac39d267d0512ab5333f2fa25d523204af13c5a6',\n",
       "       '9b8cc3c63cdf447e463c11544924bf027945cbd29675f77955bb36364356c14e',\n",
       "       'c384826dfbfce62c3fd99a46984a56fe71546a85c2cb6cf12031691b8e038a23',\n",
       "       '11ab03a1a8c367191355c152f39fe28cae5e426fce49efb320230ca4ae3f97a1',\n",
       "       '80bf6cdde4abb4ca65b18dd07ed4f4d7d9c24482eae1fbe58920e0cc2f962388',\n",
       "       '3048eb5bfe958b4978251f2f050525d52ce692835a2f3797866b31f3c9752b8b',\n",
       "       'ae0cdf8a7d21fe6a9acc2008c445cf05fba1c769f1c18c9c2dcf0ff1bc1e8fc4',\n",
       "       '6a5ed83658ef85afc77709cc16ede854ad98e3c2ad8b076e10dcbcd6e5096271',\n",
       "       'e7c90b789fe2a7d164bed8d0a5b547c0285e8cdc8eae72830c0f9445eee19e47',\n",
       "       'd91ab90c3df1a2a978129b8ecc128d41f80ad11642868b620d7625243e3a9fd7',\n",
       "       '9edff2628ff7385bffbe7fc9cae89010d2cb9182e805e146de99e99cd4dfce61',\n",
       "       '6c425048aa7badd9d84615bd8620ca1864efd81cfdb69dcd5d5a94b68013d48d',\n",
       "       '8e640511820503b094264aead5c208218ae233f4d3ce50210937bbf0e448b89c',\n",
       "       '4f00c4593da1a548582b1ebe1b922788912eeae54183458938855b650f9eb681',\n",
       "       '5372372f3bf5896820cb2819300c3e681820d82c6efc548fb07bed3a6c83f451',\n",
       "       'f9bfb92c288658941063ed2dfc7feca398a9df1623a428f5790d9818dc91297f',\n",
       "       '42e535be8863a0253115744dca757cddddfc2f626df4f83ad27d8bf5326b9f0a',\n",
       "       '0a8ad51fea30c29587f61bd8420a49602aa78304833627829cd29d7594ce3c57',\n",
       "       '59edcc61af65e1ccac06dc4a9cde88f9d91b6ef5286b48aeb746031800344705',\n",
       "       'ba04d229e496b8383a4df91f5e77c194a95cf1a069b0b257bca7c51cb108757e',\n",
       "       'cde7276e7bb8fe013aabe5c66fe102b16a54f469f4e7c8d14132fa1c2362b328',\n",
       "       '13d4b96b6ee361b737e22404aeecca45f322ba7d4c2c425b8f31cc85f2d3808a',\n",
       "       '96609fd8f3f86bdb0bb5e08cb0fc79a29f625188b76e2dfccddfb5dd291afdb7',\n",
       "       '50fd531c42d3e81f37a89748dfb4f55e8b741390be428449a8b9bc46582fc91e',\n",
       "       '550067c677cb9cac628844fe16566154143d4a2d3303071513bcd1f7a16e9a0d',\n",
       "       '966f00f82051ba668712a33e25d9a030e83926bdfc328fb5941e68759fff2834',\n",
       "       'b10b2d90901b4bc12e0be2b11196adbd01d5d07b9990ae00b4889099ec57bec3',\n",
       "       '56247fb8d8b053bdfce3027f38a4767920ce6a004df2350c0bcdfbf83fe4a984',\n",
       "       '0200f0d078fcfa701ae188a25bfb1809c9488d72ad1bfdeba59b85c6935690fa',\n",
       "       '013bd8afc3f7e4d042792262278f98673dbd27b86f5d63e0a79935025fada1c0',\n",
       "       '1a36a660bc7459f52a941c4e56806e08a3fa08e0073607b0f5aaa721e1e50824',\n",
       "       '042d522ccd46f987dbe295492815f0464a93b9bec8a06cadd0d9eb250db8fa41',\n",
       "       '11c3146bebbc16a69ad4f33db1dfac6656c2cf1897191a2e5fab8052c2a61953',\n",
       "       'b33bb24f52e4402729bcd39a5385bc93b76375d17600a4451f56806bf80a90dd',\n",
       "       '5bfc2e5513a487037e6abb8404385b6e0a5a1b6a05d038588f9efef0a46c85f1',\n",
       "       '9a16d664dd12c980f570d0fdf9d69653975e75e3b733b717b82e6b165c84f5c4',\n",
       "       'ea5448a55441b4e5209d216c0e5881b15fb32db91d939fb6bcf89ca88493eb3a',\n",
       "       '4c33a0a1bb3e3b148cef55d9939e3638ef40588ad7cfd0493cd4747269701323',\n",
       "       '463816d07097e1a7cf27b86cf03082ee49f6ce2d87663cd27a24d7254a83e76a',\n",
       "       'ea58dc05b968545d016953b84130933e920097afbf34431e837395905d39e0f8',\n",
       "       'b79b3a411c29676f00b94ef20e4e04aae6594760f6d15b31d70330e8d06efd3f',\n",
       "       '4d3c85c82209dd908f56b7bc422b1a0699c1f91ed2b458088a6dd0736eecffb9',\n",
       "       '6299c9fe59ea761003ca6539c274623526294aa0da1ac11696deb4897e8113c8',\n",
       "       '62af713f580cae7ec2757a38cbe2472aea1e1913ae02e413358de47347a94e30',\n",
       "       '3c1def48af45cb9748302f34e57f2cbeb866de95beb0d2d295c38a52b17f0f78'],\n",
       "      dtype='object')"
      ]
     },
     "execution_count": 15,
     "metadata": {},
     "output_type": "execute_result"
    }
   ],
   "source": [
    "source_cities=df['source_city'].value_counts()[df['source_city'].value_counts().values>100].index\n",
    "source_cities"
   ]
  },
  {
   "cell_type": "markdown",
   "id": "bf00c586",
   "metadata": {},
   "source": [
    "# Source"
   ]
  },
  {
   "cell_type": "code",
   "execution_count": 16,
   "id": "83929377",
   "metadata": {
    "scrolled": true
   },
   "outputs": [
    {
     "data": {
      "text/plain": [
       "Index(['7aae3e886e89fc1187a5c47d6cea1c22998ee610ade1f2b7c51be879f0c37ca8',\n",
       "       '7bcfca0e9d73371699b0adbf1c691e02108fa64f02f4dbe24a0217f139a9b916',\n",
       "       'ba2d0a29556ac20f86f45e4543c0825428cba33fd7a9eaa29e3f169d2ca43b2b',\n",
       "       '146fb4ecbe78caa24102bbaac12e2559a8c8e32fb116d36e3553a709fce40549',\n",
       "       'd684761c17c11590f6e2525b48141cb2c0c6f2be5df4e229dae06e64c5c41b64',\n",
       "       '9ba9134a91cfc6b52ac8d480e9ad37896ca4ac216e2d795fdb7d75a63d6c60af',\n",
       "       '9fd09dc33545f9cc19b81ebd0b98c4fd8c66ed1e34de89f4c9a81e6b26dc0d54',\n",
       "       'b2b2a0ecb072ed25f1844a3325a810b85689bcc785ddb40dbdcd50a237e40831',\n",
       "       'ece6174b48090f929b5c750eb652162e2f0861a90b843446eb61318030aea9b3',\n",
       "       '869105a4ce02fc56897c8d7e1eb37736b95e3e826568ae3172eabaf582f69707',\n",
       "       '76b7fd432636403ce93adce5cef7871bc24d064c374493aa098686d0be3df5d3',\n",
       "       'b5d2d728817d666ce97f6944eae23cff0bae5f81b1917b2e3056d73d9f9fd601',\n",
       "       'fce2de0ca752918e030db0b31521693134ecfbf1c32e1402715169aa4bf16086',\n",
       "       'dfe8ecc0693503f620f2aa7496c336d1af968dfdcb214341ddc771eda0fafc36'],\n",
       "      dtype='object')"
      ]
     },
     "execution_count": 16,
     "metadata": {},
     "output_type": "execute_result"
    }
   ],
   "source": [
    "sources=df['source'].value_counts()[df['source'].value_counts().values>100].index\n",
    "sources"
   ]
  },
  {
   "cell_type": "markdown",
   "id": "e549f79c",
   "metadata": {},
   "source": [
    "# utm_source"
   ]
  },
  {
   "cell_type": "markdown",
   "id": "8887feb4",
   "metadata": {},
   "source": [
    "# Marking null utm_source as 'unavailable'"
   ]
  },
  {
   "cell_type": "markdown",
   "id": "fee23879",
   "metadata": {},
   "source": [
    "# function to process dataframe"
   ]
  },
  {
   "cell_type": "code",
   "execution_count": 17,
   "id": "b57575f1",
   "metadata": {},
   "outputs": [],
   "source": [
    "def process_df(df):    \n",
    "    df=df.replace('9b2d5b4678781e53038e91ea5324530a03f27dc1d0e5f6c9bc9d493a23be9de0', np.nan)\n",
    "    \n",
    "    df['budget'].fillna(budget_mode, inplace=True)\n",
    "    df['budget']=df['budget'].apply(assign_budget)\n",
    "    \n",
    "    df['utm_medium'].fillna('unavailable', inplace=True)\n",
    "    \n",
    "    df['lease'].fillna('unavailable', inplace=True)\n",
    "    df['lease']=df['lease'].apply(categorize_lease_term)\n",
    "    \n",
    "    df['des_city'].fillna('unavailable', inplace=True)\n",
    "    df['des_city']=list(map(lambda x: 'Other des cities' if x not in des_cities else x, df['des_city']))\n",
    "    \n",
    "    df['des_country'].fillna('unavailable', inplace=True)\n",
    "    \n",
    "    df['source_city'].fillna('unavailable', inplace=True)\n",
    "    df['source_city']=list(map(lambda x: 'Other Source Cities' if x not in source_cities else x, df['source_city']))\n",
    "    \n",
    "    df['source']=list(map(lambda x: 'Other Sources' if x not in sources else x, df['source']))\n",
    "    df.utm_medium.fillna('unavailable', inplace=True)\n",
    "    \n",
    "    df.room_type.fillna('not_specified', inplace=True)\n",
    "    return df"
   ]
  },
  {
   "cell_type": "code",
   "execution_count": 18,
   "id": "2c9e04de",
   "metadata": {},
   "outputs": [
    {
     "data": {
      "text/plain": [
       "(46307, 15)"
      ]
     },
     "execution_count": 18,
     "metadata": {},
     "output_type": "execute_result"
    }
   ],
   "source": [
    "df.shape"
   ]
  },
  {
   "cell_type": "code",
   "execution_count": 19,
   "id": "4c5558cd",
   "metadata": {},
   "outputs": [],
   "source": [
    "X=df[imp_cols]\n",
    "X=process_df(X)\n",
    "Y=df['status']"
   ]
  },
  {
   "cell_type": "markdown",
   "id": "0af8e515",
   "metadata": {},
   "source": [
    "# Checking independent variables for consistency before training data"
   ]
  },
  {
   "cell_type": "code",
   "execution_count": 20,
   "id": "541204af",
   "metadata": {
    "scrolled": true
   },
   "outputs": [
    {
     "data": {
      "text/plain": [
       "Agent_id       0\n",
       "budget         0\n",
       "lease          0\n",
       "source         0\n",
       "source_city    0\n",
       "utm_medium     0\n",
       "des_city       0\n",
       "des_country    0\n",
       "room_type      0\n",
       "dtype: int64"
      ]
     },
     "execution_count": 20,
     "metadata": {},
     "output_type": "execute_result"
    }
   ],
   "source": [
    "X.isna().sum()"
   ]
  },
  {
   "cell_type": "code",
   "execution_count": 21,
   "id": "b6157a4c",
   "metadata": {},
   "outputs": [
    {
     "data": {
      "text/plain": [
       "Agent_id       120\n",
       "budget           6\n",
       "lease            7\n",
       "source          15\n",
       "source_city     56\n",
       "utm_medium      64\n",
       "des_city        51\n",
       "des_country     15\n",
       "room_type        6\n",
       "dtype: int64"
      ]
     },
     "execution_count": 21,
     "metadata": {},
     "output_type": "execute_result"
    }
   ],
   "source": [
    "X.nunique()"
   ]
  },
  {
   "cell_type": "code",
   "execution_count": 22,
   "id": "c291468d",
   "metadata": {},
   "outputs": [],
   "source": [
    "X=pd.get_dummies(X)\n"
   ]
  },
  {
   "cell_type": "code",
   "execution_count": 23,
   "id": "cff2a01e",
   "metadata": {},
   "outputs": [
    {
     "data": {
      "text/plain": [
       "0    0.93366\n",
       "1    0.06634\n",
       "Name: status, dtype: float64"
      ]
     },
     "execution_count": 23,
     "metadata": {},
     "output_type": "execute_result"
    }
   ],
   "source": [
    "Y.value_counts(1)"
   ]
  },
  {
   "cell_type": "code",
   "execution_count": 24,
   "id": "181c68a9",
   "metadata": {},
   "outputs": [],
   "source": [
    "train_X,test_X,train_y,test_y= train_test_split(X,Y, test_size=0.1, stratify=Y, random_state=22)"
   ]
  },
  {
   "cell_type": "code",
   "execution_count": 25,
   "id": "46330ad4",
   "metadata": {},
   "outputs": [],
   "source": [
    "model_lr=LogisticRegression(max_iter=1000)"
   ]
  },
  {
   "cell_type": "code",
   "execution_count": 26,
   "id": "f699d8bb",
   "metadata": {},
   "outputs": [
    {
     "data": {
      "text/html": [
       "<style>#sk-container-id-1 {color: black;background-color: white;}#sk-container-id-1 pre{padding: 0;}#sk-container-id-1 div.sk-toggleable {background-color: white;}#sk-container-id-1 label.sk-toggleable__label {cursor: pointer;display: block;width: 100%;margin-bottom: 0;padding: 0.3em;box-sizing: border-box;text-align: center;}#sk-container-id-1 label.sk-toggleable__label-arrow:before {content: \"▸\";float: left;margin-right: 0.25em;color: #696969;}#sk-container-id-1 label.sk-toggleable__label-arrow:hover:before {color: black;}#sk-container-id-1 div.sk-estimator:hover label.sk-toggleable__label-arrow:before {color: black;}#sk-container-id-1 div.sk-toggleable__content {max-height: 0;max-width: 0;overflow: hidden;text-align: left;background-color: #f0f8ff;}#sk-container-id-1 div.sk-toggleable__content pre {margin: 0.2em;color: black;border-radius: 0.25em;background-color: #f0f8ff;}#sk-container-id-1 input.sk-toggleable__control:checked~div.sk-toggleable__content {max-height: 200px;max-width: 100%;overflow: auto;}#sk-container-id-1 input.sk-toggleable__control:checked~label.sk-toggleable__label-arrow:before {content: \"▾\";}#sk-container-id-1 div.sk-estimator input.sk-toggleable__control:checked~label.sk-toggleable__label {background-color: #d4ebff;}#sk-container-id-1 div.sk-label input.sk-toggleable__control:checked~label.sk-toggleable__label {background-color: #d4ebff;}#sk-container-id-1 input.sk-hidden--visually {border: 0;clip: rect(1px 1px 1px 1px);clip: rect(1px, 1px, 1px, 1px);height: 1px;margin: -1px;overflow: hidden;padding: 0;position: absolute;width: 1px;}#sk-container-id-1 div.sk-estimator {font-family: monospace;background-color: #f0f8ff;border: 1px dotted black;border-radius: 0.25em;box-sizing: border-box;margin-bottom: 0.5em;}#sk-container-id-1 div.sk-estimator:hover {background-color: #d4ebff;}#sk-container-id-1 div.sk-parallel-item::after {content: \"\";width: 100%;border-bottom: 1px solid gray;flex-grow: 1;}#sk-container-id-1 div.sk-label:hover label.sk-toggleable__label {background-color: #d4ebff;}#sk-container-id-1 div.sk-serial::before {content: \"\";position: absolute;border-left: 1px solid gray;box-sizing: border-box;top: 0;bottom: 0;left: 50%;z-index: 0;}#sk-container-id-1 div.sk-serial {display: flex;flex-direction: column;align-items: center;background-color: white;padding-right: 0.2em;padding-left: 0.2em;position: relative;}#sk-container-id-1 div.sk-item {position: relative;z-index: 1;}#sk-container-id-1 div.sk-parallel {display: flex;align-items: stretch;justify-content: center;background-color: white;position: relative;}#sk-container-id-1 div.sk-item::before, #sk-container-id-1 div.sk-parallel-item::before {content: \"\";position: absolute;border-left: 1px solid gray;box-sizing: border-box;top: 0;bottom: 0;left: 50%;z-index: -1;}#sk-container-id-1 div.sk-parallel-item {display: flex;flex-direction: column;z-index: 1;position: relative;background-color: white;}#sk-container-id-1 div.sk-parallel-item:first-child::after {align-self: flex-end;width: 50%;}#sk-container-id-1 div.sk-parallel-item:last-child::after {align-self: flex-start;width: 50%;}#sk-container-id-1 div.sk-parallel-item:only-child::after {width: 0;}#sk-container-id-1 div.sk-dashed-wrapped {border: 1px dashed gray;margin: 0 0.4em 0.5em 0.4em;box-sizing: border-box;padding-bottom: 0.4em;background-color: white;}#sk-container-id-1 div.sk-label label {font-family: monospace;font-weight: bold;display: inline-block;line-height: 1.2em;}#sk-container-id-1 div.sk-label-container {text-align: center;}#sk-container-id-1 div.sk-container {/* jupyter's `normalize.less` sets `[hidden] { display: none; }` but bootstrap.min.css set `[hidden] { display: none !important; }` so we also need the `!important` here to be able to override the default hidden behavior on the sphinx rendered scikit-learn.org. See: https://github.com/scikit-learn/scikit-learn/issues/21755 */display: inline-block !important;position: relative;}#sk-container-id-1 div.sk-text-repr-fallback {display: none;}</style><div id=\"sk-container-id-1\" class=\"sk-top-container\"><div class=\"sk-text-repr-fallback\"><pre>LogisticRegression(max_iter=1000)</pre><b>In a Jupyter environment, please rerun this cell to show the HTML representation or trust the notebook. <br />On GitHub, the HTML representation is unable to render, please try loading this page with nbviewer.org.</b></div><div class=\"sk-container\" hidden><div class=\"sk-item\"><div class=\"sk-estimator sk-toggleable\"><input class=\"sk-toggleable__control sk-hidden--visually\" id=\"sk-estimator-id-1\" type=\"checkbox\" checked><label for=\"sk-estimator-id-1\" class=\"sk-toggleable__label sk-toggleable__label-arrow\">LogisticRegression</label><div class=\"sk-toggleable__content\"><pre>LogisticRegression(max_iter=1000)</pre></div></div></div></div></div>"
      ],
      "text/plain": [
       "LogisticRegression(max_iter=1000)"
      ]
     },
     "execution_count": 26,
     "metadata": {},
     "output_type": "execute_result"
    }
   ],
   "source": [
    "model_lr.fit(train_X,train_y)"
   ]
  },
  {
   "cell_type": "code",
   "execution_count": 27,
   "id": "89083b6f",
   "metadata": {},
   "outputs": [],
   "source": [
    "y_pred=model_lr.predict(test_X)\n"
   ]
  },
  {
   "cell_type": "code",
   "execution_count": 28,
   "id": "081db1c4",
   "metadata": {},
   "outputs": [
    {
     "name": "stdout",
     "output_type": "stream",
     "text": [
      "              precision    recall  f1-score   support\n",
      "\n",
      "           0       0.94      1.00      0.97      4324\n",
      "           1       0.59      0.03      0.06       307\n",
      "\n",
      "    accuracy                           0.93      4631\n",
      "   macro avg       0.76      0.52      0.51      4631\n",
      "weighted avg       0.91      0.93      0.91      4631\n",
      "\n"
     ]
    }
   ],
   "source": [
    "print(classification_report(test_y,y_pred))"
   ]
  },
  {
   "cell_type": "code",
   "execution_count": 29,
   "id": "89de6d77",
   "metadata": {},
   "outputs": [
    {
     "data": {
      "text/plain": [
       "(0.9343554307924854,\n",
       " 0.5882352941176471,\n",
       " 0.03257328990228013,\n",
       " 0.06172839506172839)"
      ]
     },
     "execution_count": 29,
     "metadata": {},
     "output_type": "execute_result"
    }
   ],
   "source": [
    "accuracy_score(test_y,y_pred),precision_score(test_y,y_pred),recall_score(test_y,y_pred),f1_score(test_y,y_pred)"
   ]
  },
  {
   "cell_type": "markdown",
   "id": "994753af",
   "metadata": {},
   "source": [
    "# Our model is performing badly because of the imbalanced dataset. Upsampling using SMOTE to balance the dataset"
   ]
  },
  {
   "cell_type": "code",
   "execution_count": 30,
   "id": "d1a72f50",
   "metadata": {
    "scrolled": true
   },
   "outputs": [],
   "source": [
    "X=df[imp_cols]\n",
    "X=process_df(X)\n",
    "X=pd.get_dummies(X)\n",
    "y=df['status']\n",
    "from imblearn.over_sampling import SMOTE\n",
    "oversample = SMOTE()\n",
    "\n",
    "X, y = oversample.fit_resample(X, y)"
   ]
  },
  {
   "cell_type": "code",
   "execution_count": 31,
   "id": "2b7b687c",
   "metadata": {},
   "outputs": [
    {
     "data": {
      "text/plain": [
       "(86470, 340)"
      ]
     },
     "execution_count": 31,
     "metadata": {},
     "output_type": "execute_result"
    }
   ],
   "source": [
    "X.shape"
   ]
  },
  {
   "cell_type": "code",
   "execution_count": 32,
   "id": "69518ce4",
   "metadata": {},
   "outputs": [
    {
     "data": {
      "text/plain": [
       "0    43235\n",
       "1    43235\n",
       "Name: status, dtype: int64"
      ]
     },
     "execution_count": 32,
     "metadata": {},
     "output_type": "execute_result"
    }
   ],
   "source": [
    "y.value_counts()"
   ]
  },
  {
   "cell_type": "code",
   "execution_count": 33,
   "id": "2c6a2876",
   "metadata": {},
   "outputs": [
    {
     "name": "stdout",
     "output_type": "stream",
     "text": [
      "              precision    recall  f1-score   support\n",
      "\n",
      "           0       0.93      0.99      0.96      4334\n",
      "           1       0.99      0.92      0.96      4313\n",
      "\n",
      "    accuracy                           0.96      8647\n",
      "   macro avg       0.96      0.96      0.96      8647\n",
      "weighted avg       0.96      0.96      0.96      8647\n",
      "\n"
     ]
    }
   ],
   "source": [
    "train_X,test_X,train_y,test_y=train_test_split(X,y,test_size=0.1, random_state=22)\n",
    "model_lr=LogisticRegression(solver='lbfgs', max_iter=1000)\n",
    "model_lr.fit(train_X,train_y)\n",
    "y_pred=model_lr.predict(test_X)\n",
    "print(classification_report(test_y,y_pred))"
   ]
  },
  {
   "cell_type": "markdown",
   "id": "ab9a7908",
   "metadata": {},
   "source": [
    "# Oversampling has resulted in maximising the performance of our model"
   ]
  },
  {
   "cell_type": "markdown",
   "id": "eead4ba7",
   "metadata": {},
   "source": [
    "# Now we can use the proba function to find out the probability of a client going through the lease and will use the same value as our score to mark our customers"
   ]
  },
  {
   "cell_type": "code",
   "execution_count": 34,
   "id": "1c93d571",
   "metadata": {},
   "outputs": [],
   "source": [
    "df=pd.read_csv('Data_Science_Internship - Dump.csv', index_col=0)"
   ]
  },
  {
   "cell_type": "code",
   "execution_count": 35,
   "id": "79a0e16a",
   "metadata": {},
   "outputs": [],
   "source": [
    "encoded_df=process_df(df)"
   ]
  },
  {
   "cell_type": "code",
   "execution_count": 36,
   "id": "f00abc12",
   "metadata": {},
   "outputs": [
    {
     "data": {
      "text/plain": [
       "Agent_id            120\n",
       "status                6\n",
       "lost_reason          30\n",
       "budget                6\n",
       "lease                 7\n",
       "movein              477\n",
       "source               15\n",
       "source_city          56\n",
       "source_country      185\n",
       "utm_source           34\n",
       "utm_medium           64\n",
       "des_city             51\n",
       "des_country          15\n",
       "room_type             6\n",
       "lead_id           30574\n",
       "dtype: int64"
      ]
     },
     "execution_count": 36,
     "metadata": {},
     "output_type": "execute_result"
    }
   ],
   "source": [
    "encoded_df.nunique()"
   ]
  },
  {
   "cell_type": "code",
   "execution_count": 37,
   "id": "9b187d13",
   "metadata": {},
   "outputs": [],
   "source": [
    "encoded_df=encoded_df[imp_cols]"
   ]
  },
  {
   "cell_type": "code",
   "execution_count": 38,
   "id": "6c66c3e7",
   "metadata": {},
   "outputs": [
    {
     "data": {
      "text/plain": [
       "Agent_id       120\n",
       "budget           6\n",
       "lease            7\n",
       "source          15\n",
       "source_city     56\n",
       "utm_medium      64\n",
       "des_city        51\n",
       "des_country     15\n",
       "room_type        6\n",
       "dtype: int64"
      ]
     },
     "execution_count": 38,
     "metadata": {},
     "output_type": "execute_result"
    }
   ],
   "source": [
    "encoded_df.nunique()"
   ]
  },
  {
   "cell_type": "code",
   "execution_count": 39,
   "id": "29d7ca88",
   "metadata": {},
   "outputs": [],
   "source": [
    "encoded_df=pd.get_dummies(encoded_df)"
   ]
  },
  {
   "cell_type": "code",
   "execution_count": 40,
   "id": "25cc7f63",
   "metadata": {},
   "outputs": [],
   "source": [
    "pred=model_lr.predict_proba(encoded_df)"
   ]
  },
  {
   "cell_type": "code",
   "execution_count": 41,
   "id": "59211e43",
   "metadata": {},
   "outputs": [
    {
     "data": {
      "text/plain": [
       "(46608, 2)"
      ]
     },
     "execution_count": 41,
     "metadata": {},
     "output_type": "execute_result"
    }
   ],
   "source": [
    "pred.shape"
   ]
  },
  {
   "cell_type": "code",
   "execution_count": 42,
   "id": "e497fa09",
   "metadata": {},
   "outputs": [
    {
     "data": {
      "text/plain": [
       "array([[0.99575274, 0.00424726],\n",
       "       [0.95708656, 0.04291344],\n",
       "       [0.89528097, 0.10471903],\n",
       "       ...,\n",
       "       [0.97173862, 0.02826138],\n",
       "       [0.99625954, 0.00374046],\n",
       "       [0.93685679, 0.06314321]])"
      ]
     },
     "execution_count": 42,
     "metadata": {},
     "output_type": "execute_result"
    }
   ],
   "source": [
    "pred"
   ]
  },
  {
   "cell_type": "code",
   "execution_count": 43,
   "id": "b32cf824",
   "metadata": {},
   "outputs": [],
   "source": [
    "df['score']=[round(pred[i][1]*100,2) for i in range(pred.shape[0])]"
   ]
  },
  {
   "cell_type": "code",
   "execution_count": 44,
   "id": "ce842f15",
   "metadata": {},
   "outputs": [
    {
     "data": {
      "text/plain": [
       "0         0.42\n",
       "1         4.29\n",
       "2        10.47\n",
       "3        12.10\n",
       "4         1.13\n",
       "         ...  \n",
       "46603     1.23\n",
       "46604     2.19\n",
       "46605     2.83\n",
       "46606     0.37\n",
       "46607     6.31\n",
       "Name: score, Length: 46608, dtype: float64"
      ]
     },
     "execution_count": 44,
     "metadata": {},
     "output_type": "execute_result"
    }
   ],
   "source": [
    "df.score"
   ]
  },
  {
   "cell_type": "code",
   "execution_count": 45,
   "id": "922f101c",
   "metadata": {},
   "outputs": [
    {
     "name": "stdout",
     "output_type": "stream",
     "text": [
      "Minimum score:0.0, Maximum score:90.23\n"
     ]
    }
   ],
   "source": [
    "print(\"Minimum score:{}, Maximum score:{}\".format(min(df.score), max(df.score)))"
   ]
  },
  {
   "cell_type": "code",
   "execution_count": 46,
   "id": "aa4c1af7",
   "metadata": {},
   "outputs": [],
   "source": [
    "df.to_excel('result.xlsx', index=0)"
   ]
  },
  {
   "cell_type": "code",
   "execution_count": null,
   "id": "1b143101",
   "metadata": {},
   "outputs": [],
   "source": []
  }
 ],
 "metadata": {
  "kernelspec": {
   "display_name": "Python 3 (ipykernel)",
   "language": "python",
   "name": "python3"
  },
  "language_info": {
   "codemirror_mode": {
    "name": "ipython",
    "version": 3
   },
   "file_extension": ".py",
   "mimetype": "text/x-python",
   "name": "python",
   "nbconvert_exporter": "python",
   "pygments_lexer": "ipython3",
   "version": "3.9.7"
  }
 },
 "nbformat": 4,
 "nbformat_minor": 5
}
