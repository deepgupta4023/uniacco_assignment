{
 "cells": [
  {
   "cell_type": "markdown",
   "id": "5a5d2b2b",
   "metadata": {},
   "source": [
    "# Importing necessary modules"
   ]
  },
  {
   "cell_type": "code",
   "execution_count": 79,
   "id": "db923e92",
   "metadata": {},
   "outputs": [],
   "source": [
    "import pandas as pd\n",
    "import numpy as np\n",
    "import seaborn as sns\n",
    "import matplotlib.pyplot as plt\n",
    "import re\n",
    "import math\n",
    "from sklearn.preprocessing import LabelEncoder\n",
    "from sklearn.linear_model import LogisticRegression\n",
    "from sklearn.model_selection import train_test_split\n",
    "from sklearn.metrics import classification_report,accuracy_score,precision_score,recall_score,f1_score\n",
    "%matplotlib inline"
   ]
  },
  {
   "cell_type": "markdown",
   "id": "94f27901",
   "metadata": {},
   "source": [
    "# Reading the dataset"
   ]
  },
  {
   "cell_type": "code",
   "execution_count": 36,
   "id": "4473c766",
   "metadata": {},
   "outputs": [],
   "source": [
    "df=pd.read_csv('Data_Science_Internship - Dump.csv', index_col=0)"
   ]
  },
  {
   "cell_type": "code",
   "execution_count": 37,
   "id": "7450dd83",
   "metadata": {},
   "outputs": [
    {
     "data": {
      "text/html": [
       "<div>\n",
       "<style scoped>\n",
       "    .dataframe tbody tr th:only-of-type {\n",
       "        vertical-align: middle;\n",
       "    }\n",
       "\n",
       "    .dataframe tbody tr th {\n",
       "        vertical-align: top;\n",
       "    }\n",
       "\n",
       "    .dataframe thead th {\n",
       "        text-align: right;\n",
       "    }\n",
       "</style>\n",
       "<table border=\"1\" class=\"dataframe\">\n",
       "  <thead>\n",
       "    <tr style=\"text-align: right;\">\n",
       "      <th></th>\n",
       "      <th>Agent_id</th>\n",
       "      <th>status</th>\n",
       "      <th>lost_reason</th>\n",
       "      <th>budget</th>\n",
       "      <th>lease</th>\n",
       "      <th>movein</th>\n",
       "      <th>source</th>\n",
       "      <th>source_city</th>\n",
       "      <th>source_country</th>\n",
       "      <th>utm_source</th>\n",
       "      <th>utm_medium</th>\n",
       "      <th>des_city</th>\n",
       "      <th>des_country</th>\n",
       "      <th>room_type</th>\n",
       "      <th>lead_id</th>\n",
       "    </tr>\n",
       "  </thead>\n",
       "  <tbody>\n",
       "    <tr>\n",
       "      <th>0</th>\n",
       "      <td>1deba9e96f404694373de9749ddd1ca8aa7bb823145a6f...</td>\n",
       "      <td>LOST</td>\n",
       "      <td>Not responding</td>\n",
       "      <td>NaN</td>\n",
       "      <td>NaN</td>\n",
       "      <td>NaN</td>\n",
       "      <td>9b2d5b4678781e53038e91ea5324530a03f27dc1d0e5f6...</td>\n",
       "      <td>9b2d5b4678781e53038e91ea5324530a03f27dc1d0e5f6...</td>\n",
       "      <td>9b2d5b4678781e53038e91ea5324530a03f27dc1d0e5f6...</td>\n",
       "      <td>3d59f7548e1af2151b64135003ce63c0a484c26b9b8b16...</td>\n",
       "      <td>268ad70eb5bc4737a2ae28162cbca30118cc94520e49ef...</td>\n",
       "      <td>ecc0e7dc084f141b29479058967d0bc07dee25d9690a98...</td>\n",
       "      <td>8d23a6e37e0a6431a8f1b43a91026dcff51170a89a6512...</td>\n",
       "      <td>NaN</td>\n",
       "      <td>cd5dc0d9393f3980d11d4ba6f88f8110c2b7a7f7796307...</td>\n",
       "    </tr>\n",
       "    <tr>\n",
       "      <th>1</th>\n",
       "      <td>299ae77a4ef350ae0dd37d6bba1c002d03444fb1edb236...</td>\n",
       "      <td>LOST</td>\n",
       "      <td>Low budget</td>\n",
       "      <td>NaN</td>\n",
       "      <td>NaN</td>\n",
       "      <td>NaN</td>\n",
       "      <td>9b2d5b4678781e53038e91ea5324530a03f27dc1d0e5f6...</td>\n",
       "      <td>9b2d5b4678781e53038e91ea5324530a03f27dc1d0e5f6...</td>\n",
       "      <td>9b2d5b4678781e53038e91ea5324530a03f27dc1d0e5f6...</td>\n",
       "      <td>3d59f7548e1af2151b64135003ce63c0a484c26b9b8b16...</td>\n",
       "      <td>268ad70eb5bc4737a2ae28162cbca30118cc94520e49ef...</td>\n",
       "      <td>5372372f3bf5896820cb2819300c3e681820d82c6efc54...</td>\n",
       "      <td>8d23a6e37e0a6431a8f1b43a91026dcff51170a89a6512...</td>\n",
       "      <td>NaN</td>\n",
       "      <td>b94693673a5f7178d1b114e4004ad52377d3244dd24a3d...</td>\n",
       "    </tr>\n",
       "    <tr>\n",
       "      <th>2</th>\n",
       "      <td>c213697430c006013012dd2aca82dd9732aa0a1a6bca13...</td>\n",
       "      <td>LOST</td>\n",
       "      <td>Not responding</td>\n",
       "      <td>£121 - £180 Per Week</td>\n",
       "      <td>Full Year Course Stay 40 - 44 weeks</td>\n",
       "      <td>31/08/22</td>\n",
       "      <td>7aae3e886e89fc1187a5c47d6cea1c22998ee610ade1f2...</td>\n",
       "      <td>9b8cc3c63cdf447e463c11544924bf027945cbd29675f7...</td>\n",
       "      <td>e09e10e67812e9d236ad900e5d46b4308fc62f5d69446a...</td>\n",
       "      <td>bbdefa2950f49882f295b1285d4fa9dec45fc4144bfb07...</td>\n",
       "      <td>09076eb7665d1fb9389c7c4517fee0b00e43092eb34821...</td>\n",
       "      <td>11ab03a1a8c367191355c152f39fe28cae5e426fce49ef...</td>\n",
       "      <td>8d23a6e37e0a6431a8f1b43a91026dcff51170a89a6512...</td>\n",
       "      <td>Ensuite</td>\n",
       "      <td>96ea4e2bf04496c044745938c0299c264c3f4ba079e572...</td>\n",
       "    </tr>\n",
       "    <tr>\n",
       "      <th>3</th>\n",
       "      <td>eac9815a500f908736d303e23aa227f0957177b0e6756b...</td>\n",
       "      <td>LOST</td>\n",
       "      <td>Low budget</td>\n",
       "      <td>0-0</td>\n",
       "      <td>0</td>\n",
       "      <td>NaN</td>\n",
       "      <td>ba2d0a29556ac20f86f45e4543c0825428cba33fd7a9ea...</td>\n",
       "      <td>a5f0d2d08eb0592087e3a3a2f9c1ba2c67cc30f2efd2bd...</td>\n",
       "      <td>e09e10e67812e9d236ad900e5d46b4308fc62f5d69446a...</td>\n",
       "      <td>bbdefa2950f49882f295b1285d4fa9dec45fc4144bfb07...</td>\n",
       "      <td>09076eb7665d1fb9389c7c4517fee0b00e43092eb34821...</td>\n",
       "      <td>19372fa44c57a01c37a5a8418779ca3d99b0b59731fb35...</td>\n",
       "      <td>8d23a6e37e0a6431a8f1b43a91026dcff51170a89a6512...</td>\n",
       "      <td>NaN</td>\n",
       "      <td>1d2b34d8add02a182a4129023766ca4585a8ddced0e5b3...</td>\n",
       "    </tr>\n",
       "    <tr>\n",
       "      <th>4</th>\n",
       "      <td>1deba9e96f404694373de9749ddd1ca8aa7bb823145a6f...</td>\n",
       "      <td>LOST</td>\n",
       "      <td>Junk lead</td>\n",
       "      <td>NaN</td>\n",
       "      <td>NaN</td>\n",
       "      <td>NaN</td>\n",
       "      <td>9b2d5b4678781e53038e91ea5324530a03f27dc1d0e5f6...</td>\n",
       "      <td>9b2d5b4678781e53038e91ea5324530a03f27dc1d0e5f6...</td>\n",
       "      <td>9b2d5b4678781e53038e91ea5324530a03f27dc1d0e5f6...</td>\n",
       "      <td>3d59f7548e1af2151b64135003ce63c0a484c26b9b8b16...</td>\n",
       "      <td>268ad70eb5bc4737a2ae28162cbca30118cc94520e49ef...</td>\n",
       "      <td>9b2d5b4678781e53038e91ea5324530a03f27dc1d0e5f6...</td>\n",
       "      <td>9b2d5b4678781e53038e91ea5324530a03f27dc1d0e5f6...</td>\n",
       "      <td>NaN</td>\n",
       "      <td>fc10fffd29cfbe93c55158fb47752a7501c211d253468c...</td>\n",
       "    </tr>\n",
       "  </tbody>\n",
       "</table>\n",
       "</div>"
      ],
      "text/plain": [
       "                                            Agent_id status     lost_reason  \\\n",
       "0  1deba9e96f404694373de9749ddd1ca8aa7bb823145a6f...   LOST  Not responding   \n",
       "1  299ae77a4ef350ae0dd37d6bba1c002d03444fb1edb236...   LOST      Low budget   \n",
       "2  c213697430c006013012dd2aca82dd9732aa0a1a6bca13...   LOST  Not responding   \n",
       "3  eac9815a500f908736d303e23aa227f0957177b0e6756b...   LOST      Low budget   \n",
       "4  1deba9e96f404694373de9749ddd1ca8aa7bb823145a6f...   LOST       Junk lead   \n",
       "\n",
       "                 budget                                lease    movein  \\\n",
       "0                   NaN                                  NaN       NaN   \n",
       "1                   NaN                                  NaN       NaN   \n",
       "2  £121 - £180 Per Week  Full Year Course Stay 40 - 44 weeks  31/08/22   \n",
       "3                   0-0                                    0       NaN   \n",
       "4                   NaN                                  NaN       NaN   \n",
       "\n",
       "                                              source  \\\n",
       "0  9b2d5b4678781e53038e91ea5324530a03f27dc1d0e5f6...   \n",
       "1  9b2d5b4678781e53038e91ea5324530a03f27dc1d0e5f6...   \n",
       "2  7aae3e886e89fc1187a5c47d6cea1c22998ee610ade1f2...   \n",
       "3  ba2d0a29556ac20f86f45e4543c0825428cba33fd7a9ea...   \n",
       "4  9b2d5b4678781e53038e91ea5324530a03f27dc1d0e5f6...   \n",
       "\n",
       "                                         source_city  \\\n",
       "0  9b2d5b4678781e53038e91ea5324530a03f27dc1d0e5f6...   \n",
       "1  9b2d5b4678781e53038e91ea5324530a03f27dc1d0e5f6...   \n",
       "2  9b8cc3c63cdf447e463c11544924bf027945cbd29675f7...   \n",
       "3  a5f0d2d08eb0592087e3a3a2f9c1ba2c67cc30f2efd2bd...   \n",
       "4  9b2d5b4678781e53038e91ea5324530a03f27dc1d0e5f6...   \n",
       "\n",
       "                                      source_country  \\\n",
       "0  9b2d5b4678781e53038e91ea5324530a03f27dc1d0e5f6...   \n",
       "1  9b2d5b4678781e53038e91ea5324530a03f27dc1d0e5f6...   \n",
       "2  e09e10e67812e9d236ad900e5d46b4308fc62f5d69446a...   \n",
       "3  e09e10e67812e9d236ad900e5d46b4308fc62f5d69446a...   \n",
       "4  9b2d5b4678781e53038e91ea5324530a03f27dc1d0e5f6...   \n",
       "\n",
       "                                          utm_source  \\\n",
       "0  3d59f7548e1af2151b64135003ce63c0a484c26b9b8b16...   \n",
       "1  3d59f7548e1af2151b64135003ce63c0a484c26b9b8b16...   \n",
       "2  bbdefa2950f49882f295b1285d4fa9dec45fc4144bfb07...   \n",
       "3  bbdefa2950f49882f295b1285d4fa9dec45fc4144bfb07...   \n",
       "4  3d59f7548e1af2151b64135003ce63c0a484c26b9b8b16...   \n",
       "\n",
       "                                          utm_medium  \\\n",
       "0  268ad70eb5bc4737a2ae28162cbca30118cc94520e49ef...   \n",
       "1  268ad70eb5bc4737a2ae28162cbca30118cc94520e49ef...   \n",
       "2  09076eb7665d1fb9389c7c4517fee0b00e43092eb34821...   \n",
       "3  09076eb7665d1fb9389c7c4517fee0b00e43092eb34821...   \n",
       "4  268ad70eb5bc4737a2ae28162cbca30118cc94520e49ef...   \n",
       "\n",
       "                                            des_city  \\\n",
       "0  ecc0e7dc084f141b29479058967d0bc07dee25d9690a98...   \n",
       "1  5372372f3bf5896820cb2819300c3e681820d82c6efc54...   \n",
       "2  11ab03a1a8c367191355c152f39fe28cae5e426fce49ef...   \n",
       "3  19372fa44c57a01c37a5a8418779ca3d99b0b59731fb35...   \n",
       "4  9b2d5b4678781e53038e91ea5324530a03f27dc1d0e5f6...   \n",
       "\n",
       "                                         des_country room_type  \\\n",
       "0  8d23a6e37e0a6431a8f1b43a91026dcff51170a89a6512...       NaN   \n",
       "1  8d23a6e37e0a6431a8f1b43a91026dcff51170a89a6512...       NaN   \n",
       "2  8d23a6e37e0a6431a8f1b43a91026dcff51170a89a6512...   Ensuite   \n",
       "3  8d23a6e37e0a6431a8f1b43a91026dcff51170a89a6512...       NaN   \n",
       "4  9b2d5b4678781e53038e91ea5324530a03f27dc1d0e5f6...       NaN   \n",
       "\n",
       "                                             lead_id  \n",
       "0  cd5dc0d9393f3980d11d4ba6f88f8110c2b7a7f7796307...  \n",
       "1  b94693673a5f7178d1b114e4004ad52377d3244dd24a3d...  \n",
       "2  96ea4e2bf04496c044745938c0299c264c3f4ba079e572...  \n",
       "3  1d2b34d8add02a182a4129023766ca4585a8ddced0e5b3...  \n",
       "4  fc10fffd29cfbe93c55158fb47752a7501c211d253468c...  "
      ]
     },
     "execution_count": 37,
     "metadata": {},
     "output_type": "execute_result"
    }
   ],
   "source": [
    "df.head()"
   ]
  },
  {
   "cell_type": "code",
   "execution_count": 38,
   "id": "97c56d93",
   "metadata": {},
   "outputs": [
    {
     "data": {
      "text/plain": [
       "Agent_id          object\n",
       "status            object\n",
       "lost_reason       object\n",
       "budget            object\n",
       "lease             object\n",
       "movein            object\n",
       "source            object\n",
       "source_city       object\n",
       "source_country    object\n",
       "utm_source        object\n",
       "utm_medium        object\n",
       "des_city          object\n",
       "des_country       object\n",
       "room_type         object\n",
       "lead_id           object\n",
       "dtype: object"
      ]
     },
     "execution_count": 38,
     "metadata": {},
     "output_type": "execute_result"
    }
   ],
   "source": [
    "df.dtypes"
   ]
  },
  {
   "cell_type": "markdown",
   "id": "e47a3f3f",
   "metadata": {},
   "source": [
    "Notes: '9b2d5b4678781e53038e91ea5324530a03f27dc1d0e5f6c9bc9d493a23be9de0' represents NaN "
   ]
  },
  {
   "cell_type": "code",
   "execution_count": 39,
   "id": "f1e9d53c",
   "metadata": {},
   "outputs": [],
   "source": [
    "df=df.replace('9b2d5b4678781e53038e91ea5324530a03f27dc1d0e5f6c9bc9d493a23be9de0', np.nan)"
   ]
  },
  {
   "cell_type": "code",
   "execution_count": 40,
   "id": "7265ab1b",
   "metadata": {},
   "outputs": [
    {
     "data": {
      "text/plain": [
       "Agent_id              0\n",
       "status                0\n",
       "lost_reason        3364\n",
       "budget             3700\n",
       "lease              2341\n",
       "movein            13638\n",
       "source             5977\n",
       "source_city        8851\n",
       "source_country     8641\n",
       "utm_source           61\n",
       "utm_medium         3187\n",
       "des_city           2537\n",
       "des_country        2537\n",
       "room_type         23547\n",
       "lead_id               0\n",
       "dtype: int64"
      ]
     },
     "execution_count": 40,
     "metadata": {},
     "output_type": "execute_result"
    }
   ],
   "source": [
    "df.isna().sum()"
   ]
  },
  {
   "cell_type": "markdown",
   "id": "9ec84f6c",
   "metadata": {},
   "source": [
    "Note: The leads with STATUS other than ‘WON’ or ‘LOST’ can be dropped during training."
   ]
  },
  {
   "cell_type": "code",
   "execution_count": 41,
   "id": "b7522030",
   "metadata": {
    "scrolled": true
   },
   "outputs": [
    {
     "data": {
      "text/plain": [
       "array(['LOST', 'WON', 'OPPORTUNITY', 'CONTACTED', 'PROCESSING',\n",
       "       'IMPORTANT'], dtype=object)"
      ]
     },
     "execution_count": 41,
     "metadata": {},
     "output_type": "execute_result"
    }
   ],
   "source": [
    "df.status.unique()"
   ]
  },
  {
   "cell_type": "markdown",
   "id": "c832aec2",
   "metadata": {},
   "source": [
    "# Removing records that have other records other than 'won' and 'lost'"
   ]
  },
  {
   "cell_type": "code",
   "execution_count": 42,
   "id": "13872daa",
   "metadata": {},
   "outputs": [],
   "source": [
    "df=df[(df.status =='LOST')|( df.status=='WON')]"
   ]
  },
  {
   "cell_type": "markdown",
   "id": "26a2bd44",
   "metadata": {},
   "source": [
    "# Manually Label Encoding Target Variable"
   ]
  },
  {
   "cell_type": "code",
   "execution_count": 43,
   "id": "e6fea528",
   "metadata": {},
   "outputs": [],
   "source": [
    "df['status']=list(map(lambda x: 1 if x=='WON' else 0, df['status']))"
   ]
  },
  {
   "cell_type": "code",
   "execution_count": 44,
   "id": "0ac62790",
   "metadata": {},
   "outputs": [
    {
     "data": {
      "text/plain": [
       "(46317, 15)"
      ]
     },
     "execution_count": 44,
     "metadata": {},
     "output_type": "execute_result"
    }
   ],
   "source": [
    "df.shape"
   ]
  },
  {
   "cell_type": "markdown",
   "id": "e79646d0",
   "metadata": {},
   "source": [
    "# Dropping duplicates"
   ]
  },
  {
   "cell_type": "code",
   "execution_count": 45,
   "id": "c1f84d4c",
   "metadata": {},
   "outputs": [],
   "source": [
    "df=df.drop_duplicates()"
   ]
  },
  {
   "cell_type": "code",
   "execution_count": 46,
   "id": "ec7f5806",
   "metadata": {},
   "outputs": [
    {
     "data": {
      "text/plain": [
       "(46307, 15)"
      ]
     },
     "execution_count": 46,
     "metadata": {},
     "output_type": "execute_result"
    }
   ],
   "source": [
    "df.shape"
   ]
  },
  {
   "cell_type": "markdown",
   "id": "d739e52e",
   "metadata": {},
   "source": [
    "# Inspect columns"
   ]
  },
  {
   "cell_type": "code",
   "execution_count": 47,
   "id": "0a285439",
   "metadata": {},
   "outputs": [
    {
     "data": {
      "text/plain": [
       "Index(['Agent_id', 'status', 'lost_reason', 'budget', 'lease', 'movein',\n",
       "       'source', 'source_city', 'source_country', 'utm_source', 'utm_medium',\n",
       "       'des_city', 'des_country', 'room_type', 'lead_id'],\n",
       "      dtype='object')"
      ]
     },
     "execution_count": 47,
     "metadata": {},
     "output_type": "execute_result"
    }
   ],
   "source": [
    "df.columns"
   ]
  },
  {
   "cell_type": "markdown",
   "id": "f7e3eaf4",
   "metadata": {},
   "source": [
    "'Agent_id': Unique Identifier of Agent responsible for dealing with the client, \n",
    "\n",
    "'status': Present status of the lead, \n",
    "\n",
    "'lost_reason': Reason why they lost the lead, \n",
    "\n",
    "'budget': Budget of the lead, \n",
    "\n",
    "'lease': Lease duration lead is willing to engage in (assuming the numbers without any text represent weeks), \n",
    "\n",
    "'movein': Move in date ,\n",
    "\n",
    "'source', 'source_city', 'source_country', : Source address of the lead\n",
    "\n",
    "'utm_source', 'utm_medium',\n",
    "       \n",
    " 'des_city', 'des_country': address where the lead is about to move in, \n",
    " \n",
    " 'room_type': type of room lead is interested in, \n",
    " \n",
    " 'lead_id': unique identifier of a lead"
   ]
  },
  {
   "cell_type": "markdown",
   "id": "14e3739c",
   "metadata": {},
   "source": [
    "# check number of unique values"
   ]
  },
  {
   "cell_type": "code",
   "execution_count": 48,
   "id": "12320f82",
   "metadata": {},
   "outputs": [
    {
     "data": {
      "text/plain": [
       "Agent_id            120\n",
       "status                2\n",
       "lost_reason          30\n",
       "budget             1851\n",
       "lease               311\n",
       "movein              469\n",
       "source              682\n",
       "source_city        4315\n",
       "source_country      184\n",
       "utm_source           34\n",
       "utm_medium           63\n",
       "des_city            219\n",
       "des_country          14\n",
       "room_type             5\n",
       "lead_id           30491\n",
       "dtype: int64"
      ]
     },
     "execution_count": 48,
     "metadata": {},
     "output_type": "execute_result"
    }
   ],
   "source": [
    "df.nunique()"
   ]
  },
  {
   "cell_type": "markdown",
   "id": "926e91f4",
   "metadata": {},
   "source": [
    "# Distribution of target variable"
   ]
  },
  {
   "cell_type": "code",
   "execution_count": 49,
   "id": "28b69ac3",
   "metadata": {
    "scrolled": true
   },
   "outputs": [
    {
     "data": {
      "text/plain": [
       "<AxesSubplot:xlabel='status', ylabel='count'>"
      ]
     },
     "execution_count": 49,
     "metadata": {},
     "output_type": "execute_result"
    },
    {
     "data": {
      "image/png": "[encoded data removed]",
      "text/plain": [
       "<Figure size 432x288 with 1 Axes>"
      ]
     },
     "metadata": {
      "needs_background": "light"
     },
     "output_type": "display_data"
    }
   ],
   "source": [
    "sns.countplot(data=df,x='status')"
   ]
  },
  {
   "cell_type": "markdown",
   "id": "b8916ed5",
   "metadata": {},
   "source": [
    "# Plan of action\n",
    "\n",
    "we are going to create a logistic regression model that can classify our records into WON or LOST. and we can use it to give us a probability which we can use for Lead Score"
   ]
  },
  {
   "cell_type": "markdown",
   "id": "d4b6c7ff",
   "metadata": {},
   "source": [
    "# Hypothesis\n",
    "1. Some agents might have better success rate than others\n",
    "2. budget might be a strong reason for a lead to final the deal or not\n",
    "3. lease and des_city might be a influential factor in deciding to forward with a deal or not\n",
    "4. room type may also be a reason when combined with budget"
   ]
  },
  {
   "cell_type": "markdown",
   "id": "097e43f6",
   "metadata": {},
   "source": [
    "# As the dataset is imbalanced, Separating dataset into majority and minority"
   ]
  },
  {
   "cell_type": "code",
   "execution_count": 50,
   "id": "433270e4",
   "metadata": {},
   "outputs": [],
   "source": [
    "df_majority=df[df.status==0]\n",
    "df_minority=df[df.status==1]"
   ]
  },
  {
   "cell_type": "code",
   "execution_count": 51,
   "id": "8859e6de",
   "metadata": {
    "scrolled": true
   },
   "outputs": [
    {
     "name": "stdout",
     "output_type": "stream",
     "text": [
      "\n",
      " Agent_id \n",
      " majority dataset:120\n",
      " minority_dataset:73\n",
      "\n",
      " status \n",
      " majority dataset:1\n",
      " minority_dataset:1\n",
      "\n",
      " lost_reason \n",
      " majority dataset:30\n",
      " minority_dataset:0\n",
      "\n",
      " budget \n",
      " majority dataset:1769\n",
      " minority_dataset:346\n",
      "\n",
      " lease \n",
      " majority dataset:301\n",
      " minority_dataset:77\n",
      "\n",
      " movein \n",
      " majority dataset:466\n",
      " minority_dataset:124\n",
      "\n",
      " source \n",
      " majority dataset:637\n",
      " minority_dataset:168\n",
      "\n",
      " source_city \n",
      " majority dataset:4191\n",
      " minority_dataset:779\n",
      "\n",
      " source_country \n",
      " majority dataset:182\n",
      " minority_dataset:105\n",
      "\n",
      " utm_source \n",
      " majority dataset:32\n",
      " minority_dataset:23\n",
      "\n",
      " utm_medium \n",
      " majority dataset:62\n",
      " minority_dataset:30\n",
      "\n",
      " des_city \n",
      " majority dataset:219\n",
      " minority_dataset:60\n",
      "\n",
      " des_country \n",
      " majority dataset:14\n",
      " minority_dataset:5\n",
      "\n",
      " room_type \n",
      " majority dataset:5\n",
      " minority_dataset:3\n",
      "\n",
      " lead_id \n",
      " majority dataset:29425\n",
      " minority_dataset:3005\n"
     ]
    }
   ],
   "source": [
    "cols=df.columns\n",
    "for col in cols:\n",
    "    print('\\n',col,'\\n', 'majority dataset',end=\":\")\n",
    "    print(df_majority[col].nunique())\n",
    "    print(' minority_dataset',end=\":\")\n",
    "    print(df_minority[col].nunique())"
   ]
  },
  {
   "cell_type": "markdown",
   "id": "ef1a5526",
   "metadata": {},
   "source": [
    "# columns to consider\n",
    "1. Agent_id\n",
    "2. Budget\n",
    "3. Lease\n",
    "4. source_city\n",
    "5. utm_medium\n",
    "6. des_city\n",
    "7. des_country\n",
    "5. room_type"
   ]
  },
  {
   "cell_type": "code",
   "execution_count": 52,
   "id": "0dcc4a3b",
   "metadata": {},
   "outputs": [
    {
     "data": {
      "text/html": [
       "<div>\n",
       "<style scoped>\n",
       "    .dataframe tbody tr th:only-of-type {\n",
       "        vertical-align: middle;\n",
       "    }\n",
       "\n",
       "    .dataframe tbody tr th {\n",
       "        vertical-align: top;\n",
       "    }\n",
       "\n",
       "    .dataframe thead th {\n",
       "        text-align: right;\n",
       "    }\n",
       "</style>\n",
       "<table border=\"1\" class=\"dataframe\">\n",
       "  <thead>\n",
       "    <tr style=\"text-align: right;\">\n",
       "      <th></th>\n",
       "      <th>Agent_id</th>\n",
       "      <th>status</th>\n",
       "      <th>lost_reason</th>\n",
       "      <th>budget</th>\n",
       "      <th>lease</th>\n",
       "      <th>movein</th>\n",
       "      <th>source</th>\n",
       "      <th>source_city</th>\n",
       "      <th>source_country</th>\n",
       "      <th>utm_source</th>\n",
       "      <th>utm_medium</th>\n",
       "      <th>des_city</th>\n",
       "      <th>des_country</th>\n",
       "      <th>room_type</th>\n",
       "      <th>lead_id</th>\n",
       "    </tr>\n",
       "  </thead>\n",
       "  <tbody>\n",
       "  </tbody>\n",
       "</table>\n",
       "</div>"
      ],
      "text/plain": [
       "Empty DataFrame\n",
       "Columns: [Agent_id, status, lost_reason, budget, lease, movein, source, source_city, source_country, utm_source, utm_medium, des_city, des_country, room_type, lead_id]\n",
       "Index: []"
      ]
     },
     "execution_count": 52,
     "metadata": {},
     "output_type": "execute_result"
    }
   ],
   "source": [
    "df[(df.status==1) & (df.lost_reason.isna()==False)]"
   ]
  },
  {
   "cell_type": "markdown",
   "id": "cdd00483",
   "metadata": {},
   "source": [
    "# Candidates with status as WON has  NULL in lost_reason it is a calssic case of causation and nor correlation. So even though this column is highly related we will discard it in training our model"
   ]
  },
  {
   "cell_type": "code",
   "execution_count": 53,
   "id": "6a762ed3",
   "metadata": {},
   "outputs": [
    {
     "data": {
      "text/plain": [
       "£60 - £120 Per week     9750\n",
       "£121 - £180 Per Week    8878\n",
       "0-0                     5719\n",
       "£181 - £240 Per Week    2143\n",
       "100                     1509\n",
       "                        ... \n",
       "0-80-100$                  1\n",
       "0-235                      1\n",
       "£120-160 Per Week          1\n",
       "1400 per month             1\n",
       "0-500 PCM                  1\n",
       "Name: budget, Length: 1851, dtype: int64"
      ]
     },
     "execution_count": 53,
     "metadata": {},
     "output_type": "execute_result"
    }
   ],
   "source": [
    "df.budget.value_counts()"
   ]
  },
  {
   "cell_type": "code",
   "execution_count": 54,
   "id": "faaaf36f",
   "metadata": {},
   "outputs": [
    {
     "data": {
      "text/plain": [
       "0    0.92825\n",
       "1    0.07175\n",
       "Name: status, dtype: float64"
      ]
     },
     "execution_count": 54,
     "metadata": {},
     "output_type": "execute_result"
    }
   ],
   "source": [
    "df[df.budget=='£121 - £180 Per Week'].status.value_counts(1)"
   ]
  },
  {
   "cell_type": "code",
   "execution_count": 55,
   "id": "4bfe6d3a",
   "metadata": {
    "scrolled": true
   },
   "outputs": [
    {
     "data": {
      "text/plain": [
       "£60 - £120 Per week     9750\n",
       "£121 - £180 Per Week    8878\n",
       "0-0                     5719\n",
       "£181 - £240 Per Week    2143\n",
       "100                     1509\n",
       "150                     1086\n",
       "£241 - £300 Per week     709\n",
       "> 300£ Per Week          693\n",
       "200                      643\n",
       "120                      549\n",
       "130                      417\n",
       "160                      385\n",
       "110                      377\n",
       "180                      359\n",
       "140                      358\n",
       "250                      314\n",
       "170                      288\n",
       "500                      276\n",
       "300                      268\n",
       "190                      223\n",
       "0-100                    217\n",
       "220                      144\n",
       "80                       119\n",
       "0-150                    110\n",
       "60                       109\n",
       "90                       103\n",
       "210                       99\n",
       "230                       99\n",
       "450                       94\n",
       "350                       85\n",
       "0-120                     80\n",
       "125                       73\n",
       "280                       72\n",
       "400                       72\n",
       "0-130                     69\n",
       "175                       69\n",
       "70                        68\n",
       "260                       66\n",
       "0-200                     65\n",
       "165                       62\n",
       "0-110                     60\n",
       "240                       60\n",
       "0-140                     59\n",
       "135                       57\n",
       "99                        57\n",
       "145                       56\n",
       "294                       52\n",
       "155                       52\n",
       "Name: budget, dtype: int64"
      ]
     },
     "execution_count": 55,
     "metadata": {},
     "output_type": "execute_result"
    }
   ],
   "source": [
    "df.budget.value_counts()[df.budget.value_counts().values>50]"
   ]
  },
  {
   "cell_type": "markdown",
   "id": "576fa44c",
   "metadata": {},
   "source": [
    "# budget column "
   ]
  },
  {
   "cell_type": "code",
   "execution_count": 56,
   "id": "796e1bbd",
   "metadata": {},
   "outputs": [],
   "source": [
    "def assign_budget(budget):\n",
    "    nums=[]\n",
    "    \n",
    "    if budget=='unavailable':\n",
    "        return('unavailable')\n",
    "    temp=re.findall('\\d*',budget)\n",
    "    \n",
    "    \n",
    "    for item in temp:\n",
    "        if item!='':\n",
    "            nums.append(int(item))\n",
    "            \n",
    "    if len(nums)==0:\n",
    "        return '0-60'\n",
    "           \n",
    "    high=max(nums)\n",
    "    \n",
    "    if high<=60:\n",
    "        return '0-60'\n",
    "    elif high>60 and high<=120:\n",
    "        return '61-120'\n",
    "    elif high>120 and high<=180:\n",
    "        return '121-180'\n",
    "    elif high>180 and high<=240:\n",
    "        return '181-240'\n",
    "    elif high>240 and high<=300:\n",
    "        return '240-300'\n",
    "    elif high>300:\n",
    "        return '>300'\n",
    "    else:\n",
    "        return 'other'\n",
    "        "
   ]
  },
  {
   "cell_type": "markdown",
   "id": "7d92b80d",
   "metadata": {},
   "source": [
    "# Checking if null budget values have any big significance in determining success"
   ]
  },
  {
   "cell_type": "code",
   "execution_count": 59,
   "id": "50beeaa2",
   "metadata": {},
   "outputs": [
    {
     "data": {
      "text/plain": [
       "<AxesSubplot:xlabel='status', ylabel='count'>"
      ]
     },
     "execution_count": 59,
     "metadata": {},
     "output_type": "execute_result"
    },
    {
     "data": {
      "image/png": "[encoded data removed]",
      "text/plain": [
       "<Figure size 432x288 with 1 Axes>"
      ]
     },
     "metadata": {
      "needs_background": "light"
     },
     "output_type": "display_data"
    }
   ],
   "source": [
    "sns.countplot(data=df[df.budget.isna()],x='status')"
   ]
  },
  {
   "cell_type": "code",
   "execution_count": 60,
   "id": "1ee1cc44",
   "metadata": {},
   "outputs": [],
   "source": [
    "budget_mode=df.budget.mode()[0]\n",
    "df['budget'].fillna(budget_mode, inplace=True)"
   ]
  },
  {
   "cell_type": "code",
   "execution_count": 61,
   "id": "0033716a",
   "metadata": {
    "scrolled": false
   },
   "outputs": [],
   "source": [
    "df['budget']=df['budget'].apply(assign_budget)\n"
   ]
  },
  {
   "cell_type": "code",
   "execution_count": 81,
   "id": "bd69398f",
   "metadata": {},
   "outputs": [
    {
     "data": {
      "text/plain": [
       "<AxesSubplot:xlabel='budget', ylabel='count'>"
      ]
     },
     "execution_count": 81,
     "metadata": {},
     "output_type": "execute_result"
    },
    {
     "data": {
      "image/png": "[encoded data removed]",
      "text/plain": [
       "<Figure size 1080x360 with 1 Axes>"
      ]
     },
     "metadata": {
      "needs_background": "light"
     },
     "output_type": "display_data"
    }
   ],
   "source": [
    "plt.figure(figsize=(15,5))\n",
    "sns.countplot(data=df,x='budget')"
   ]
  },
  {
   "cell_type": "markdown",
   "id": "b1c59bc8",
   "metadata": {},
   "source": [
    "# utm_medium column"
   ]
  },
  {
   "cell_type": "code",
   "execution_count": 63,
   "id": "d0ea28d2",
   "metadata": {},
   "outputs": [
    {
     "data": {
      "text/plain": [
       "(0    0.939732\n",
       " 1    0.060268\n",
       " Name: status, dtype: float64,\n",
       " 0    0.851398\n",
       " 1    0.148602\n",
       " Name: status, dtype: float64)"
      ]
     },
     "execution_count": 63,
     "metadata": {},
     "output_type": "execute_result"
    }
   ],
   "source": [
    "df[df.utm_medium.isna()==False].status.value_counts(1), df[df.utm_medium.isna()].status.value_counts(1)"
   ]
  },
  {
   "cell_type": "markdown",
   "id": "ed211c53",
   "metadata": {},
   "source": [
    "# There is significant difference in the status where utm_medium is not present, so we are going to put unavailable tag in place of null values"
   ]
  },
  {
   "cell_type": "code",
   "execution_count": 64,
   "id": "46c909e9",
   "metadata": {},
   "outputs": [],
   "source": [
    "df['utm_medium'].fillna('unavailable', inplace=True)"
   ]
  },
  {
   "cell_type": "code",
   "execution_count": 65,
   "id": "a779853f",
   "metadata": {},
   "outputs": [
    {
     "data": {
      "text/plain": [
       "64"
      ]
     },
     "execution_count": 65,
     "metadata": {},
     "output_type": "execute_result"
    }
   ],
   "source": [
    "df.utm_medium.nunique()"
   ]
  },
  {
   "cell_type": "markdown",
   "id": "3da3efe1",
   "metadata": {},
   "source": [
    "# Agent ID"
   ]
  },
  {
   "cell_type": "code",
   "execution_count": 66,
   "id": "d105740f",
   "metadata": {},
   "outputs": [
    {
     "data": {
      "text/plain": [
       "2fca346db656187102ce806ac732e06a62df0dbb2829e511a770556d398e1a6e    8177\n",
       "96ab6152cb421b4d4012a4903c19004608a342a5f7c6671a7828b8ad8d5b9489    1450\n",
       "44864c96fa1c36602f0d045b268981b6cab638a60fc207c89e3bba235f619450    1279\n",
       "fb3e2c0015ad5bcd60d7619ca575a56c15c5d2cd3f01f18e68c4dfaeee585db5    1105\n",
       "eac9815a500f908736d303e23aa227f0957177b0e6756b915a3d3cc3a846b83b    1069\n",
       "                                                                    ... \n",
       "e16d12cd21f38bc8253f65cc5c0bf4932cf1397ba1c60682b2a99049e0e7ceed       1\n",
       "04222ea3e14cb1209b9726defe3efce5196b7afa0a959854a30401be41f4026d       1\n",
       "fb87e6cf60af08595bd9fcf1f006a12f1338cb4480acea383b3b65da10bb9f28       1\n",
       "c904d4c3485db6569c9deb41da845d82056e8843eafba8bc8a90aaa06df96963       1\n",
       "59e19706d51d39f66711c2653cd7eb1291c94d9b55eb14bda74ce4dc636d015a       1\n",
       "Name: Agent_id, Length: 120, dtype: int64"
      ]
     },
     "execution_count": 66,
     "metadata": {},
     "output_type": "execute_result"
    }
   ],
   "source": [
    "df.Agent_id.value_counts()"
   ]
  },
  {
   "cell_type": "code",
   "execution_count": 67,
   "id": "0b439163",
   "metadata": {},
   "outputs": [
    {
     "data": {
      "text/plain": [
       "0"
      ]
     },
     "execution_count": 67,
     "metadata": {},
     "output_type": "execute_result"
    }
   ],
   "source": [
    "df.Agent_id.isna().sum()"
   ]
  },
  {
   "cell_type": "markdown",
   "id": "56eb2e44",
   "metadata": {},
   "source": [
    "# no null values"
   ]
  },
  {
   "cell_type": "code",
   "execution_count": 68,
   "id": "6214f46c",
   "metadata": {},
   "outputs": [
    {
     "data": {
      "text/plain": [
       "311"
      ]
     },
     "execution_count": 68,
     "metadata": {},
     "output_type": "execute_result"
    }
   ],
   "source": [
    "df.lease.nunique()"
   ]
  },
  {
   "cell_type": "code",
   "execution_count": 69,
   "id": "5dac20bf",
   "metadata": {
    "scrolled": true
   },
   "outputs": [
    {
     "data": {
      "text/plain": [
       "Full Year Course Stay 40 - 44 weeks           11000\n",
       "0                                              7533\n",
       "Complete Education Year Stay 50 - 52 weeks     6451\n",
       "51                                             3949\n",
       "Semester Stay 20 - 24 weeks                    2753\n",
       "Summer/Short Stay 8 - 12 weeks                 2248\n",
       "lease                                          1644\n",
       "full-course-stay                               1217\n",
       "full-year-stay                                  956\n",
       "Other                                           932\n",
       "44                                              840\n",
       "51 weeks                                        572\n",
       "semester-stay                                   470\n",
       "short-stay                                      450\n",
       "44 weeks                                        275\n",
       "other                                           169\n",
       "45                                              147\n",
       "43                                              136\n",
       "1                                                90\n",
       "1 year                                           89\n",
       "52                                               86\n",
       "42                                               83\n",
       "40                                               81\n",
       "46                                               75\n",
       "48                                               71\n",
       "50                                               70\n",
       "39                                               67\n",
       "12                                               64\n",
       "full year stay                                   62\n",
       "24-36                                            58\n",
       "12-24                                            54\n",
       "16                                               51\n",
       "Name: lease, dtype: int64"
      ]
     },
     "execution_count": 69,
     "metadata": {},
     "output_type": "execute_result"
    }
   ],
   "source": [
    "df.lease.value_counts()[df.lease.value_counts().values>50]"
   ]
  },
  {
   "cell_type": "code",
   "execution_count": 70,
   "id": "88bf24fe",
   "metadata": {},
   "outputs": [
    {
     "data": {
      "text/plain": [
       "294                  44\n",
       "3                    44\n",
       "17                   36\n",
       "41                   35\n",
       "25                   30\n",
       "                     ..\n",
       "36-40 weeks           1\n",
       "12 month              1\n",
       "44 weeks/51 weeks     1\n",
       "full year stayt       1\n",
       "78                    1\n",
       "Name: lease, Length: 279, dtype: int64"
      ]
     },
     "execution_count": 70,
     "metadata": {},
     "output_type": "execute_result"
    }
   ],
   "source": [
    "df.lease.value_counts()[df.lease.value_counts().values<50]"
   ]
  },
  {
   "cell_type": "code",
   "execution_count": 71,
   "id": "b7eb6b7b",
   "metadata": {},
   "outputs": [
    {
     "data": {
      "text/plain": [
       "(0    0.976007\n",
       " 1    0.023993\n",
       " Name: status, dtype: float64,\n",
       " 0    0.931412\n",
       " 1    0.068588\n",
       " Name: status, dtype: float64)"
      ]
     },
     "execution_count": 71,
     "metadata": {},
     "output_type": "execute_result"
    }
   ],
   "source": [
    "df[df.lease.isna()].status.value_counts(1),df[df.lease.isna()==False].status.value_counts(1)"
   ]
  },
  {
   "cell_type": "code",
   "execution_count": 72,
   "id": "b1a319b2",
   "metadata": {},
   "outputs": [],
   "source": [
    "df['lease']=df['lease'].fillna('unavailable')"
   ]
  },
  {
   "cell_type": "code",
   "execution_count": 73,
   "id": "a968444b",
   "metadata": {},
   "outputs": [],
   "source": [
    "def find_week_slab(weeks):\n",
    "    if weeks>=52:\n",
    "        return('1 year or more')\n",
    "    elif weeks>=39 and weeks<52:\n",
    "        return('9 months - 1 year')\n",
    "    elif weeks>=26 and weeks<39:\n",
    "        return('6 months - 9 months')\n",
    "    elif weeks>=13 and weeks<26:\n",
    "        return('3 months - 6 months')\n",
    "    elif weeks<13:\n",
    "        return('less than 3 months')\n",
    "    else:\n",
    "        return('Other')"
   ]
  },
  {
   "cell_type": "code",
   "execution_count": 74,
   "id": "81b0e271",
   "metadata": {},
   "outputs": [],
   "source": [
    "def categorize_lease_term(lease):\n",
    "    if lease=='unavailable':\n",
    "        return 'unavailable'\n",
    "    nums=[]\n",
    "    #print(lease)\n",
    "    if re.search('year',lease)!=None or re.search('course',lease)!=None :\n",
    "        return('1 year or more')\n",
    "        \n",
    "    elif re.search('month',lease)!=None:\n",
    "        temp=re.findall('\\d*',lease)\n",
    "        for item in temp:\n",
    "            if item!='':\n",
    "                nums.append(int(item))\n",
    "            \n",
    "            return(find_week_slab(round(max(nums)*4.3)))\n",
    "    \n",
    "    else:\n",
    "        \n",
    "        temp=re.findall('\\d*',lease)\n",
    "    \n",
    "        for item in temp:\n",
    "            if item!='':\n",
    "                nums.append(int(item))\n",
    "\n",
    "        if len(nums)==0:\n",
    "            return 'Other'\n",
    "\n",
    "        high=max(nums)\n",
    "        return(find_week_slab(max(nums)))\n",
    "        "
   ]
  },
  {
   "cell_type": "code",
   "execution_count": 75,
   "id": "eb61d268",
   "metadata": {
    "scrolled": true
   },
   "outputs": [],
   "source": [
    "df['lease']=df['lease'].apply(categorize_lease_term)\n"
   ]
  },
  {
   "cell_type": "markdown",
   "id": "c1adb751",
   "metadata": {},
   "source": [
    "# New value counts"
   ]
  },
  {
   "cell_type": "code",
   "execution_count": 83,
   "id": "b2394a04",
   "metadata": {},
   "outputs": [
    {
     "data": {
      "text/plain": [
       "array(['unavailable', '9 months - 1 year', 'less than 3 months', 'Other',\n",
       "       '3 months - 6 months', '1 year or more', '6 months - 9 months'],\n",
       "      dtype=object)"
      ]
     },
     "execution_count": 83,
     "metadata": {},
     "output_type": "execute_result"
    }
   ],
   "source": [
    "df.lease.unique()"
   ]
  },
  {
   "cell_type": "code",
   "execution_count": 88,
   "id": "8ae72039",
   "metadata": {
    "scrolled": false
   },
   "outputs": [
    {
     "data": {
      "text/plain": [
       "<AxesSubplot:xlabel='lease', ylabel='count'>"
      ]
     },
     "execution_count": 88,
     "metadata": {},
     "output_type": "execute_result"
    },
    {
     "data": {
      "image/png": "[encoded data removed]",
      "text/plain": [
       "<Figure size 1080x360 with 1 Axes>"
      ]
     },
     "metadata": {
      "needs_background": "light"
     },
     "output_type": "display_data"
    }
   ],
   "source": [
    "plt.figure(figsize=(15,5))\n",
    "sns.countplot(data=df,x='lease', order=['unavailable',  'less than 3 months','3 months - 6 months',\n",
    "                                       '6 months - 9 months','9 months - 1 year', '1 year or more','Other'])"
   ]
  },
  {
   "cell_type": "markdown",
   "id": "8cdf1fdd",
   "metadata": {},
   "source": [
    "# DES_CITY"
   ]
  },
  {
   "cell_type": "code",
   "execution_count": 41,
   "id": "b62e6887",
   "metadata": {},
   "outputs": [
    {
     "data": {
      "text/plain": [
       "219"
      ]
     },
     "execution_count": 41,
     "metadata": {},
     "output_type": "execute_result"
    }
   ],
   "source": [
    "df.des_city.nunique()"
   ]
  },
  {
   "cell_type": "code",
   "execution_count": 42,
   "id": "7e4ee9f2",
   "metadata": {},
   "outputs": [
    {
     "data": {
      "text/plain": [
       "2528"
      ]
     },
     "execution_count": 42,
     "metadata": {},
     "output_type": "execute_result"
    }
   ],
   "source": [
    "df.des_city.isna().sum()"
   ]
  },
  {
   "cell_type": "code",
   "execution_count": 43,
   "id": "92bb6df5",
   "metadata": {},
   "outputs": [
    {
     "data": {
      "text/plain": [
       "(0    0.976266\n",
       " 1    0.023734\n",
       " Name: status, dtype: float64,\n",
       " 0    0.9312\n",
       " 1    0.0688\n",
       " Name: status, dtype: float64)"
      ]
     },
     "execution_count": 43,
     "metadata": {},
     "output_type": "execute_result"
    }
   ],
   "source": [
    "df[df.des_city.isna()].status.value_counts(1),df[df.des_city.isna()==False].status.value_counts(1)"
   ]
  },
  {
   "cell_type": "code",
   "execution_count": 44,
   "id": "891e9e59",
   "metadata": {},
   "outputs": [],
   "source": [
    "df['des_city'].fillna('unavailable', inplace=True)"
   ]
  },
  {
   "cell_type": "code",
   "execution_count": 45,
   "id": "b9713bbc",
   "metadata": {},
   "outputs": [
    {
     "data": {
      "text/plain": [
       "ecc0e7dc084f141b29479058967d0bc07dee25d9690a98ee4e6fdad5168274d7    7323\n",
       "810c069040f6a9b16fdf976a901755508a87cb0224b169d4b5d803357e647947    3448\n",
       "11ab03a1a8c367191355c152f39fe28cae5e426fce49efb320230ca4ae3f97a1    3105\n",
       "unavailable                                                         2528\n",
       "8593b9db65212160979d946950601c26622a219c80f1f122679eb69ec5b96600    2007\n",
       "                                                                    ... \n",
       "6b9031df058346a877deaba0a830b576fa81b9da8692e183e4eb4c9dc949054c       1\n",
       "829228a55ddc193d4f48f1249126cd689365f5f7fe55383ead8afc2b8676de8c       1\n",
       "b9ae62ede2dad179198540d5a84bf5e432f8f36c370d906b9a8224d04582d9d0       1\n",
       "80aa149d3dedd651f836d1071659255aa4843801d79d5df18ddb8d5df1dcf32d       1\n",
       "806b1459b451fcbf14da3e1f61c2e0379e840b0a20badf7f6d4fdc7b3b9329b8       1\n",
       "Name: des_city, Length: 220, dtype: int64"
      ]
     },
     "execution_count": 45,
     "metadata": {},
     "output_type": "execute_result"
    }
   ],
   "source": [
    "df.des_city.value_counts()"
   ]
  },
  {
   "cell_type": "code",
   "execution_count": 46,
   "id": "38eff37d",
   "metadata": {},
   "outputs": [
    {
     "data": {
      "text/plain": [
       "Index(['5e5adde0e206420f674e8038b05a79a1448ba265fd0aa81c1bd41af7d4b21dc3',\n",
       "       '0e45cf44b7167ea44f17eb7802822242e83099d772ee8a05cfb14e5f3db49bae',\n",
       "       '5dd272b4f316b776a7b8e3d0894b37e1e42be3d5d3b204b8a5836cc50597a6b1',\n",
       "       'ce061756614dbf72bc78a6134e2f7f16f572a2064f017fd59e6412366eb8d583',\n",
       "       '5cea8a2076b11069708f9f18c1b190d4110c9c3e66de0676d3054c00f1a4e10e',\n",
       "       'cda115aaa794db7a082d95711a9c0b23da1762001390d2824280677ee9287ac1',\n",
       "       'a8d85a214c143174ddace882e59ef72f7123acc15f3a4a0e200587c84d42c8bb',\n",
       "       'c46f86615011054c8d99e9056f753c972eb3de676d0f376b326389a57e2e2f0f',\n",
       "       'c153d60ae29ef1a1577a09285cece714e80f02904eb9a244e92d60d199901b9c',\n",
       "       '7b65c404aa029a3762dd43c796a254c8d40d1ce369bba54e693b3398c9b9341c',\n",
       "       ...\n",
       "       '88fa0e9c8ec31bd6ea6bd0738ea669d09a290b9b41c0c77a3ae2211d0c83897b',\n",
       "       'd19d1ff45a5755d8d5fbe2e3ea0f1dd233e73158f60f9107014b92fe479a22c8',\n",
       "       'f54f81405b9f63b0172b1598fe540c605e07ebd776ae11eb1637dfce9b883f8f',\n",
       "       '040b57386f53d174a1de46913b6149ab6ea6505d1e8124f21b5b190635c41844',\n",
       "       'c83f241093b13d61b93ce5723c8c2561c71acd8da8916e6383c8ce5cf8daca6e',\n",
       "       '6b9031df058346a877deaba0a830b576fa81b9da8692e183e4eb4c9dc949054c',\n",
       "       '829228a55ddc193d4f48f1249126cd689365f5f7fe55383ead8afc2b8676de8c',\n",
       "       'b9ae62ede2dad179198540d5a84bf5e432f8f36c370d906b9a8224d04582d9d0',\n",
       "       '80aa149d3dedd651f836d1071659255aa4843801d79d5df18ddb8d5df1dcf32d',\n",
       "       '806b1459b451fcbf14da3e1f61c2e0379e840b0a20badf7f6d4fdc7b3b9329b8'],\n",
       "      dtype='object', length=168)"
      ]
     },
     "execution_count": 46,
     "metadata": {},
     "output_type": "execute_result"
    }
   ],
   "source": [
    "other_des_cities=df.des_city.value_counts()[df.des_city.value_counts().values<100].index\n",
    "other_des_cities"
   ]
  },
  {
   "cell_type": "code",
   "execution_count": 47,
   "id": "b7dc0568",
   "metadata": {},
   "outputs": [
    {
     "data": {
      "text/plain": [
       "0    2041\n",
       "1      39\n",
       "Name: status, dtype: int64"
      ]
     },
     "execution_count": 47,
     "metadata": {},
     "output_type": "execute_result"
    }
   ],
   "source": [
    "df[df.des_city.isin(other_des_cities)].status.value_counts()"
   ]
  },
  {
   "cell_type": "code",
   "execution_count": 48,
   "id": "0a950be7",
   "metadata": {},
   "outputs": [],
   "source": [
    "df['des_city']=list(map(lambda x: 'Other des cities' if x in other_des_cities else x, df['des_city']))"
   ]
  },
  {
   "cell_type": "code",
   "execution_count": 49,
   "id": "a75583e3",
   "metadata": {},
   "outputs": [
    {
     "data": {
      "text/plain": [
       "ecc0e7dc084f141b29479058967d0bc07dee25d9690a98ee4e6fdad5168274d7    7323\n",
       "810c069040f6a9b16fdf976a901755508a87cb0224b169d4b5d803357e647947    3448\n",
       "11ab03a1a8c367191355c152f39fe28cae5e426fce49efb320230ca4ae3f97a1    3105\n",
       "unavailable                                                         2528\n",
       "Other des cities                                                    2080\n",
       "8593b9db65212160979d946950601c26622a219c80f1f122679eb69ec5b96600    2007\n",
       "6a5ed83658ef85afc77709cc16ede854ad98e3c2ad8b076e10dcbcd6e5096271    1699\n",
       "5e02dadaa7e4cd29809e2f8a115f1e5e9c01b29813a1fb9707218804218da32a    1596\n",
       "9b8cc3c63cdf447e463c11544924bf027945cbd29675f77955bb36364356c14e    1569\n",
       "b2586a6cef5690b74e9fb425f95f8fb3f1e18a4cdc3225eb2f53534ec3602aee    1511\n",
       "5372372f3bf5896820cb2819300c3e681820d82c6efc548fb07bed3a6c83f451    1486\n",
       "c384826dfbfce62c3fd99a46984a56fe71546a85c2cb6cf12031691b8e038a23    1459\n",
       "085c3a49a31cbfa71c36746a98dc908d30d423a63b969c5a5c7cadefcd92492b    1453\n",
       "bf5ade33b5b472c3599473a5cb4e5c7037e4c73296b7e97006edb71f029133b6    1278\n",
       "9edff2628ff7385bffbe7fc9cae89010d2cb9182e805e146de99e99cd4dfce61    1251\n",
       "1b4e390dcd79bc05931bc4a080340fff0ed6eab8c34760043493b972ccaa84cb     790\n",
       "6c5988c3032fffdad757f9ece1a56029a631825d5270013d25d1622ffe5ac5e9     767\n",
       "2baa70fa96081bf1c4c7319e7af4bed170348d9c6821b4db2888d716967550b7     702\n",
       "71b89d8b802ddcc0120ec5352d9c0fe5bde35a3aff101b3536d600218983dfbe     649\n",
       "13d4b96b6ee361b737e22404aeecca45f322ba7d4c2c425b8f31cc85f2d3808a     601\n",
       "4f00c4593da1a548582b1ebe1b922788912eeae54183458938855b650f9eb681     589\n",
       "f9bfb92c288658941063ed2dfc7feca398a9df1623a428f5790d9818dc91297f     520\n",
       "3ef7e995c2ca31e6354bda2bbcd5acd9de5b144b1db73d67b4677938c189dc8a     512\n",
       "0a8ad51fea30c29587f61bd8420a49602aa78304833627829cd29d7594ce3c57     455\n",
       "998c18dc0e513ab0035c7b858e3780bbbead88695a15defd8cba3edd0f9cc2d7     435\n",
       "3c44caddda7c1aa127bebaa13aaf6713964e0e943b94845c3dc819d2f60bb754     435\n",
       "19372fa44c57a01c37a5a8418779ca3d99b0b59731fb351380c9d648e357ab96     431\n",
       "acb208d3ac02ab6d5a45120b4187f12bc41a132011fe1c64ec0bfb89c40a4f67     424\n",
       "086eec074ad18d1159de3c076d7f7d8a55f5bc8d134f6f9f5b3cc306181ced80     378\n",
       "f3966925d3b328c7fda7ebf6bc87747f2f15040ae6c16502a76d02e57003eb10     371\n",
       "618738f7143c9b43a98a6b42d743a6595069a9b4dcf42d7deafb725d1e93dd52     334\n",
       "e509e9f3fb8f1e6b3cee0b3e924eb6e533928aeca836532c458ff60f606af025     316\n",
       "e34eb721eceb4f46181760c2f9b23b551419a518be82e693b9387b8496a9b98b     292\n",
       "463816d07097e1a7cf27b86cf03082ee49f6ce2d87663cd27a24d7254a83e76a     284\n",
       "ea58dc05b968545d016953b84130933e920097afbf34431e837395905d39e0f8     274\n",
       "6b33d27be13e79b6a8e4733690e8fffe12d47715d22fbac4805f358ae96bdcea     258\n",
       "f4a95c80f4c35feff42a9f3830c6bfca4c0ea7bd43c6487fb2dc31eef7042736     246\n",
       "0fa4720e8f52f127b3eb09a73a2dc682a95eee72b5d2a9b17ed1ba503602efce     224\n",
       "042d522ccd46f987dbe295492815f0464a93b9bec8a06cadd0d9eb250db8fa41     200\n",
       "a3a90dcfa0abf041f3e54b0dcc83fc052023cbe1f7c87ad096710b383f7f56bd     200\n",
       "3c1def48af45cb9748302f34e57f2cbeb866de95beb0d2d295c38a52b17f0f78     196\n",
       "2c431a02b039eaac86c97e95d8204f4f2db04a6d33b3c7dcc87e75e4c97f317a     184\n",
       "874523a7284bc49124fd6951e8d2f5825643ce5987161c463de40edd20548812     180\n",
       "8d54efb91fed801820dda961ef4609f87ae9e80c1da940bd8c356ec90c0ba428     150\n",
       "0d6eeec007a7b5e27f8791411df529553457a4a5fafbb85f12c81c1ca5208247     149\n",
       "777e88b51092d314e2b6b9e523fc4dc2f3281c52df171e5a3343ba4bbae44c5b     146\n",
       "013bd8afc3f7e4d042792262278f98673dbd27b86f5d63e0a79935025fada1c0     145\n",
       "6dbda2c3b0ef92781fdf7feff5f3ef647fe361944ca8a384e0eb5e36062d2955     130\n",
       "e452f0a3e6f3ab1c0a954908bb8a8866372fa4931a89deca50cbd103fc42e197     126\n",
       "dad114b6ed7342bac65c79575f6c7ff761ec26b52c1f5f7a9110532973d05df2     111\n",
       "4b3e78f8015604260cdfeb4b2f0e470dd7633c69725d39f43eec2d23c45ab8ad     108\n",
       "28cbd370a5129ecf99a2fde651ce6b7106fc486754a23760ed4661398995adba     102\n",
       "c44bdda23d13d8c58dd39e4bd853ba44f169ff4ece5ce9c1ecba2081853a8637     100\n",
       "Name: des_city, dtype: int64"
      ]
     },
     "execution_count": 49,
     "metadata": {},
     "output_type": "execute_result"
    }
   ],
   "source": [
    "df.des_city.value_counts()"
   ]
  },
  {
   "cell_type": "markdown",
   "id": "45609acb",
   "metadata": {},
   "source": [
    "# des_country"
   ]
  },
  {
   "cell_type": "code",
   "execution_count": 50,
   "id": "84eff47d",
   "metadata": {},
   "outputs": [
    {
     "data": {
      "text/plain": [
       "2528"
      ]
     },
     "execution_count": 50,
     "metadata": {},
     "output_type": "execute_result"
    }
   ],
   "source": [
    "df['des_country'].isna().sum()"
   ]
  },
  {
   "cell_type": "code",
   "execution_count": 51,
   "id": "47e40b9b",
   "metadata": {},
   "outputs": [
    {
     "data": {
      "text/plain": [
       "(0    0.976266\n",
       " 1    0.023734\n",
       " Name: status, dtype: float64,\n",
       " 0    0.9312\n",
       " 1    0.0688\n",
       " Name: status, dtype: float64)"
      ]
     },
     "execution_count": 51,
     "metadata": {},
     "output_type": "execute_result"
    }
   ],
   "source": [
    "df[df.des_country.isna()].status.value_counts(1),df[df.des_country.isna()==False].status.value_counts(1)"
   ]
  },
  {
   "cell_type": "code",
   "execution_count": 52,
   "id": "ce04a4bc",
   "metadata": {},
   "outputs": [],
   "source": [
    "df['des_country'].fillna('unavailable', inplace=True)"
   ]
  },
  {
   "cell_type": "code",
   "execution_count": 53,
   "id": "14529104",
   "metadata": {},
   "outputs": [
    {
     "data": {
      "text/plain": [
       "8d23a6e37e0a6431a8f1b43a91026dcff51170a89a6512ff098eaa56a4d5fb19    42386\n",
       "unavailable                                                          2528\n",
       "02bf1dfa9a0365a86223f0e4ac9eaa0517b06b2e9273790f719feda656a247ae      739\n",
       "80db4ccdca106d37b920206331fcfe3e9e50a9e763d89b54ce3ad5ac8cf30f03      162\n",
       "be55ef3f4c4e6c2d9c2afe2a33ac90ad0f50d4de7f9163999877e2a9ca5a54f8      149\n",
       "7a1ca4ef7515f7276bae7230545829c27810c9d9e98ab2c06066bee6270d5153      114\n",
       "c1ef40ce0484c698eb4bd27fe56c1e7b68d74f9780ed674210d0e5013dae45e9       77\n",
       "5a9cf672c8be6b5ab9546a2fb49b06dd81a4e364c86ed023898c49d9bb0605dc       57\n",
       "49dca65f362fee401292ed7ada96f96295eab1e589c52e4e66bf4aedda715fdd       26\n",
       "abd149214539d9f222d25de6358735b9fa0efd3956f66102b2c119ae2d9f6348       23\n",
       "8ef41e6f4b07432a0cb4eb7a8774e7a3878fd3e385f49aa09b406768467db228       22\n",
       "4c7de2c3da6dc0ae8f9d13b107718a913859359bd30166d077c867577953865d       17\n",
       "3a386c13d283dc2ebbe2aeffc1ab3930d086b28956930d913d8dc58f34c013b7        4\n",
       "2275583196d791405892aaca0d87743c872f3fc0cf3308a6c3ef82528918aa8a        2\n",
       "dd64913c8b91d76ca27b371f0b86fd30452370469b8cadf4e5a61d41d14e42ec        1\n",
       "Name: des_country, dtype: int64"
      ]
     },
     "execution_count": 53,
     "metadata": {},
     "output_type": "execute_result"
    }
   ],
   "source": [
    "df.des_country.value_counts()"
   ]
  },
  {
   "cell_type": "markdown",
   "id": "158cd2b1",
   "metadata": {},
   "source": [
    "# Source city"
   ]
  },
  {
   "cell_type": "code",
   "execution_count": 54,
   "id": "a49a053b",
   "metadata": {},
   "outputs": [
    {
     "data": {
      "text/plain": [
       "(0    0.937989\n",
       " 1    0.062011\n",
       " Name: status, dtype: float64,\n",
       " 0    0.932642\n",
       " 1    0.067358\n",
       " Name: status, dtype: float64)"
      ]
     },
     "execution_count": 54,
     "metadata": {},
     "output_type": "execute_result"
    }
   ],
   "source": [
    "df[df.source_city.isna()].status.value_counts(1),df[df.source_city.isna()==False].status.value_counts(1)"
   ]
  },
  {
   "cell_type": "code",
   "execution_count": 55,
   "id": "9bfeeb18",
   "metadata": {},
   "outputs": [],
   "source": [
    "df['source_city'].fillna('unavailable', inplace=True)"
   ]
  },
  {
   "cell_type": "code",
   "execution_count": 56,
   "id": "ba503c3c",
   "metadata": {},
   "outputs": [
    {
     "data": {
      "text/plain": [
       "unavailable                                                         8821\n",
       "ecc0e7dc084f141b29479058967d0bc07dee25d9690a98ee4e6fdad5168274d7    3020\n",
       "b384863fa1f6e091164b74219726eee0b9dd47776b91a4dc71fd0516630d21ec    1431\n",
       "9f2ba6981e36ea0fca6c16f42e6413d788d2a7499b8b7f418c5d76f12d191f02     854\n",
       "7d1550b844ff586a6023216c06263105eed0a849a2a1f69bb8862ab288d8cdab     752\n",
       "                                                                    ... \n",
       "67e6f8c1f6f47e01ab6fe1cbbc3d4115d71f63c6ebf82a8713a6ac04a5b5236c       1\n",
       "c2cedb3b32de2ae419a258d76f4fa82ee302441fbae041acf9a13770dfa18eb0       1\n",
       "e2f36920bce1be5e4c94b165dcbd09cf454f5990d8869c5cc483e0723e34595c       1\n",
       "06065eeea31a9f7eeaf11e335f9a6a67235fc40f12d50b06b84fcbcb5ed70dd2       1\n",
       "d650065b53c2284b98e575d37e1be820599bf33baff5e147770547a984975d2f       1\n",
       "Name: source_city, Length: 4316, dtype: int64"
      ]
     },
     "execution_count": 56,
     "metadata": {},
     "output_type": "execute_result"
    }
   ],
   "source": [
    "df['source_city'].value_counts()"
   ]
  },
  {
   "cell_type": "code",
   "execution_count": 57,
   "id": "47a9d1fb",
   "metadata": {},
   "outputs": [
    {
     "data": {
      "text/plain": [
       "Index(['467f29d648705d956b83aed4843decf448186a68a2ae1ed0fe77698815239fd8',\n",
       "       'cad30e1923686fe4450f3305e88ccdaa578b972cb2b67a9fa1d240706d21e4a4',\n",
       "       '8454f92ff14f1d2c7ea4058f73fbba47dc07da86ec06ff4c80f1f098c4edc999',\n",
       "       '19372fa44c57a01c37a5a8418779ca3d99b0b59731fb351380c9d648e357ab96',\n",
       "       'ef6d625bd287131ad98e4ed57295037bb46e4864f9d6ef757e8e7cd5843366e3',\n",
       "       'f4a95c80f4c35feff42a9f3830c6bfca4c0ea7bd43c6487fb2dc31eef7042736',\n",
       "       'ec7166cc3735b44a4de38b649161092108f607aafa65b6953258bb10c22e3314',\n",
       "       '1496126b7015defbc3b1d129a46096a5c135075aff2add706a6af14705e9fe38',\n",
       "       'bf5ade33b5b472c3599473a5cb4e5c7037e4c73296b7e97006edb71f029133b6',\n",
       "       '3fc732073e9e859de0d44ea72812d36d018a4a450da27d6ddb8176e09ac87151',\n",
       "       ...\n",
       "       '0271fbfbf514cc780e1179007c2914f5147b053459965d0926ff4d2213f31be7',\n",
       "       'd8ab082fc42d89da0e11d43964a4090e9b3871e238da416b145179bdf6fb8145',\n",
       "       '410e0736555699d90faf7d70d54212e79e0bea577175e64e37a067a05b67d89d',\n",
       "       '7fa015c1a8f1f92f59f574da79f88624bcd2136f2e139c106f05979ebcbe5a0f',\n",
       "       '94a1781af75d24ee95d81314b539ae6e1807ce0c1e5b289fb75a2d5864918ce2',\n",
       "       '67e6f8c1f6f47e01ab6fe1cbbc3d4115d71f63c6ebf82a8713a6ac04a5b5236c',\n",
       "       'c2cedb3b32de2ae419a258d76f4fa82ee302441fbae041acf9a13770dfa18eb0',\n",
       "       'e2f36920bce1be5e4c94b165dcbd09cf454f5990d8869c5cc483e0723e34595c',\n",
       "       '06065eeea31a9f7eeaf11e335f9a6a67235fc40f12d50b06b84fcbcb5ed70dd2',\n",
       "       'd650065b53c2284b98e575d37e1be820599bf33baff5e147770547a984975d2f'],\n",
       "      dtype='object', length=4260)"
      ]
     },
     "execution_count": 57,
     "metadata": {},
     "output_type": "execute_result"
    }
   ],
   "source": [
    "other_source_cities=df['source_city'].value_counts()[df['source_city'].value_counts().values<100].index\n",
    "other_source_cities"
   ]
  },
  {
   "cell_type": "code",
   "execution_count": 58,
   "id": "a107c4ee",
   "metadata": {},
   "outputs": [],
   "source": [
    "df['source_city']=list(map(lambda x: 'Other Source Cities' if x in other_source_cities else x, df['source_city']))"
   ]
  },
  {
   "cell_type": "markdown",
   "id": "bf00c586",
   "metadata": {},
   "source": [
    "# Source"
   ]
  },
  {
   "cell_type": "code",
   "execution_count": 59,
   "id": "faac2b4d",
   "metadata": {},
   "outputs": [
    {
     "data": {
      "text/plain": [
       "5946"
      ]
     },
     "execution_count": 59,
     "metadata": {},
     "output_type": "execute_result"
    }
   ],
   "source": [
    "df.source.isna().sum()"
   ]
  },
  {
   "cell_type": "code",
   "execution_count": 60,
   "id": "ef5b327c",
   "metadata": {},
   "outputs": [
    {
     "data": {
      "text/plain": [
       "(0    0.971409\n",
       " 1    0.028591\n",
       " Name: status, dtype: float64,\n",
       " 0    0.928099\n",
       " 1    0.071901\n",
       " Name: status, dtype: float64)"
      ]
     },
     "execution_count": 60,
     "metadata": {},
     "output_type": "execute_result"
    }
   ],
   "source": [
    "df[df.source.isna()].status.value_counts(1),df[df.source.isna()==False].status.value_counts(1)"
   ]
  },
  {
   "cell_type": "code",
   "execution_count": 61,
   "id": "902a85bb",
   "metadata": {},
   "outputs": [
    {
     "data": {
      "text/plain": [
       "7aae3e886e89fc1187a5c47d6cea1c22998ee610ade1f2b7c51be879f0c37ca8    19092\n",
       "7bcfca0e9d73371699b0adbf1c691e02108fa64f02f4dbe24a0217f139a9b916     3794\n",
       "ba2d0a29556ac20f86f45e4543c0825428cba33fd7a9eaa29e3f169d2ca43b2b     3586\n",
       "146fb4ecbe78caa24102bbaac12e2559a8c8e32fb116d36e3553a709fce40549     2209\n",
       "d684761c17c11590f6e2525b48141cb2c0c6f2be5df4e229dae06e64c5c41b64     2129\n",
       "                                                                    ...  \n",
       "ab4556b4118e9689282ac334ed94636124b8d4a531e2db6c2623eb0437de1ab2        1\n",
       "ff25c08fc834360514f4fbc6434c2bb381ad04ea984ea86c2a0f5fb6ec94a831        1\n",
       "fde7c38145e98695f302f2eb113737bcf9e6b3b0ec4ab2723f4d6610cc97813f        1\n",
       "f4dd29fa0ded5c9ca30c96015bf8147165bfce38964c3842352d7a013b870ac9        1\n",
       "93bee3e177d17c128e6a6af7b88fd675d7ec729b1a88ae13c582248dfd702378        1\n",
       "Name: source, Length: 682, dtype: int64"
      ]
     },
     "execution_count": 61,
     "metadata": {},
     "output_type": "execute_result"
    }
   ],
   "source": [
    "df.source.value_counts()"
   ]
  },
  {
   "cell_type": "code",
   "execution_count": 62,
   "id": "29b84f8e",
   "metadata": {},
   "outputs": [],
   "source": [
    "df.source.fillna('unavailable', inplace=True)"
   ]
  },
  {
   "cell_type": "code",
   "execution_count": 63,
   "id": "83929377",
   "metadata": {},
   "outputs": [
    {
     "data": {
      "text/plain": [
       "Index(['34fbd3ead861115d5c4b167b42ac12949432632ec3f618ef844d60525dbf2ab1',\n",
       "       'eb6329d1696196ed1ba71f6cba5356c8bc4fb18b1f989637fa1e5db83019f830',\n",
       "       '5f74d183397778f1be08cc215d26a5e9d394a865773c8e8aa2f2cd88872930ff',\n",
       "       '14c1e9997404fd64a464da17c0dd80790490e7b18d32dc9bd5882b411ad4519d',\n",
       "       '23e5f58a78e01836546d8a3d35a2758be652d2dfa346fe71004e846849e01b74',\n",
       "       '3e6f3ef30c9311c7086582f5a7f015c3485ba4d2cbccbb059c19122e2c6ea359',\n",
       "       '01d21388868623be0581004ac1aa54189af976c5ac5010ad5983ec23f3092fc6',\n",
       "       '79e68fcd7e28c0ed6b034a3beafa4798476ef98fec4bdb86975ba064547d1d4b',\n",
       "       '7f3fa48ca885678134842fa7456f3ece53a97f843b610185d900ac4e467c7490',\n",
       "       'f64da6f9371a17b12c8f8099606582958f548c4a24845be25b88786f99693e37',\n",
       "       ...\n",
       "       'b45066f74acf754425d8ae417186529d5b3f2b7e47ee7b3f5a7c6f53cbd45d8e',\n",
       "       '8ccf3f7e4bddc643d06af7b239c5c6b06a6b82e6384e18ac49e1f0f7ec0018ca',\n",
       "       '582d874a40d99277b1b3dbe7aae40c0298b998922711149b92a26648e426b88c',\n",
       "       '305eff7de6f2e6216222e256a61546f7ef9233a9c5f249fd90feced0960f3e0f',\n",
       "       '108931381924634bdcd9a8e89c63bf325f65cc702a9c1f5dae0810b576f71e54',\n",
       "       '6a60107e3532ad81fc9a5b81e8c6ebc09776c62d2c31be9c921d0273f491166d',\n",
       "       'eb77035a1aec7874c4294ba3a72068110c630add1884e7df94be3f5e80e107ea',\n",
       "       'e7f73ae35fb85dba0110642f19c4f6aaa1c2e6498694506b262306b543c77f41',\n",
       "       'ffda956ad9e38c62bf6218b66a7f53be79adbcc876aeed4147dfcf1a33d004c7',\n",
       "       '93bee3e177d17c128e6a6af7b88fd675d7ec729b1a88ae13c582248dfd702378'],\n",
       "      dtype='object', length=668)"
      ]
     },
     "execution_count": 63,
     "metadata": {},
     "output_type": "execute_result"
    }
   ],
   "source": [
    "other_sources=df['source'].value_counts()[df['source'].value_counts().values<100].index\n",
    "other_sources"
   ]
  },
  {
   "cell_type": "code",
   "execution_count": 64,
   "id": "01a5256a",
   "metadata": {},
   "outputs": [
    {
     "data": {
      "text/plain": [
       "0    0.872661\n",
       "1    0.127339\n",
       "Name: status, dtype: float64"
      ]
     },
     "execution_count": 64,
     "metadata": {},
     "output_type": "execute_result"
    }
   ],
   "source": [
    "df[df.source.isin(other_sources)].status.value_counts(1)"
   ]
  },
  {
   "cell_type": "code",
   "execution_count": 65,
   "id": "d1cb9e56",
   "metadata": {},
   "outputs": [],
   "source": [
    "df['source']=list(map(lambda x: 'Other Sources' if x in other_sources else x, df['source']))"
   ]
  },
  {
   "cell_type": "code",
   "execution_count": 66,
   "id": "55726832",
   "metadata": {},
   "outputs": [
    {
     "data": {
      "text/plain": [
       "7aae3e886e89fc1187a5c47d6cea1c22998ee610ade1f2b7c51be879f0c37ca8    19092\n",
       "unavailable                                                          5946\n",
       "7bcfca0e9d73371699b0adbf1c691e02108fa64f02f4dbe24a0217f139a9b916     3794\n",
       "ba2d0a29556ac20f86f45e4543c0825428cba33fd7a9eaa29e3f169d2ca43b2b     3586\n",
       "Other Sources                                                        3314\n",
       "146fb4ecbe78caa24102bbaac12e2559a8c8e32fb116d36e3553a709fce40549     2209\n",
       "d684761c17c11590f6e2525b48141cb2c0c6f2be5df4e229dae06e64c5c41b64     2129\n",
       "9ba9134a91cfc6b52ac8d480e9ad37896ca4ac216e2d795fdb7d75a63d6c60af     2095\n",
       "9fd09dc33545f9cc19b81ebd0b98c4fd8c66ed1e34de89f4c9a81e6b26dc0d54     1018\n",
       "b2b2a0ecb072ed25f1844a3325a810b85689bcc785ddb40dbdcd50a237e40831      988\n",
       "ece6174b48090f929b5c750eb652162e2f0861a90b843446eb61318030aea9b3      633\n",
       "869105a4ce02fc56897c8d7e1eb37736b95e3e826568ae3172eabaf582f69707      530\n",
       "76b7fd432636403ce93adce5cef7871bc24d064c374493aa098686d0be3df5d3      383\n",
       "b5d2d728817d666ce97f6944eae23cff0bae5f81b1917b2e3056d73d9f9fd601      243\n",
       "fce2de0ca752918e030db0b31521693134ecfbf1c32e1402715169aa4bf16086      193\n",
       "dfe8ecc0693503f620f2aa7496c336d1af968dfdcb214341ddc771eda0fafc36      154\n",
       "Name: source, dtype: int64"
      ]
     },
     "execution_count": 66,
     "metadata": {},
     "output_type": "execute_result"
    }
   ],
   "source": [
    "df.source.value_counts()"
   ]
  },
  {
   "cell_type": "markdown",
   "id": "59b512f0",
   "metadata": {},
   "source": [
    "# Room type"
   ]
  },
  {
   "cell_type": "code",
   "execution_count": 89,
   "id": "4aec9751",
   "metadata": {},
   "outputs": [
    {
     "data": {
      "text/plain": [
       "<AxesSubplot:xlabel='room_type', ylabel='count'>"
      ]
     },
     "execution_count": 89,
     "metadata": {},
     "output_type": "execute_result"
    },
    {
     "data": {
      "image/png": "[encoded data removed]",
      "text/plain": [
       "<Figure size 432x288 with 1 Axes>"
      ]
     },
     "metadata": {
      "needs_background": "light"
     },
     "output_type": "display_data"
    }
   ],
   "source": [
    "sns.countplot(data=df, x='room_type')"
   ]
  },
  {
   "cell_type": "code",
   "execution_count": 68,
   "id": "ca6500d9",
   "metadata": {},
   "outputs": [
    {
     "data": {
      "text/plain": [
       "23481"
      ]
     },
     "execution_count": 68,
     "metadata": {},
     "output_type": "execute_result"
    }
   ],
   "source": [
    "df['room_type'].isna().sum()"
   ]
  },
  {
   "cell_type": "code",
   "execution_count": 69,
   "id": "61153adb",
   "metadata": {},
   "outputs": [
    {
     "data": {
      "text/plain": [
       "(0    0.931391\n",
       " 1    0.068609\n",
       " Name: status, dtype: float64,\n",
       " 0    0.935994\n",
       " 1    0.064006\n",
       " Name: status, dtype: float64)"
      ]
     },
     "execution_count": 69,
     "metadata": {},
     "output_type": "execute_result"
    }
   ],
   "source": [
    "df[df.room_type.isna()].status.value_counts(1),df[df.room_type.isna()==False].status.value_counts(1)"
   ]
  },
  {
   "cell_type": "code",
   "execution_count": 70,
   "id": "01420faf",
   "metadata": {},
   "outputs": [],
   "source": [
    "room_type_mode=df.room_type.mode()[0]\n",
    "df['room_type'].fillna(room_type_mode,inplace=True)"
   ]
  },
  {
   "cell_type": "code",
   "execution_count": 71,
   "id": "691d757d",
   "metadata": {},
   "outputs": [],
   "source": [
    "imp_cols=['Agent_id', 'budget', 'lease', 'source', 'source_city', 'utm_medium',\n",
    "       'des_city', 'des_country', 'room_type']"
   ]
  },
  {
   "cell_type": "code",
   "execution_count": 72,
   "id": "2947ff7d",
   "metadata": {},
   "outputs": [
    {
     "name": "stdout",
     "output_type": "stream",
     "text": [
      "Agent_id 120\n",
      "budget 6\n",
      "lease 7\n",
      "source 16\n",
      "source_city 57\n",
      "utm_medium 64\n",
      "des_city 53\n",
      "des_country 15\n",
      "room_type 5\n"
     ]
    }
   ],
   "source": [
    "for col in imp_cols:\n",
    "    print(col,df[col].nunique())"
   ]
  },
  {
   "cell_type": "code",
   "execution_count": 73,
   "id": "3f6065a1",
   "metadata": {},
   "outputs": [],
   "source": [
    "df.utm_source.fillna('unavailable', inplace=True)"
   ]
  },
  {
   "cell_type": "code",
   "execution_count": 74,
   "id": "9de00093",
   "metadata": {},
   "outputs": [
    {
     "data": {
      "text/plain": [
       "Index(['Agent_id', 'status', 'lost_reason', 'budget', 'lease', 'movein',\n",
       "       'source', 'source_city', 'source_country', 'utm_source', 'utm_medium',\n",
       "       'des_city', 'des_country', 'room_type', 'lead_id'],\n",
       "      dtype='object')"
      ]
     },
     "execution_count": 74,
     "metadata": {},
     "output_type": "execute_result"
    }
   ],
   "source": [
    "df.columns"
   ]
  },
  {
   "cell_type": "code",
   "execution_count": 75,
   "id": "4c5558cd",
   "metadata": {},
   "outputs": [],
   "source": [
    "X=df[imp_cols]\n",
    "Y=df['status']"
   ]
  },
  {
   "cell_type": "code",
   "execution_count": 76,
   "id": "c291468d",
   "metadata": {},
   "outputs": [],
   "source": [
    "X=pd.get_dummies(X)\n"
   ]
  },
  {
   "cell_type": "code",
   "execution_count": 77,
   "id": "d28adff2",
   "metadata": {},
   "outputs": [
    {
     "data": {
      "text/plain": [
       "(46307, 343)"
      ]
     },
     "execution_count": 77,
     "metadata": {},
     "output_type": "execute_result"
    }
   ],
   "source": [
    "X.shape"
   ]
  },
  {
   "cell_type": "code",
   "execution_count": 78,
   "id": "cff2a01e",
   "metadata": {},
   "outputs": [
    {
     "data": {
      "text/plain": [
       "0    43235\n",
       "1     3072\n",
       "Name: status, dtype: int64"
      ]
     },
     "execution_count": 78,
     "metadata": {},
     "output_type": "execute_result"
    }
   ],
   "source": [
    "Y.value_counts()"
   ]
  },
  {
   "cell_type": "code",
   "execution_count": 79,
   "id": "b9ed9762",
   "metadata": {},
   "outputs": [
    {
     "data": {
      "text/plain": [
       "((46307,), 3072)"
      ]
     },
     "execution_count": 79,
     "metadata": {},
     "output_type": "execute_result"
    }
   ],
   "source": [
    "Y.shape,Y.sum()"
   ]
  },
  {
   "cell_type": "code",
   "execution_count": 80,
   "id": "181c68a9",
   "metadata": {},
   "outputs": [],
   "source": [
    "train_X,test_X,train_y,test_y= train_test_split(X,Y, test_size=0.1, stratify=Y, random_state=22)"
   ]
  },
  {
   "cell_type": "code",
   "execution_count": 81,
   "id": "46330ad4",
   "metadata": {},
   "outputs": [],
   "source": [
    "model_lr=LogisticRegression(max_iter=1000)"
   ]
  },
  {
   "cell_type": "code",
   "execution_count": 82,
   "id": "f699d8bb",
   "metadata": {},
   "outputs": [
    {
     "data": {
      "text/html": [
       "<style>#sk-container-id-1 {color: black;background-color: white;}#sk-container-id-1 pre{padding: 0;}#sk-container-id-1 div.sk-toggleable {background-color: white;}#sk-container-id-1 label.sk-toggleable__label {cursor: pointer;display: block;width: 100%;margin-bottom: 0;padding: 0.3em;box-sizing: border-box;text-align: center;}#sk-container-id-1 label.sk-toggleable__label-arrow:before {content: \"▸\";float: left;margin-right: 0.25em;color: #696969;}#sk-container-id-1 label.sk-toggleable__label-arrow:hover:before {color: black;}#sk-container-id-1 div.sk-estimator:hover label.sk-toggleable__label-arrow:before {color: black;}#sk-container-id-1 div.sk-toggleable__content {max-height: 0;max-width: 0;overflow: hidden;text-align: left;background-color: #f0f8ff;}#sk-container-id-1 div.sk-toggleable__content pre {margin: 0.2em;color: black;border-radius: 0.25em;background-color: #f0f8ff;}#sk-container-id-1 input.sk-toggleable__control:checked~div.sk-toggleable__content {max-height: 200px;max-width: 100%;overflow: auto;}#sk-container-id-1 input.sk-toggleable__control:checked~label.sk-toggleable__label-arrow:before {content: \"▾\";}#sk-container-id-1 div.sk-estimator input.sk-toggleable__control:checked~label.sk-toggleable__label {background-color: #d4ebff;}#sk-container-id-1 div.sk-label input.sk-toggleable__control:checked~label.sk-toggleable__label {background-color: #d4ebff;}#sk-container-id-1 input.sk-hidden--visually {border: 0;clip: rect(1px 1px 1px 1px);clip: rect(1px, 1px, 1px, 1px);height: 1px;margin: -1px;overflow: hidden;padding: 0;position: absolute;width: 1px;}#sk-container-id-1 div.sk-estimator {font-family: monospace;background-color: #f0f8ff;border: 1px dotted black;border-radius: 0.25em;box-sizing: border-box;margin-bottom: 0.5em;}#sk-container-id-1 div.sk-estimator:hover {background-color: #d4ebff;}#sk-container-id-1 div.sk-parallel-item::after {content: \"\";width: 100%;border-bottom: 1px solid gray;flex-grow: 1;}#sk-container-id-1 div.sk-label:hover label.sk-toggleable__label {background-color: #d4ebff;}#sk-container-id-1 div.sk-serial::before {content: \"\";position: absolute;border-left: 1px solid gray;box-sizing: border-box;top: 0;bottom: 0;left: 50%;z-index: 0;}#sk-container-id-1 div.sk-serial {display: flex;flex-direction: column;align-items: center;background-color: white;padding-right: 0.2em;padding-left: 0.2em;position: relative;}#sk-container-id-1 div.sk-item {position: relative;z-index: 1;}#sk-container-id-1 div.sk-parallel {display: flex;align-items: stretch;justify-content: center;background-color: white;position: relative;}#sk-container-id-1 div.sk-item::before, #sk-container-id-1 div.sk-parallel-item::before {content: \"\";position: absolute;border-left: 1px solid gray;box-sizing: border-box;top: 0;bottom: 0;left: 50%;z-index: -1;}#sk-container-id-1 div.sk-parallel-item {display: flex;flex-direction: column;z-index: 1;position: relative;background-color: white;}#sk-container-id-1 div.sk-parallel-item:first-child::after {align-self: flex-end;width: 50%;}#sk-container-id-1 div.sk-parallel-item:last-child::after {align-self: flex-start;width: 50%;}#sk-container-id-1 div.sk-parallel-item:only-child::after {width: 0;}#sk-container-id-1 div.sk-dashed-wrapped {border: 1px dashed gray;margin: 0 0.4em 0.5em 0.4em;box-sizing: border-box;padding-bottom: 0.4em;background-color: white;}#sk-container-id-1 div.sk-label label {font-family: monospace;font-weight: bold;display: inline-block;line-height: 1.2em;}#sk-container-id-1 div.sk-label-container {text-align: center;}#sk-container-id-1 div.sk-container {/* jupyter's `normalize.less` sets `[hidden] { display: none; }` but bootstrap.min.css set `[hidden] { display: none !important; }` so we also need the `!important` here to be able to override the default hidden behavior on the sphinx rendered scikit-learn.org. See: https://github.com/scikit-learn/scikit-learn/issues/21755 */display: inline-block !important;position: relative;}#sk-container-id-1 div.sk-text-repr-fallback {display: none;}</style><div id=\"sk-container-id-1\" class=\"sk-top-container\"><div class=\"sk-text-repr-fallback\"><pre>LogisticRegression(max_iter=1000)</pre><b>In a Jupyter environment, please rerun this cell to show the HTML representation or trust the notebook. <br />On GitHub, the HTML representation is unable to render, please try loading this page with nbviewer.org.</b></div><div class=\"sk-container\" hidden><div class=\"sk-item\"><div class=\"sk-estimator sk-toggleable\"><input class=\"sk-toggleable__control sk-hidden--visually\" id=\"sk-estimator-id-1\" type=\"checkbox\" checked><label for=\"sk-estimator-id-1\" class=\"sk-toggleable__label sk-toggleable__label-arrow\">LogisticRegression</label><div class=\"sk-toggleable__content\"><pre>LogisticRegression(max_iter=1000)</pre></div></div></div></div></div>"
      ],
      "text/plain": [
       "LogisticRegression(max_iter=1000)"
      ]
     },
     "execution_count": 82,
     "metadata": {},
     "output_type": "execute_result"
    }
   ],
   "source": [
    "model_lr.fit(train_X,train_y)"
   ]
  },
  {
   "cell_type": "code",
   "execution_count": 83,
   "id": "38cd05f1",
   "metadata": {},
   "outputs": [
    {
     "data": {
      "text/plain": [
       "0.9345713668754049"
      ]
     },
     "execution_count": 83,
     "metadata": {},
     "output_type": "execute_result"
    }
   ],
   "source": [
    "model_lr.score(test_X,test_y)"
   ]
  },
  {
   "cell_type": "code",
   "execution_count": 84,
   "id": "89083b6f",
   "metadata": {},
   "outputs": [],
   "source": [
    "y_pred=model_lr.predict(test_X)\n"
   ]
  },
  {
   "cell_type": "code",
   "execution_count": 85,
   "id": "081db1c4",
   "metadata": {},
   "outputs": [
    {
     "name": "stdout",
     "output_type": "stream",
     "text": [
      "              precision    recall  f1-score   support\n",
      "\n",
      "           0       0.94      1.00      0.97      4324\n",
      "           1       0.61      0.04      0.07       307\n",
      "\n",
      "    accuracy                           0.93      4631\n",
      "   macro avg       0.77      0.52      0.52      4631\n",
      "weighted avg       0.91      0.93      0.91      4631\n",
      "\n"
     ]
    }
   ],
   "source": [
    "print(classification_report(test_y,y_pred))"
   ]
  },
  {
   "cell_type": "code",
   "execution_count": 86,
   "id": "89de6d77",
   "metadata": {},
   "outputs": [
    {
     "data": {
      "text/plain": [
       "(0.9345713668754049,\n",
       " 0.6111111111111112,\n",
       " 0.035830618892508145,\n",
       " 0.06769230769230769)"
      ]
     },
     "execution_count": 86,
     "metadata": {},
     "output_type": "execute_result"
    }
   ],
   "source": [
    "accuracy_score(test_y,y_pred),precision_score(test_y,y_pred),recall_score(test_y,y_pred),f1_score(test_y,y_pred)"
   ]
  },
  {
   "cell_type": "code",
   "execution_count": 88,
   "id": "6b3fe1fb",
   "metadata": {},
   "outputs": [],
   "source": [
    "majority_df=df[df.status==0]\n",
    "minority_df=df[df.status==1]"
   ]
  },
  {
   "cell_type": "code",
   "execution_count": 90,
   "id": "d1a72f50",
   "metadata": {
    "scrolled": true
   },
   "outputs": [],
   "source": [
    "X=df[imp_cols]\n",
    "X=pd.get_dummies(X)\n",
    "y=df['status']\n",
    "from imblearn.over_sampling import SMOTE\n",
    "oversample = SMOTE()\n",
    "\n",
    "X, y = oversample.fit_resample(X, y)"
   ]
  },
  {
   "cell_type": "code",
   "execution_count": 91,
   "id": "2b7b687c",
   "metadata": {},
   "outputs": [
    {
     "data": {
      "text/plain": [
       "(86470, 343)"
      ]
     },
     "execution_count": 91,
     "metadata": {},
     "output_type": "execute_result"
    }
   ],
   "source": [
    "X.shape"
   ]
  },
  {
   "cell_type": "code",
   "execution_count": 93,
   "id": "69518ce4",
   "metadata": {},
   "outputs": [
    {
     "data": {
      "text/plain": [
       "0    43235\n",
       "1    43235\n",
       "Name: status, dtype: int64"
      ]
     },
     "execution_count": 93,
     "metadata": {},
     "output_type": "execute_result"
    }
   ],
   "source": [
    "y.value_counts()"
   ]
  },
  {
   "cell_type": "code",
   "execution_count": 96,
   "id": "2c6a2876",
   "metadata": {},
   "outputs": [
    {
     "name": "stdout",
     "output_type": "stream",
     "text": [
      "              precision    recall  f1-score   support\n",
      "\n",
      "           0       0.93      0.99      0.96      4334\n",
      "           1       0.99      0.92      0.95      4313\n",
      "\n",
      "    accuracy                           0.96      8647\n",
      "   macro avg       0.96      0.96      0.96      8647\n",
      "weighted avg       0.96      0.96      0.96      8647\n",
      "\n"
     ]
    }
   ],
   "source": [
    "train_X,test_X,train_y,test_y=train_test_split(X,y,test_size=0.1, random_state=22)\n",
    "model_lr=LogisticRegression(solver='lbfgs', max_iter=1000)\n",
    "model_lr.fit(train_X,train_y)\n",
    "y_pred=model_lr.predict(test_X)\n",
    "print(classification_report(test_y,y_pred))"
   ]
  },
  {
   "cell_type": "markdown",
   "id": "eead4ba7",
   "metadata": {},
   "source": [
    "# Now we can use the proba function to find out the probability of a client going through the lease and will use the same value as our score to mark our customers"
   ]
  },
  {
   "cell_type": "code",
   "execution_count": 217,
   "id": "b57575f1",
   "metadata": {},
   "outputs": [],
   "source": [
    "def process_df(df):    \n",
    "    df['budget'].fillna(budget_mode, inplace=True)\n",
    "    df['budget']=df['budget'].apply(assign_budget)\n",
    "    df['utm_medium'].fillna('unavailable', inplace=True)\n",
    "    df['lease'].fillna('unavailable', inplace=True)\n",
    "    df['lease']=df['lease'].apply(categorize_lease_term)\n",
    "    df['des_city'].fillna('unavailable', inplace=True)\n",
    "    other_des_cities=df.des_city.value_counts()[df.des_city.value_counts().values<100].index\n",
    "    df['des_city']=list(map(lambda x: 'Other des cities' if x in other_des_cities else x, df['des_city']))\n",
    "    df['des_country'].fillna('unavailable', inplace=True)\n",
    "    df['source_city'].fillna('unavailable', inplace=True)\n",
    "    other_source_cities=df['source_city'].value_counts()[df['source_city'].value_counts().values<100].index\n",
    "    df['source_city']=list(map(lambda x: 'Other Source Cities' if x in other_source_cities else x, df['source_city']))\n",
    "    df['source']=list(map(lambda x: 'Other Sources' if x in other_sources else x, df['source']))\n",
    "    df.utm_source.fillna('unavailable', inplace=True)\n",
    "    return df"
   ]
  },
  {
   "cell_type": "code",
   "execution_count": 218,
   "id": "1c93d571",
   "metadata": {},
   "outputs": [],
   "source": [
    "df=pd.read_csv('Data_Science_Internship - Dump.csv', index_col=0)"
   ]
  },
  {
   "cell_type": "code",
   "execution_count": 219,
   "id": "79a0e16a",
   "metadata": {},
   "outputs": [],
   "source": [
    "encoded_df=process_df(df)"
   ]
  },
  {
   "cell_type": "code",
   "execution_count": 220,
   "id": "f00abc12",
   "metadata": {},
   "outputs": [
    {
     "data": {
      "text/plain": [
       "Agent_id            120\n",
       "status                6\n",
       "lost_reason          30\n",
       "budget                6\n",
       "lease                 7\n",
       "movein              477\n",
       "source               16\n",
       "source_city          58\n",
       "source_country      186\n",
       "utm_source           35\n",
       "utm_medium           64\n",
       "des_city             53\n",
       "des_country          15\n",
       "room_type             5\n",
       "lead_id           30574\n",
       "dtype: int64"
      ]
     },
     "execution_count": 220,
     "metadata": {},
     "output_type": "execute_result"
    }
   ],
   "source": [
    "encoded_df.nunique()"
   ]
  },
  {
   "cell_type": "code",
   "execution_count": 221,
   "id": "9b187d13",
   "metadata": {},
   "outputs": [],
   "source": [
    "encoded_df=encoded_df[imp_cols]"
   ]
  },
  {
   "cell_type": "code",
   "execution_count": 222,
   "id": "6c66c3e7",
   "metadata": {},
   "outputs": [
    {
     "data": {
      "text/plain": [
       "Agent_id       120\n",
       "budget           6\n",
       "lease            7\n",
       "source          16\n",
       "source_city     58\n",
       "utm_medium      64\n",
       "des_city        53\n",
       "des_country     15\n",
       "room_type        5\n",
       "dtype: int64"
      ]
     },
     "execution_count": 222,
     "metadata": {},
     "output_type": "execute_result"
    }
   ],
   "source": [
    "encoded_df.nunique()"
   ]
  },
  {
   "cell_type": "code",
   "execution_count": 223,
   "id": "29d7ca88",
   "metadata": {},
   "outputs": [],
   "source": [
    "encoded_df=pd.get_dummies(encoded_df[imp_cols])"
   ]
  },
  {
   "cell_type": "code",
   "execution_count": 224,
   "id": "b77de8a3",
   "metadata": {},
   "outputs": [
    {
     "name": "stderr",
     "output_type": "stream",
     "text": [
      "C:\\ProgramData\\Anaconda3\\lib\\site-packages\\sklearn\\base.py:493: FutureWarning: The feature names should match those that were passed during fit. Starting version 1.2, an error will be raised.\n",
      "Feature names unseen at fit time:\n",
      "- des_city_9b2d5b4678781e53038e91ea5324530a03f27dc1d0e5f6c9bc9d493a23be9de0\n",
      "- des_country_9b2d5b4678781e53038e91ea5324530a03f27dc1d0e5f6c9bc9d493a23be9de0\n",
      "- source_9b2d5b4678781e53038e91ea5324530a03f27dc1d0e5f6c9bc9d493a23be9de0\n",
      "- source_city_467f29d648705d956b83aed4843decf448186a68a2ae1ed0fe77698815239fd8\n",
      "- source_city_9b2d5b4678781e53038e91ea5324530a03f27dc1d0e5f6c9bc9d493a23be9de0\n",
      "- ...\n",
      "Feature names seen at fit time, yet now missing:\n",
      "- des_city_unavailable\n",
      "- des_country_unavailable\n",
      "- source_city_unavailable\n",
      "- source_unavailable\n",
      "- utm_medium_unavailable\n",
      "\n",
      "  warnings.warn(message, FutureWarning)\n"
     ]
    },
    {
     "ename": "ValueError",
     "evalue": "X has 344 features, but LogisticRegression is expecting 343 features as input.",
     "output_type": "error",
     "traceback": [
      "\u001b[1;31m---------------------------------------------------------------------------\u001b[0m",
      "\u001b[1;31mValueError\u001b[0m                                Traceback (most recent call last)",
      "\u001b[1;32m~\\AppData\\Local\\Temp/ipykernel_20592/3674980819.py\u001b[0m in \u001b[0;36m<module>\u001b[1;34m\u001b[0m\n\u001b[1;32m----> 1\u001b[1;33m \u001b[0mmodel_lr\u001b[0m\u001b[1;33m.\u001b[0m\u001b[0mpredict_proba\u001b[0m\u001b[1;33m(\u001b[0m\u001b[0mencoded_df\u001b[0m\u001b[1;33m)\u001b[0m\u001b[1;33m\u001b[0m\u001b[1;33m\u001b[0m\u001b[0m\n\u001b[0m",
      "\u001b[1;32mC:\\ProgramData\\Anaconda3\\lib\\site-packages\\sklearn\\linear_model\\_logistic.py\u001b[0m in \u001b[0;36mpredict_proba\u001b[1;34m(self, X)\u001b[0m\n\u001b[0;32m   1309\u001b[0m         )\n\u001b[0;32m   1310\u001b[0m         \u001b[1;32mif\u001b[0m \u001b[0movr\u001b[0m\u001b[1;33m:\u001b[0m\u001b[1;33m\u001b[0m\u001b[1;33m\u001b[0m\u001b[0m\n\u001b[1;32m-> 1311\u001b[1;33m             \u001b[1;32mreturn\u001b[0m \u001b[0msuper\u001b[0m\u001b[1;33m(\u001b[0m\u001b[1;33m)\u001b[0m\u001b[1;33m.\u001b[0m\u001b[0m_predict_proba_lr\u001b[0m\u001b[1;33m(\u001b[0m\u001b[0mX\u001b[0m\u001b[1;33m)\u001b[0m\u001b[1;33m\u001b[0m\u001b[1;33m\u001b[0m\u001b[0m\n\u001b[0m\u001b[0;32m   1312\u001b[0m         \u001b[1;32melse\u001b[0m\u001b[1;33m:\u001b[0m\u001b[1;33m\u001b[0m\u001b[1;33m\u001b[0m\u001b[0m\n\u001b[0;32m   1313\u001b[0m             \u001b[0mdecision\u001b[0m \u001b[1;33m=\u001b[0m \u001b[0mself\u001b[0m\u001b[1;33m.\u001b[0m\u001b[0mdecision_function\u001b[0m\u001b[1;33m(\u001b[0m\u001b[0mX\u001b[0m\u001b[1;33m)\u001b[0m\u001b[1;33m\u001b[0m\u001b[1;33m\u001b[0m\u001b[0m\n",
      "\u001b[1;32mC:\\ProgramData\\Anaconda3\\lib\\site-packages\\sklearn\\linear_model\\_base.py\u001b[0m in \u001b[0;36m_predict_proba_lr\u001b[1;34m(self, X)\u001b[0m\n\u001b[0;32m    459\u001b[0m         \u001b[0mmulticlass\u001b[0m \u001b[1;32mis\u001b[0m \u001b[0mhandled\u001b[0m \u001b[0mby\u001b[0m \u001b[0mnormalizing\u001b[0m \u001b[0mthat\u001b[0m \u001b[0mover\u001b[0m \u001b[0mall\u001b[0m \u001b[0mclasses\u001b[0m\u001b[1;33m.\u001b[0m\u001b[1;33m\u001b[0m\u001b[1;33m\u001b[0m\u001b[0m\n\u001b[0;32m    460\u001b[0m         \"\"\"\n\u001b[1;32m--> 461\u001b[1;33m         \u001b[0mprob\u001b[0m \u001b[1;33m=\u001b[0m \u001b[0mself\u001b[0m\u001b[1;33m.\u001b[0m\u001b[0mdecision_function\u001b[0m\u001b[1;33m(\u001b[0m\u001b[0mX\u001b[0m\u001b[1;33m)\u001b[0m\u001b[1;33m\u001b[0m\u001b[1;33m\u001b[0m\u001b[0m\n\u001b[0m\u001b[0;32m    462\u001b[0m         \u001b[0mexpit\u001b[0m\u001b[1;33m(\u001b[0m\u001b[0mprob\u001b[0m\u001b[1;33m,\u001b[0m \u001b[0mout\u001b[0m\u001b[1;33m=\u001b[0m\u001b[0mprob\u001b[0m\u001b[1;33m)\u001b[0m\u001b[1;33m\u001b[0m\u001b[1;33m\u001b[0m\u001b[0m\n\u001b[0;32m    463\u001b[0m         \u001b[1;32mif\u001b[0m \u001b[0mprob\u001b[0m\u001b[1;33m.\u001b[0m\u001b[0mndim\u001b[0m \u001b[1;33m==\u001b[0m \u001b[1;36m1\u001b[0m\u001b[1;33m:\u001b[0m\u001b[1;33m\u001b[0m\u001b[1;33m\u001b[0m\u001b[0m\n",
      "\u001b[1;32mC:\\ProgramData\\Anaconda3\\lib\\site-packages\\sklearn\\linear_model\\_base.py\u001b[0m in \u001b[0;36mdecision_function\u001b[1;34m(self, X)\u001b[0m\n\u001b[0;32m    427\u001b[0m         \u001b[0mcheck_is_fitted\u001b[0m\u001b[1;33m(\u001b[0m\u001b[0mself\u001b[0m\u001b[1;33m)\u001b[0m\u001b[1;33m\u001b[0m\u001b[1;33m\u001b[0m\u001b[0m\n\u001b[0;32m    428\u001b[0m \u001b[1;33m\u001b[0m\u001b[0m\n\u001b[1;32m--> 429\u001b[1;33m         \u001b[0mX\u001b[0m \u001b[1;33m=\u001b[0m \u001b[0mself\u001b[0m\u001b[1;33m.\u001b[0m\u001b[0m_validate_data\u001b[0m\u001b[1;33m(\u001b[0m\u001b[0mX\u001b[0m\u001b[1;33m,\u001b[0m \u001b[0maccept_sparse\u001b[0m\u001b[1;33m=\u001b[0m\u001b[1;34m\"csr\"\u001b[0m\u001b[1;33m,\u001b[0m \u001b[0mreset\u001b[0m\u001b[1;33m=\u001b[0m\u001b[1;32mFalse\u001b[0m\u001b[1;33m)\u001b[0m\u001b[1;33m\u001b[0m\u001b[1;33m\u001b[0m\u001b[0m\n\u001b[0m\u001b[0;32m    430\u001b[0m         \u001b[0mscores\u001b[0m \u001b[1;33m=\u001b[0m \u001b[0msafe_sparse_dot\u001b[0m\u001b[1;33m(\u001b[0m\u001b[0mX\u001b[0m\u001b[1;33m,\u001b[0m \u001b[0mself\u001b[0m\u001b[1;33m.\u001b[0m\u001b[0mcoef_\u001b[0m\u001b[1;33m.\u001b[0m\u001b[0mT\u001b[0m\u001b[1;33m,\u001b[0m \u001b[0mdense_output\u001b[0m\u001b[1;33m=\u001b[0m\u001b[1;32mTrue\u001b[0m\u001b[1;33m)\u001b[0m \u001b[1;33m+\u001b[0m \u001b[0mself\u001b[0m\u001b[1;33m.\u001b[0m\u001b[0mintercept_\u001b[0m\u001b[1;33m\u001b[0m\u001b[1;33m\u001b[0m\u001b[0m\n\u001b[0;32m    431\u001b[0m         \u001b[1;32mreturn\u001b[0m \u001b[0mscores\u001b[0m\u001b[1;33m.\u001b[0m\u001b[0mravel\u001b[0m\u001b[1;33m(\u001b[0m\u001b[1;33m)\u001b[0m \u001b[1;32mif\u001b[0m \u001b[0mscores\u001b[0m\u001b[1;33m.\u001b[0m\u001b[0mshape\u001b[0m\u001b[1;33m[\u001b[0m\u001b[1;36m1\u001b[0m\u001b[1;33m]\u001b[0m \u001b[1;33m==\u001b[0m \u001b[1;36m1\u001b[0m \u001b[1;32melse\u001b[0m \u001b[0mscores\u001b[0m\u001b[1;33m\u001b[0m\u001b[1;33m\u001b[0m\u001b[0m\n",
      "\u001b[1;32mC:\\ProgramData\\Anaconda3\\lib\\site-packages\\sklearn\\base.py\u001b[0m in \u001b[0;36m_validate_data\u001b[1;34m(self, X, y, reset, validate_separately, **check_params)\u001b[0m\n\u001b[0;32m    598\u001b[0m \u001b[1;33m\u001b[0m\u001b[0m\n\u001b[0;32m    599\u001b[0m         \u001b[1;32mif\u001b[0m \u001b[1;32mnot\u001b[0m \u001b[0mno_val_X\u001b[0m \u001b[1;32mand\u001b[0m \u001b[0mcheck_params\u001b[0m\u001b[1;33m.\u001b[0m\u001b[0mget\u001b[0m\u001b[1;33m(\u001b[0m\u001b[1;34m\"ensure_2d\"\u001b[0m\u001b[1;33m,\u001b[0m \u001b[1;32mTrue\u001b[0m\u001b[1;33m)\u001b[0m\u001b[1;33m:\u001b[0m\u001b[1;33m\u001b[0m\u001b[1;33m\u001b[0m\u001b[0m\n\u001b[1;32m--> 600\u001b[1;33m             \u001b[0mself\u001b[0m\u001b[1;33m.\u001b[0m\u001b[0m_check_n_features\u001b[0m\u001b[1;33m(\u001b[0m\u001b[0mX\u001b[0m\u001b[1;33m,\u001b[0m \u001b[0mreset\u001b[0m\u001b[1;33m=\u001b[0m\u001b[0mreset\u001b[0m\u001b[1;33m)\u001b[0m\u001b[1;33m\u001b[0m\u001b[1;33m\u001b[0m\u001b[0m\n\u001b[0m\u001b[0;32m    601\u001b[0m \u001b[1;33m\u001b[0m\u001b[0m\n\u001b[0;32m    602\u001b[0m         \u001b[1;32mreturn\u001b[0m \u001b[0mout\u001b[0m\u001b[1;33m\u001b[0m\u001b[1;33m\u001b[0m\u001b[0m\n",
      "\u001b[1;32mC:\\ProgramData\\Anaconda3\\lib\\site-packages\\sklearn\\base.py\u001b[0m in \u001b[0;36m_check_n_features\u001b[1;34m(self, X, reset)\u001b[0m\n\u001b[0;32m    398\u001b[0m \u001b[1;33m\u001b[0m\u001b[0m\n\u001b[0;32m    399\u001b[0m         \u001b[1;32mif\u001b[0m \u001b[0mn_features\u001b[0m \u001b[1;33m!=\u001b[0m \u001b[0mself\u001b[0m\u001b[1;33m.\u001b[0m\u001b[0mn_features_in_\u001b[0m\u001b[1;33m:\u001b[0m\u001b[1;33m\u001b[0m\u001b[1;33m\u001b[0m\u001b[0m\n\u001b[1;32m--> 400\u001b[1;33m             raise ValueError(\n\u001b[0m\u001b[0;32m    401\u001b[0m                 \u001b[1;34mf\"X has {n_features} features, but {self.__class__.__name__} \"\u001b[0m\u001b[1;33m\u001b[0m\u001b[1;33m\u001b[0m\u001b[0m\n\u001b[0;32m    402\u001b[0m                 \u001b[1;34mf\"is expecting {self.n_features_in_} features as input.\"\u001b[0m\u001b[1;33m\u001b[0m\u001b[1;33m\u001b[0m\u001b[0m\n",
      "\u001b[1;31mValueError\u001b[0m: X has 344 features, but LogisticRegression is expecting 343 features as input."
     ]
    }
   ],
   "source": [
    "model_lr.predict_proba(encoded_df)"
   ]
  },
  {
   "cell_type": "code",
   "execution_count": 123,
   "id": "1bfa107f",
   "metadata": {},
   "outputs": [],
   "source": [
    "score=[]"
   ]
  },
  {
   "cell_type": "code",
   "execution_count": 124,
   "id": "fbcbf7ef",
   "metadata": {
    "collapsed": true
   },
   "outputs": [
    {
     "ename": "KeyboardInterrupt",
     "evalue": "",
     "output_type": "error",
     "traceback": [
      "\u001b[1;31m---------------------------------------------------------------------------\u001b[0m",
      "\u001b[1;31mKeyboardInterrupt\u001b[0m                         Traceback (most recent call last)",
      "\u001b[1;32m~\\AppData\\Local\\Temp/ipykernel_20592/1591283005.py\u001b[0m in \u001b[0;36m<module>\u001b[1;34m\u001b[0m\n\u001b[1;32m----> 1\u001b[1;33m \u001b[0mscore\u001b[0m\u001b[1;33m=\u001b[0m\u001b[1;33m[\u001b[0m\u001b[0mmodel_lr\u001b[0m\u001b[1;33m.\u001b[0m\u001b[0mpredict_proba\u001b[0m\u001b[1;33m(\u001b[0m\u001b[0mencoded_df\u001b[0m\u001b[1;33m)\u001b[0m\u001b[1;33m[\u001b[0m\u001b[0mi\u001b[0m\u001b[1;33m]\u001b[0m\u001b[1;33m[\u001b[0m\u001b[1;36m1\u001b[0m\u001b[1;33m]\u001b[0m \u001b[1;32mfor\u001b[0m \u001b[0mi\u001b[0m \u001b[1;32min\u001b[0m \u001b[0mrange\u001b[0m\u001b[1;33m(\u001b[0m\u001b[0mdf\u001b[0m\u001b[1;33m.\u001b[0m\u001b[0mshape\u001b[0m\u001b[1;33m[\u001b[0m\u001b[1;36m0\u001b[0m\u001b[1;33m]\u001b[0m\u001b[1;33m)\u001b[0m\u001b[1;33m]\u001b[0m\u001b[1;33m\u001b[0m\u001b[1;33m\u001b[0m\u001b[0m\n\u001b[0m",
      "\u001b[1;32m~\\AppData\\Local\\Temp/ipykernel_20592/1591283005.py\u001b[0m in \u001b[0;36m<listcomp>\u001b[1;34m(.0)\u001b[0m\n\u001b[1;32m----> 1\u001b[1;33m \u001b[0mscore\u001b[0m\u001b[1;33m=\u001b[0m\u001b[1;33m[\u001b[0m\u001b[0mmodel_lr\u001b[0m\u001b[1;33m.\u001b[0m\u001b[0mpredict_proba\u001b[0m\u001b[1;33m(\u001b[0m\u001b[0mencoded_df\u001b[0m\u001b[1;33m)\u001b[0m\u001b[1;33m[\u001b[0m\u001b[0mi\u001b[0m\u001b[1;33m]\u001b[0m\u001b[1;33m[\u001b[0m\u001b[1;36m1\u001b[0m\u001b[1;33m]\u001b[0m \u001b[1;32mfor\u001b[0m \u001b[0mi\u001b[0m \u001b[1;32min\u001b[0m \u001b[0mrange\u001b[0m\u001b[1;33m(\u001b[0m\u001b[0mdf\u001b[0m\u001b[1;33m.\u001b[0m\u001b[0mshape\u001b[0m\u001b[1;33m[\u001b[0m\u001b[1;36m0\u001b[0m\u001b[1;33m]\u001b[0m\u001b[1;33m)\u001b[0m\u001b[1;33m]\u001b[0m\u001b[1;33m\u001b[0m\u001b[1;33m\u001b[0m\u001b[0m\n\u001b[0m",
      "\u001b[1;32mC:\\ProgramData\\Anaconda3\\lib\\site-packages\\sklearn\\linear_model\\_logistic.py\u001b[0m in \u001b[0;36mpredict_proba\u001b[1;34m(self, X)\u001b[0m\n\u001b[0;32m   1309\u001b[0m         )\n\u001b[0;32m   1310\u001b[0m         \u001b[1;32mif\u001b[0m \u001b[0movr\u001b[0m\u001b[1;33m:\u001b[0m\u001b[1;33m\u001b[0m\u001b[1;33m\u001b[0m\u001b[0m\n\u001b[1;32m-> 1311\u001b[1;33m             \u001b[1;32mreturn\u001b[0m \u001b[0msuper\u001b[0m\u001b[1;33m(\u001b[0m\u001b[1;33m)\u001b[0m\u001b[1;33m.\u001b[0m\u001b[0m_predict_proba_lr\u001b[0m\u001b[1;33m(\u001b[0m\u001b[0mX\u001b[0m\u001b[1;33m)\u001b[0m\u001b[1;33m\u001b[0m\u001b[1;33m\u001b[0m\u001b[0m\n\u001b[0m\u001b[0;32m   1312\u001b[0m         \u001b[1;32melse\u001b[0m\u001b[1;33m:\u001b[0m\u001b[1;33m\u001b[0m\u001b[1;33m\u001b[0m\u001b[0m\n\u001b[0;32m   1313\u001b[0m             \u001b[0mdecision\u001b[0m \u001b[1;33m=\u001b[0m \u001b[0mself\u001b[0m\u001b[1;33m.\u001b[0m\u001b[0mdecision_function\u001b[0m\u001b[1;33m(\u001b[0m\u001b[0mX\u001b[0m\u001b[1;33m)\u001b[0m\u001b[1;33m\u001b[0m\u001b[1;33m\u001b[0m\u001b[0m\n",
      "\u001b[1;32mC:\\ProgramData\\Anaconda3\\lib\\site-packages\\sklearn\\linear_model\\_base.py\u001b[0m in \u001b[0;36m_predict_proba_lr\u001b[1;34m(self, X)\u001b[0m\n\u001b[0;32m    459\u001b[0m         \u001b[0mmulticlass\u001b[0m \u001b[1;32mis\u001b[0m \u001b[0mhandled\u001b[0m \u001b[0mby\u001b[0m \u001b[0mnormalizing\u001b[0m \u001b[0mthat\u001b[0m \u001b[0mover\u001b[0m \u001b[0mall\u001b[0m \u001b[0mclasses\u001b[0m\u001b[1;33m.\u001b[0m\u001b[1;33m\u001b[0m\u001b[1;33m\u001b[0m\u001b[0m\n\u001b[0;32m    460\u001b[0m         \"\"\"\n\u001b[1;32m--> 461\u001b[1;33m         \u001b[0mprob\u001b[0m \u001b[1;33m=\u001b[0m \u001b[0mself\u001b[0m\u001b[1;33m.\u001b[0m\u001b[0mdecision_function\u001b[0m\u001b[1;33m(\u001b[0m\u001b[0mX\u001b[0m\u001b[1;33m)\u001b[0m\u001b[1;33m\u001b[0m\u001b[1;33m\u001b[0m\u001b[0m\n\u001b[0m\u001b[0;32m    462\u001b[0m         \u001b[0mexpit\u001b[0m\u001b[1;33m(\u001b[0m\u001b[0mprob\u001b[0m\u001b[1;33m,\u001b[0m \u001b[0mout\u001b[0m\u001b[1;33m=\u001b[0m\u001b[0mprob\u001b[0m\u001b[1;33m)\u001b[0m\u001b[1;33m\u001b[0m\u001b[1;33m\u001b[0m\u001b[0m\n\u001b[0;32m    463\u001b[0m         \u001b[1;32mif\u001b[0m \u001b[0mprob\u001b[0m\u001b[1;33m.\u001b[0m\u001b[0mndim\u001b[0m \u001b[1;33m==\u001b[0m \u001b[1;36m1\u001b[0m\u001b[1;33m:\u001b[0m\u001b[1;33m\u001b[0m\u001b[1;33m\u001b[0m\u001b[0m\n",
      "\u001b[1;32mC:\\ProgramData\\Anaconda3\\lib\\site-packages\\sklearn\\linear_model\\_base.py\u001b[0m in \u001b[0;36mdecision_function\u001b[1;34m(self, X)\u001b[0m\n\u001b[0;32m    428\u001b[0m \u001b[1;33m\u001b[0m\u001b[0m\n\u001b[0;32m    429\u001b[0m         \u001b[0mX\u001b[0m \u001b[1;33m=\u001b[0m \u001b[0mself\u001b[0m\u001b[1;33m.\u001b[0m\u001b[0m_validate_data\u001b[0m\u001b[1;33m(\u001b[0m\u001b[0mX\u001b[0m\u001b[1;33m,\u001b[0m \u001b[0maccept_sparse\u001b[0m\u001b[1;33m=\u001b[0m\u001b[1;34m\"csr\"\u001b[0m\u001b[1;33m,\u001b[0m \u001b[0mreset\u001b[0m\u001b[1;33m=\u001b[0m\u001b[1;32mFalse\u001b[0m\u001b[1;33m)\u001b[0m\u001b[1;33m\u001b[0m\u001b[1;33m\u001b[0m\u001b[0m\n\u001b[1;32m--> 430\u001b[1;33m         \u001b[0mscores\u001b[0m \u001b[1;33m=\u001b[0m \u001b[0msafe_sparse_dot\u001b[0m\u001b[1;33m(\u001b[0m\u001b[0mX\u001b[0m\u001b[1;33m,\u001b[0m \u001b[0mself\u001b[0m\u001b[1;33m.\u001b[0m\u001b[0mcoef_\u001b[0m\u001b[1;33m.\u001b[0m\u001b[0mT\u001b[0m\u001b[1;33m,\u001b[0m \u001b[0mdense_output\u001b[0m\u001b[1;33m=\u001b[0m\u001b[1;32mTrue\u001b[0m\u001b[1;33m)\u001b[0m \u001b[1;33m+\u001b[0m \u001b[0mself\u001b[0m\u001b[1;33m.\u001b[0m\u001b[0mintercept_\u001b[0m\u001b[1;33m\u001b[0m\u001b[1;33m\u001b[0m\u001b[0m\n\u001b[0m\u001b[0;32m    431\u001b[0m         \u001b[1;32mreturn\u001b[0m \u001b[0mscores\u001b[0m\u001b[1;33m.\u001b[0m\u001b[0mravel\u001b[0m\u001b[1;33m(\u001b[0m\u001b[1;33m)\u001b[0m \u001b[1;32mif\u001b[0m \u001b[0mscores\u001b[0m\u001b[1;33m.\u001b[0m\u001b[0mshape\u001b[0m\u001b[1;33m[\u001b[0m\u001b[1;36m1\u001b[0m\u001b[1;33m]\u001b[0m \u001b[1;33m==\u001b[0m \u001b[1;36m1\u001b[0m \u001b[1;32melse\u001b[0m \u001b[0mscores\u001b[0m\u001b[1;33m\u001b[0m\u001b[1;33m\u001b[0m\u001b[0m\n\u001b[0;32m    432\u001b[0m \u001b[1;33m\u001b[0m\u001b[0m\n",
      "\u001b[1;32mC:\\ProgramData\\Anaconda3\\lib\\site-packages\\sklearn\\utils\\extmath.py\u001b[0m in \u001b[0;36msafe_sparse_dot\u001b[1;34m(a, b, dense_output)\u001b[0m\n\u001b[0;32m    150\u001b[0m             \u001b[0mret\u001b[0m \u001b[1;33m=\u001b[0m \u001b[0mnp\u001b[0m\u001b[1;33m.\u001b[0m\u001b[0mdot\u001b[0m\u001b[1;33m(\u001b[0m\u001b[0ma\u001b[0m\u001b[1;33m,\u001b[0m \u001b[0mb\u001b[0m\u001b[1;33m)\u001b[0m\u001b[1;33m\u001b[0m\u001b[1;33m\u001b[0m\u001b[0m\n\u001b[0;32m    151\u001b[0m     \u001b[1;32melse\u001b[0m\u001b[1;33m:\u001b[0m\u001b[1;33m\u001b[0m\u001b[1;33m\u001b[0m\u001b[0m\n\u001b[1;32m--> 152\u001b[1;33m         \u001b[0mret\u001b[0m \u001b[1;33m=\u001b[0m \u001b[0ma\u001b[0m \u001b[1;33m@\u001b[0m \u001b[0mb\u001b[0m\u001b[1;33m\u001b[0m\u001b[1;33m\u001b[0m\u001b[0m\n\u001b[0m\u001b[0;32m    153\u001b[0m \u001b[1;33m\u001b[0m\u001b[0m\n\u001b[0;32m    154\u001b[0m     if (\n",
      "\u001b[1;31mKeyboardInterrupt\u001b[0m: "
     ]
    }
   ],
   "source": [
    "score=[model_lr.predict_proba(encoded_df)[i][1] for i in range(df.shape[0])]"
   ]
  },
  {
   "cell_type": "code",
   "execution_count": 128,
   "id": "25cc7f63",
   "metadata": {},
   "outputs": [],
   "source": [
    "pred=model_lr.predict_proba(encoded_df)"
   ]
  },
  {
   "cell_type": "code",
   "execution_count": 129,
   "id": "59211e43",
   "metadata": {},
   "outputs": [
    {
     "data": {
      "text/plain": [
       "(46307, 2)"
      ]
     },
     "execution_count": 129,
     "metadata": {},
     "output_type": "execute_result"
    }
   ],
   "source": [
    "pred.shape"
   ]
  },
  {
   "cell_type": "code",
   "execution_count": 131,
   "id": "e497fa09",
   "metadata": {},
   "outputs": [
    {
     "data": {
      "text/plain": [
       "array([[0.99835599, 0.00164401],\n",
       "       [0.97063675, 0.02936325],\n",
       "       [0.88074644, 0.11925356],\n",
       "       ...,\n",
       "       [0.97369586, 0.02630414],\n",
       "       [0.99602184, 0.00397816],\n",
       "       [0.92500189, 0.07499811]])"
      ]
     },
     "execution_count": 131,
     "metadata": {},
     "output_type": "execute_result"
    }
   ],
   "source": [
    "pred"
   ]
  },
  {
   "cell_type": "code",
   "execution_count": 148,
   "id": "8b6dab8f",
   "metadata": {},
   "outputs": [
    {
     "data": {
      "text/plain": [
       "0.029363253996635082"
      ]
     },
     "execution_count": 148,
     "metadata": {},
     "output_type": "execute_result"
    }
   ],
   "source": [
    "pred[:][1][1]"
   ]
  },
  {
   "cell_type": "code",
   "execution_count": 163,
   "id": "b32cf824",
   "metadata": {},
   "outputs": [],
   "source": [
    "df['score']=[round(pred[i][1]*100,2) for i in range(pred.shape[0])]"
   ]
  },
  {
   "cell_type": "code",
   "execution_count": 160,
   "id": "ce842f15",
   "metadata": {},
   "outputs": [
    {
     "data": {
      "text/plain": [
       "[0.16,\n",
       " 2.94,\n",
       " 11.93,\n",
       " 12.91,\n",
       " 0.51,\n",
       " 1.65,\n",
       " 3.64,\n",
       " 4.83,\n",
       " 2.72,\n",
       " 26.76,\n",
       " 0.01,\n",
       " 24.82,\n",
       " 9.7,\n",
       " 3.1,\n",
       " 4.02,\n",
       " 2.75,\n",
       " 0.05,\n",
       " 2.61,\n",
       " 18.42,\n",
       " 0.06,\n",
       " 19.58,\n",
       " 0.01,\n",
       " 3.9,\n",
       " 26.23,\n",
       " 17.73,\n",
       " 2.49,\n",
       " 1.37,\n",
       " 0.0,\n",
       " 0.01,\n",
       " 0.33,\n",
       " 29.23,\n",
       " 1.87,\n",
       " 1.23,\n",
       " 9.56,\n",
       " 1.93,\n",
       " 0.01,\n",
       " 0.27,\n",
       " 0.01,\n",
       " 6.72,\n",
       " 8.94,\n",
       " 4.07,\n",
       " 0.6,\n",
       " 0.98,\n",
       " 0.01,\n",
       " 1.18,\n",
       " 6.55,\n",
       " 9.46,\n",
       " 0.86,\n",
       " 0.0,\n",
       " 0.01,\n",
       " 0.0,\n",
       " 2.74,\n",
       " 0.35,\n",
       " 1.55,\n",
       " 0.89,\n",
       " 4.91,\n",
       " 21.79,\n",
       " 0.06,\n",
       " 0.31,\n",
       " 0.01,\n",
       " 0.48,\n",
       " 0.26,\n",
       " 0.36,\n",
       " 0.08,\n",
       " 1.3,\n",
       " 0.01,\n",
       " 0.97,\n",
       " 0.0,\n",
       " 1.0,\n",
       " 6.2,\n",
       " 0.0,\n",
       " 1.05,\n",
       " 0.05,\n",
       " 0.28,\n",
       " 0.0,\n",
       " 12.59,\n",
       " 0.85,\n",
       " 12.94,\n",
       " 0.01,\n",
       " 2.31,\n",
       " 0.08,\n",
       " 0.06,\n",
       " 1.92,\n",
       " 0.08,\n",
       " 9.93,\n",
       " 0.29,\n",
       " 3.26,\n",
       " 14.27,\n",
       " 5.06,\n",
       " 0.13,\n",
       " 9.22,\n",
       " 1.05,\n",
       " 3.8,\n",
       " 3.37,\n",
       " 4.19,\n",
       " 3.71,\n",
       " 6.3,\n",
       " 5.61,\n",
       " 32.25,\n",
       " 0.59,\n",
       " 12.71,\n",
       " 0.28,\n",
       " 7.95,\n",
       " 22.63,\n",
       " 3.92,\n",
       " 0.01,\n",
       " 0.71,\n",
       " 1.47,\n",
       " 5.54,\n",
       " 21.09,\n",
       " 11.28,\n",
       " 19.59,\n",
       " 4.11,\n",
       " 1.1,\n",
       " 51.4,\n",
       " 0.03,\n",
       " 0.01,\n",
       " 10.31,\n",
       " 4.37,\n",
       " 1.92,\n",
       " 1.6,\n",
       " 0.01,\n",
       " 2.55,\n",
       " 5.99,\n",
       " 14.48,\n",
       " 5.82,\n",
       " 6.61,\n",
       " 1.64,\n",
       " 15.84,\n",
       " 0.05,\n",
       " 7.15,\n",
       " 0.94,\n",
       " 2.52,\n",
       " 0.31,\n",
       " 1.08,\n",
       " 3.56,\n",
       " 0.02,\n",
       " 0.75,\n",
       " 0.57,\n",
       " 7.88,\n",
       " 8.28,\n",
       " 15.65,\n",
       " 2.73,\n",
       " 0.03,\n",
       " 0.01,\n",
       " 19.03,\n",
       " 4.37,\n",
       " 3.78,\n",
       " 0.02,\n",
       " 5.74,\n",
       " 1.28,\n",
       " 9.08,\n",
       " 7.95,\n",
       " 6.49,\n",
       " 3.1,\n",
       " 2.45,\n",
       " 0.04,\n",
       " 0.01,\n",
       " 0.9,\n",
       " 0.82,\n",
       " 42.57,\n",
       " 7.83,\n",
       " 10.48,\n",
       " 3.12,\n",
       " 12.82,\n",
       " 21.43,\n",
       " 5.67,\n",
       " 6.07,\n",
       " 16.5,\n",
       " 16.84,\n",
       " 11.79,\n",
       " 5.79,\n",
       " 8.83,\n",
       " 0.11,\n",
       " 0.23,\n",
       " 7.2,\n",
       " 0.79,\n",
       " 0.5,\n",
       " 3.35,\n",
       " 0.27,\n",
       " 22.58,\n",
       " 2.51,\n",
       " 6.84,\n",
       " 11.48,\n",
       " 0.96,\n",
       " 17.14,\n",
       " 9.28,\n",
       " 15.31,\n",
       " 6.43,\n",
       " 0.56,\n",
       " 7.41,\n",
       " 8.99,\n",
       " 16.53,\n",
       " 61.09,\n",
       " 61.09,\n",
       " 5.88,\n",
       " 0.0,\n",
       " 2.33,\n",
       " 2.26,\n",
       " 4.13,\n",
       " 3.71,\n",
       " 1.39,\n",
       " 3.52,\n",
       " 45.65,\n",
       " 5.62,\n",
       " 9.68,\n",
       " 3.66,\n",
       " 2.61,\n",
       " 4.08,\n",
       " 6.8,\n",
       " 14.71,\n",
       " 9.03,\n",
       " 0.05,\n",
       " 10.0,\n",
       " 66.44,\n",
       " 4.02,\n",
       " 17.81,\n",
       " 12.95,\n",
       " 5.51,\n",
       " 1.3,\n",
       " 1.24,\n",
       " 0.02,\n",
       " 0.03,\n",
       " 0.33,\n",
       " 1.09,\n",
       " 20.03,\n",
       " 0.43,\n",
       " 3.22,\n",
       " 18.99,\n",
       " 2.61,\n",
       " 0.9,\n",
       " 1.82,\n",
       " 1.78,\n",
       " 13.76,\n",
       " 11.27,\n",
       " 0.04,\n",
       " 1.2,\n",
       " 7.51,\n",
       " 0.01,\n",
       " 0.28,\n",
       " 7.41,\n",
       " 36.05,\n",
       " 0.98,\n",
       " 17.7,\n",
       " 4.15,\n",
       " 4.2,\n",
       " 19.53,\n",
       " 1.2,\n",
       " 13.66,\n",
       " 25.27,\n",
       " 16.51,\n",
       " 9.91,\n",
       " 11.43,\n",
       " 12.03,\n",
       " 1.78,\n",
       " 3.43,\n",
       " 5.22,\n",
       " 0.98,\n",
       " 17.82,\n",
       " 11.61,\n",
       " 8.98,\n",
       " 20.06,\n",
       " 4.93,\n",
       " 7.38,\n",
       " 1.49,\n",
       " 1.32,\n",
       " 8.09,\n",
       " 8.25,\n",
       " 8.09,\n",
       " 18.96,\n",
       " 0.77,\n",
       " 15.97,\n",
       " 5.84,\n",
       " 0.34,\n",
       " 3.48,\n",
       " 19.42,\n",
       " 1.01,\n",
       " 13.67,\n",
       " 0.03,\n",
       " 7.36,\n",
       " 10.34,\n",
       " 10.43,\n",
       " 2.77,\n",
       " 2.87,\n",
       " 0.64,\n",
       " 0.0,\n",
       " 4.03,\n",
       " 19.58,\n",
       " 6.4,\n",
       " 0.38,\n",
       " 0.02,\n",
       " 3.52,\n",
       " 0.68,\n",
       " 0.67,\n",
       " 6.77,\n",
       " 0.82,\n",
       " 12.5,\n",
       " 1.82,\n",
       " 3.86,\n",
       " 19.08,\n",
       " 10.89,\n",
       " 3.41,\n",
       " 21.14,\n",
       " 0.44,\n",
       " 5.32,\n",
       " 27.1,\n",
       " 13.28,\n",
       " 2.99,\n",
       " 2.17,\n",
       " 5.76,\n",
       " 16.35,\n",
       " 6.51,\n",
       " 1.29,\n",
       " 1.41,\n",
       " 5.18,\n",
       " 7.92,\n",
       " 0.88,\n",
       " 1.08,\n",
       " 1.2,\n",
       " 4.42,\n",
       " 16.62,\n",
       " 3.35,\n",
       " 0.46,\n",
       " 4.24,\n",
       " 1.09,\n",
       " 0.47,\n",
       " 0.66,\n",
       " 0.86,\n",
       " 1.08,\n",
       " 13.16,\n",
       " 1.06,\n",
       " 0.04,\n",
       " 4.62,\n",
       " 0.03,\n",
       " 19.0,\n",
       " 0.01,\n",
       " 9.77,\n",
       " 0.01,\n",
       " 14.92,\n",
       " 1.82,\n",
       " 6.05,\n",
       " 14.63,\n",
       " 7.2,\n",
       " 36.68,\n",
       " 27.99,\n",
       " 11.58,\n",
       " 11.37,\n",
       " 4.01,\n",
       " 4.89,\n",
       " 3.0,\n",
       " 0.09,\n",
       " 2.12,\n",
       " 0.44,\n",
       " 5.69,\n",
       " 0.84,\n",
       " 0.03,\n",
       " 1.01,\n",
       " 2.76,\n",
       " 7.91,\n",
       " 0.02,\n",
       " 1.66,\n",
       " 6.89,\n",
       " 7.4,\n",
       " 7.06,\n",
       " 3.11,\n",
       " 7.39,\n",
       " 4.54,\n",
       " 22.53,\n",
       " 16.12,\n",
       " 24.72,\n",
       " 0.03,\n",
       " 2.45,\n",
       " 5.04,\n",
       " 0.01,\n",
       " 8.18,\n",
       " 1.56,\n",
       " 1.13,\n",
       " 6.66,\n",
       " 0.07,\n",
       " 2.46,\n",
       " 4.1,\n",
       " 12.49,\n",
       " 3.41,\n",
       " 12.41,\n",
       " 7.28,\n",
       " 0.04,\n",
       " 12.23,\n",
       " 9.9,\n",
       " 23.97,\n",
       " 2.2,\n",
       " 2.96,\n",
       " 0.01,\n",
       " 0.01,\n",
       " 0.05,\n",
       " 0.01,\n",
       " 0.05,\n",
       " 1.36,\n",
       " 18.19,\n",
       " 0.11,\n",
       " 10.91,\n",
       " 10.15,\n",
       " 3.78,\n",
       " 7.1,\n",
       " 6.98,\n",
       " 9.6,\n",
       " 0.99,\n",
       " 5.22,\n",
       " 54.98,\n",
       " 8.34,\n",
       " 1.84,\n",
       " 1.47,\n",
       " 16.29,\n",
       " 4.41,\n",
       " 1.47,\n",
       " 10.55,\n",
       " 0.05,\n",
       " 0.03,\n",
       " 6.1,\n",
       " 3.77,\n",
       " 1.91,\n",
       " 8.58,\n",
       " 5.93,\n",
       " 1.07,\n",
       " 0.02,\n",
       " 8.81,\n",
       " 0.02,\n",
       " 13.88,\n",
       " 0.27,\n",
       " 1.65,\n",
       " 2.44,\n",
       " 1.18,\n",
       " 13.8,\n",
       " 7.56,\n",
       " 3.98,\n",
       " 2.2,\n",
       " 6.28,\n",
       " 4.24,\n",
       " 16.36,\n",
       " 30.33,\n",
       " 1.12,\n",
       " 0.05,\n",
       " 0.04,\n",
       " 15.75,\n",
       " 8.07,\n",
       " 0.04,\n",
       " 8.86,\n",
       " 28.96,\n",
       " 2.78,\n",
       " 41.0,\n",
       " 0.58,\n",
       " 0.99,\n",
       " 0.08,\n",
       " 28.95,\n",
       " 1.62,\n",
       " 6.66,\n",
       " 2.78,\n",
       " 18.23,\n",
       " 2.57,\n",
       " 0.08,\n",
       " 7.38,\n",
       " 7.65,\n",
       " 15.67,\n",
       " 45.21,\n",
       " 14.45,\n",
       " 8.09,\n",
       " 20.37,\n",
       " 22.19,\n",
       " 0.08,\n",
       " 0.92,\n",
       " 16.54,\n",
       " 2.14,\n",
       " 0.01,\n",
       " 0.05,\n",
       " 1.86,\n",
       " 0.08,\n",
       " 14.07,\n",
       " 1.32,\n",
       " 3.49,\n",
       " 3.32,\n",
       " 0.08,\n",
       " 13.51,\n",
       " 4.22,\n",
       " 2.9,\n",
       " 8.92,\n",
       " 2.71,\n",
       " 25.23,\n",
       " 4.77,\n",
       " 3.08,\n",
       " 0.02,\n",
       " 12.05,\n",
       " 4.79,\n",
       " 1.15,\n",
       " 4.56,\n",
       " 55.67,\n",
       " 41.39,\n",
       " 0.0,\n",
       " 4.22,\n",
       " 26.67,\n",
       " 10.7,\n",
       " 41.69,\n",
       " 0.07,\n",
       " 0.05,\n",
       " 16.47,\n",
       " 8.26,\n",
       " 0.05,\n",
       " 6.94,\n",
       " 24.57,\n",
       " 5.98,\n",
       " 14.48,\n",
       " 14.62,\n",
       " 5.95,\n",
       " 4.59,\n",
       " 0.01,\n",
       " 1.3,\n",
       " 2.31,\n",
       " 0.05,\n",
       " 57.2,\n",
       " 20.28,\n",
       " 0.0,\n",
       " 24.27,\n",
       " 3.75,\n",
       " 4.8,\n",
       " 4.54,\n",
       " 19.79,\n",
       " 0.01,\n",
       " 3.19,\n",
       " 6.87,\n",
       " 1.28,\n",
       " 26.53,\n",
       " 3.08,\n",
       " 2.9,\n",
       " 0.0,\n",
       " 33.94,\n",
       " 5.55,\n",
       " 28.81,\n",
       " 0.08,\n",
       " 16.54,\n",
       " 8.15,\n",
       " 24.14,\n",
       " 17.61,\n",
       " 5.42,\n",
       " 10.29,\n",
       " 0.01,\n",
       " 4.41,\n",
       " 9.91,\n",
       " 0.08,\n",
       " 8.03,\n",
       " 0.53,\n",
       " 1.92,\n",
       " 0.02,\n",
       " 7.5,\n",
       " 3.33,\n",
       " 2.9,\n",
       " 5.66,\n",
       " 1.17,\n",
       " 0.01,\n",
       " 0.89,\n",
       " 0.55,\n",
       " 0.01,\n",
       " 0.65,\n",
       " 0.06,\n",
       " 0.0,\n",
       " 38.92,\n",
       " 4.72,\n",
       " 2.89,\n",
       " 8.28,\n",
       " 1.84,\n",
       " 4.94,\n",
       " 2.14,\n",
       " 0.03,\n",
       " 0.05,\n",
       " 4.05,\n",
       " 11.33,\n",
       " 4.34,\n",
       " 0.76,\n",
       " 0.05,\n",
       " 23.74,\n",
       " 2.88,\n",
       " 8.49,\n",
       " 10.48,\n",
       " 5.05,\n",
       " 9.54,\n",
       " 15.48,\n",
       " 2.33,\n",
       " 20.58,\n",
       " 2.59,\n",
       " 25.04,\n",
       " 0.11,\n",
       " 3.54,\n",
       " 0.03,\n",
       " 4.77,\n",
       " 0.28,\n",
       " 12.48,\n",
       " 15.07,\n",
       " 4.62,\n",
       " 3.4,\n",
       " 21.55,\n",
       " 3.2,\n",
       " 43.22,\n",
       " 6.47,\n",
       " 1.58,\n",
       " 0.06,\n",
       " 8.99,\n",
       " 2.69,\n",
       " 0.24,\n",
       " 5.8,\n",
       " 1.44,\n",
       " 0.03,\n",
       " 23.51,\n",
       " 10.46,\n",
       " 16.32,\n",
       " 13.8,\n",
       " 0.01,\n",
       " 2.74,\n",
       " 0.05,\n",
       " 0.0,\n",
       " 11.67,\n",
       " 7.14,\n",
       " 5.71,\n",
       " 33.04,\n",
       " 3.94,\n",
       " 7.01,\n",
       " 22.06,\n",
       " 4.1,\n",
       " 0.11,\n",
       " 7.23,\n",
       " 1.73,\n",
       " 0.62,\n",
       " 4.95,\n",
       " 14.59,\n",
       " 0.01,\n",
       " 16.43,\n",
       " 0.72,\n",
       " 9.59,\n",
       " 0.0,\n",
       " 4.73,\n",
       " 5.46,\n",
       " 2.79,\n",
       " 0.08,\n",
       " 0.63,\n",
       " 5.52,\n",
       " 2.83,\n",
       " 13.4,\n",
       " 14.67,\n",
       " 0.89,\n",
       " 1.29,\n",
       " 2.69,\n",
       " 2.39,\n",
       " 0.0,\n",
       " 5.03,\n",
       " 13.07,\n",
       " 14.35,\n",
       " 0.0,\n",
       " 23.8,\n",
       " 0.69,\n",
       " 0.63,\n",
       " 0.02,\n",
       " 2.34,\n",
       " 5.09,\n",
       " 0.34,\n",
       " 3.52,\n",
       " 0.02,\n",
       " 0.02,\n",
       " 25.45,\n",
       " 12.27,\n",
       " 4.86,\n",
       " 0.05,\n",
       " 3.68,\n",
       " 7.07,\n",
       " 2.58,\n",
       " 5.59,\n",
       " 0.02,\n",
       " 0.42,\n",
       " 55.83,\n",
       " 74.97,\n",
       " 15.52,\n",
       " 15.11,\n",
       " 0.41,\n",
       " 16.72,\n",
       " 13.85,\n",
       " 4.19,\n",
       " 29.46,\n",
       " 16.43,\n",
       " 1.16,\n",
       " 26.84,\n",
       " 6.35,\n",
       " 29.46,\n",
       " 44.05,\n",
       " 12.44,\n",
       " 0.0,\n",
       " 9.55,\n",
       " 3.61,\n",
       " 32.24,\n",
       " 17.67,\n",
       " 8.29,\n",
       " 17.67,\n",
       " 3.64,\n",
       " 15.9,\n",
       " 13.73,\n",
       " 0.05,\n",
       " 0.03,\n",
       " 42.07,\n",
       " 15.99,\n",
       " 0.02,\n",
       " 0.02,\n",
       " 0.35,\n",
       " 0.3,\n",
       " 4.45,\n",
       " 58.63,\n",
       " 18.25,\n",
       " 10.58,\n",
       " 10.58,\n",
       " 36.48,\n",
       " 51.05,\n",
       " 5.41,\n",
       " 5.1,\n",
       " 0.77,\n",
       " 0.18,\n",
       " 3.05,\n",
       " 7.29,\n",
       " 2.8,\n",
       " 0.02,\n",
       " 4.62,\n",
       " 58.91,\n",
       " 6.01,\n",
       " 5.27,\n",
       " 0.45,\n",
       " 1.27,\n",
       " 0.01,\n",
       " 2.94,\n",
       " 13.5,\n",
       " 3.76,\n",
       " 21.45,\n",
       " 46.22,\n",
       " 11.12,\n",
       " 7.71,\n",
       " 8.61,\n",
       " 1.91,\n",
       " 5.86,\n",
       " 0.03,\n",
       " 0.02,\n",
       " 13.44,\n",
       " 3.72,\n",
       " 2.57,\n",
       " 2.18,\n",
       " 17.74,\n",
       " 1.73,\n",
       " 0.48,\n",
       " 11.0,\n",
       " 3.46,\n",
       " 0.06,\n",
       " 2.72,\n",
       " 1.19,\n",
       " 6.67,\n",
       " 6.82,\n",
       " 0.48,\n",
       " 6.4,\n",
       " 9.06,\n",
       " 11.35,\n",
       " 46.07,\n",
       " 3.66,\n",
       " 11.21,\n",
       " 0.02,\n",
       " 0.02,\n",
       " 0.06,\n",
       " 16.04,\n",
       " 36.45,\n",
       " 8.55,\n",
       " 13.08,\n",
       " 4.91,\n",
       " 22.05,\n",
       " 4.75,\n",
       " 1.14,\n",
       " 84.2,\n",
       " 7.53,\n",
       " 3.08,\n",
       " 3.14,\n",
       " 12.51,\n",
       " 38.02,\n",
       " 0.19,\n",
       " 0.0,\n",
       " 4.11,\n",
       " 3.02,\n",
       " 2.29,\n",
       " 0.9,\n",
       " 1.5,\n",
       " 5.53,\n",
       " 0.07,\n",
       " 0.03,\n",
       " 1.69,\n",
       " 4.53,\n",
       " 0.0,\n",
       " 0.63,\n",
       " 4.03,\n",
       " 8.9,\n",
       " 2.83,\n",
       " 7.06,\n",
       " 69.38,\n",
       " 0.96,\n",
       " 0.97,\n",
       " 1.63,\n",
       " 11.53,\n",
       " 13.7,\n",
       " 11.83,\n",
       " 3.15,\n",
       " 2.85,\n",
       " 0.47,\n",
       " 0.02,\n",
       " 11.5,\n",
       " 2.61,\n",
       " 9.28,\n",
       " 0.39,\n",
       " 0.03,\n",
       " 23.87,\n",
       " 4.82,\n",
       " 4.72,\n",
       " 21.19,\n",
       " 2.2,\n",
       " 19.98,\n",
       " 3.68,\n",
       " 14.94,\n",
       " 7.83,\n",
       " 25.25,\n",
       " 2.73,\n",
       " 3.82,\n",
       " 7.72,\n",
       " 1.2,\n",
       " 3.57,\n",
       " 8.39,\n",
       " 0.02,\n",
       " 4.03,\n",
       " 0.66,\n",
       " 1.92,\n",
       " 1.97,\n",
       " 4.04,\n",
       " 2.46,\n",
       " 1.68,\n",
       " 12.51,\n",
       " 7.45,\n",
       " 33.4,\n",
       " 88.32,\n",
       " 7.62,\n",
       " 10.79,\n",
       " 1.09,\n",
       " 13.16,\n",
       " 9.62,\n",
       " 26.0,\n",
       " 1.57,\n",
       " 7.53,\n",
       " 0.82,\n",
       " 17.77,\n",
       " 0.01,\n",
       " 9.35,\n",
       " 13.28,\n",
       " 0.38,\n",
       " 23.51,\n",
       " 1.15,\n",
       " 12.93,\n",
       " 2.58,\n",
       " 6.64,\n",
       " 2.95,\n",
       " 9.29,\n",
       " 0.08,\n",
       " 13.63,\n",
       " 0.01,\n",
       " 0.05,\n",
       " 11.66,\n",
       " 0.14,\n",
       " 3.76,\n",
       " 3.34,\n",
       " 0.01,\n",
       " 70.84,\n",
       " 3.38,\n",
       " 0.01,\n",
       " 5.94,\n",
       " 3.79,\n",
       " 0.07,\n",
       " 1.33,\n",
       " 10.15,\n",
       " 7.24,\n",
       " 29.97,\n",
       " 2.7,\n",
       " 46.98,\n",
       " 2.92,\n",
       " 42.44,\n",
       " 0.73,\n",
       " 13.68,\n",
       " 1.24,\n",
       " 11.1,\n",
       " 20.54,\n",
       " 20.9,\n",
       " 3.07,\n",
       " 11.17,\n",
       " 12.45,\n",
       " 5.33,\n",
       " 4.3,\n",
       " 9.33,\n",
       " 0.0,\n",
       " 1.88,\n",
       " 2.01,\n",
       " 13.61,\n",
       " 20.56,\n",
       " 5.08,\n",
       " 19.61,\n",
       " 20.19,\n",
       " 0.37,\n",
       " 8.79,\n",
       " 6.91,\n",
       " 7.43,\n",
       " 0.08,\n",
       " 1.52,\n",
       " 5.77,\n",
       " 18.0,\n",
       " 33.94,\n",
       " 27.99,\n",
       " 4.5,\n",
       " 7.36,\n",
       " 5.03,\n",
       " 11.38,\n",
       " 0.05,\n",
       " 1.5,\n",
       " 5.68,\n",
       " 0.57,\n",
       " 12.75,\n",
       " 2.68,\n",
       " 4.25,\n",
       " 2.49,\n",
       " 0.05,\n",
       " 60.31,\n",
       " 0.51,\n",
       " 0.3,\n",
       " 3.67,\n",
       " 0.54,\n",
       " 6.36,\n",
       " 6.3,\n",
       " 6.28,\n",
       " 32.18,\n",
       " 57.54,\n",
       " 69.83,\n",
       " 0.71,\n",
       " 10.75,\n",
       " 0.07,\n",
       " 9.9,\n",
       " 5.91,\n",
       " 3.65,\n",
       " 15.98,\n",
       " 8.63,\n",
       " 2.21,\n",
       " 6.37,\n",
       " 5.69,\n",
       " 0.59,\n",
       " 5.33,\n",
       " 1.18,\n",
       " 0.12,\n",
       " 0.08,\n",
       " 0.05,\n",
       " 0.09,\n",
       " 10.57,\n",
       " 16.31,\n",
       " 0.04,\n",
       " 5.71,\n",
       " 0.42,\n",
       " 2.71,\n",
       " 2.89,\n",
       " 3.61,\n",
       " 10.51,\n",
       " 0.24,\n",
       " 0.02,\n",
       " 5.62,\n",
       " 2.94,\n",
       " 5.37,\n",
       " 15.18,\n",
       " 0.06,\n",
       " 2.82,\n",
       " 4.42,\n",
       " 0.14,\n",
       " 1.83,\n",
       " 2.74,\n",
       " 3.69,\n",
       " 6.13,\n",
       " 24.89,\n",
       " 3.86,\n",
       " 4.55,\n",
       " 3.63,\n",
       " 51.43,\n",
       " 3.32,\n",
       " 0.03,\n",
       " 21.23,\n",
       " 0.1,\n",
       " 3.69,\n",
       " 6.39,\n",
       " 2.8,\n",
       " 10.61,\n",
       " 0.87,\n",
       " 1.02,\n",
       " 0.01,\n",
       " 0.05,\n",
       " 2.82,\n",
       " 19.93,\n",
       " 2.65,\n",
       " ...]"
      ]
     },
     "execution_count": 160,
     "metadata": {},
     "output_type": "execute_result"
    }
   ],
   "source": [
    "score"
   ]
  },
  {
   "cell_type": "code",
   "execution_count": 162,
   "id": "922f101c",
   "metadata": {},
   "outputs": [
    {
     "data": {
      "text/plain": [
       "92.14"
      ]
     },
     "execution_count": 162,
     "metadata": {},
     "output_type": "execute_result"
    }
   ],
   "source": [
    "max(score)"
   ]
  },
  {
   "cell_type": "code",
   "execution_count": 121,
   "id": "03f4aa99",
   "metadata": {
    "scrolled": true
   },
   "outputs": [
    {
     "name": "stdout",
     "output_type": "stream",
     "text": [
      "0.0\n",
      "0.03\n",
      "0.12\n",
      "0.13\n",
      "0.01\n",
      "0.02\n",
      "0.04\n",
      "0.05\n",
      "0.03\n",
      "0.27\n",
      "0.0\n",
      "0.25\n",
      "0.1\n",
      "0.03\n",
      "0.04\n",
      "0.03\n",
      "0.0\n",
      "0.03\n",
      "0.18\n",
      "0.0\n",
      "0.2\n",
      "0.0\n",
      "0.04\n",
      "0.26\n",
      "0.18\n",
      "0.02\n",
      "0.01\n",
      "0.0\n",
      "0.0\n",
      "0.0\n",
      "0.29\n",
      "0.02\n",
      "0.01\n",
      "0.1\n",
      "0.02\n",
      "0.0\n",
      "0.0\n",
      "0.0\n",
      "0.07\n",
      "0.09\n",
      "0.04\n",
      "0.01\n",
      "0.01\n",
      "0.0\n",
      "0.01\n",
      "0.07\n",
      "0.09\n",
      "0.01\n",
      "0.0\n",
      "0.0\n",
      "0.0\n",
      "0.03\n",
      "0.0\n",
      "0.02\n",
      "0.01\n",
      "0.05\n",
      "0.22\n",
      "0.0\n",
      "0.0\n",
      "0.0\n",
      "0.0\n",
      "0.0\n",
      "0.0\n",
      "0.0\n",
      "0.01\n",
      "0.0\n",
      "0.01\n",
      "0.0\n",
      "0.01\n",
      "0.06\n",
      "0.0\n",
      "0.01\n",
      "0.0\n",
      "0.0\n",
      "0.0\n",
      "0.13\n",
      "0.01\n",
      "0.13\n",
      "0.0\n",
      "0.02\n",
      "0.0\n",
      "0.0\n",
      "0.02\n",
      "0.0\n",
      "0.1\n",
      "0.0\n",
      "0.03\n",
      "0.14\n",
      "0.05\n",
      "0.0\n",
      "0.09\n",
      "0.01\n",
      "0.04\n",
      "0.03\n",
      "0.04\n",
      "0.04\n",
      "0.06\n",
      "0.06\n",
      "0.32\n",
      "0.01\n",
      "0.13\n",
      "0.0\n",
      "0.08\n",
      "0.23\n",
      "0.04\n",
      "0.0\n",
      "0.01\n",
      "0.01\n",
      "0.06\n",
      "0.21\n",
      "0.11\n",
      "0.2\n",
      "0.04\n",
      "0.01\n",
      "0.51\n",
      "0.0\n",
      "0.0\n",
      "0.1\n",
      "0.04\n",
      "0.02\n",
      "0.02\n",
      "0.0\n",
      "0.03\n",
      "0.06\n",
      "0.14\n",
      "0.06\n",
      "0.07\n",
      "0.02\n",
      "0.16\n",
      "0.0\n",
      "0.07\n",
      "0.01\n",
      "0.03\n",
      "0.0\n",
      "0.01\n",
      "0.04\n",
      "0.0\n",
      "0.01\n",
      "0.01\n",
      "0.08\n",
      "0.08\n",
      "0.16\n",
      "0.03\n",
      "0.0\n",
      "0.0\n",
      "0.19\n",
      "0.04\n",
      "0.04\n",
      "0.0\n",
      "0.06\n",
      "0.01\n",
      "0.09\n",
      "0.08\n",
      "0.06\n",
      "0.03\n",
      "0.02\n",
      "0.0\n",
      "0.0\n",
      "0.01\n",
      "0.01\n",
      "0.43\n",
      "0.08\n",
      "0.1\n",
      "0.03\n",
      "0.13\n",
      "0.21\n",
      "0.06\n",
      "0.06\n",
      "0.17\n",
      "0.17\n",
      "0.12\n",
      "0.06\n",
      "0.09\n",
      "0.0\n",
      "0.0\n",
      "0.07\n",
      "0.01\n",
      "0.01\n",
      "0.03\n",
      "0.0\n",
      "0.23\n",
      "0.03\n",
      "0.07\n",
      "0.11\n",
      "0.01\n",
      "0.17\n",
      "0.09\n",
      "0.15\n",
      "0.06\n",
      "0.01\n",
      "0.07\n",
      "0.09\n",
      "0.17\n",
      "0.61\n",
      "0.61\n",
      "0.06\n",
      "0.0\n",
      "0.02\n",
      "0.02\n",
      "0.04\n",
      "0.04\n",
      "0.01\n",
      "0.04\n",
      "0.46\n",
      "0.06\n",
      "0.1\n",
      "0.04\n",
      "0.03\n",
      "0.04\n",
      "0.07\n",
      "0.15\n",
      "0.09\n",
      "0.0\n",
      "0.1\n",
      "0.66\n",
      "0.04\n",
      "0.18\n",
      "0.13\n",
      "0.06\n",
      "0.01\n",
      "0.01\n",
      "0.0\n",
      "0.0\n",
      "0.0\n",
      "0.01\n",
      "0.2\n",
      "0.0\n",
      "0.03\n",
      "0.19\n",
      "0.03\n",
      "0.01\n",
      "0.02\n",
      "0.02\n",
      "0.14\n",
      "0.11\n",
      "0.0\n",
      "0.01\n",
      "0.08\n",
      "0.0\n",
      "0.0\n",
      "0.07\n",
      "0.36\n",
      "0.01\n",
      "0.18\n",
      "0.04\n",
      "0.04\n",
      "0.2\n",
      "0.01\n",
      "0.14\n",
      "0.25\n",
      "0.17\n",
      "0.1\n",
      "0.11\n",
      "0.12\n",
      "0.02\n",
      "0.03\n",
      "0.05\n",
      "0.01\n",
      "0.18\n",
      "0.12\n",
      "0.09\n",
      "0.2\n",
      "0.05\n",
      "0.07\n",
      "0.01\n",
      "0.01\n",
      "0.08\n",
      "0.08\n",
      "0.08\n",
      "0.19\n",
      "0.01\n",
      "0.16\n",
      "0.06\n",
      "0.0\n",
      "0.03\n",
      "0.19\n",
      "0.01\n",
      "0.14\n",
      "0.0\n",
      "0.07\n",
      "0.1\n",
      "0.1\n",
      "0.03\n",
      "0.03\n",
      "0.01\n",
      "0.0\n",
      "0.04\n",
      "0.2\n",
      "0.06\n",
      "0.0\n",
      "0.0\n",
      "0.04\n",
      "0.01\n",
      "0.01\n",
      "0.07\n",
      "0.01\n",
      "0.12\n",
      "0.02\n",
      "0.04\n",
      "0.19\n",
      "0.11\n",
      "0.03\n",
      "0.21\n",
      "0.0\n",
      "0.05\n",
      "0.27\n",
      "0.13\n",
      "0.03\n",
      "0.02\n",
      "0.06\n",
      "0.16\n",
      "0.07\n",
      "0.01\n",
      "0.01\n",
      "0.05\n",
      "0.08\n",
      "0.01\n",
      "0.01\n",
      "0.01\n",
      "0.04\n",
      "0.17\n",
      "0.03\n",
      "0.0\n",
      "0.04\n",
      "0.01\n",
      "0.0\n",
      "0.01\n",
      "0.01\n",
      "0.01\n",
      "0.13\n",
      "0.01\n",
      "0.0\n",
      "0.05\n",
      "0.0\n",
      "0.19\n",
      "0.0\n",
      "0.1\n",
      "0.0\n",
      "0.15\n",
      "0.02\n",
      "0.06\n",
      "0.15\n",
      "0.07\n",
      "0.37\n",
      "0.28\n",
      "0.12\n",
      "0.11\n",
      "0.04\n",
      "0.05\n",
      "0.03\n",
      "0.0\n",
      "0.02\n",
      "0.0\n",
      "0.06\n",
      "0.01\n",
      "0.0\n",
      "0.01\n",
      "0.03\n",
      "0.08\n",
      "0.0\n",
      "0.02\n",
      "0.07\n",
      "0.07\n",
      "0.07\n",
      "0.03\n",
      "0.07\n",
      "0.05\n",
      "0.23\n",
      "0.16\n",
      "0.25\n",
      "0.0\n",
      "0.02\n",
      "0.05\n",
      "0.0\n",
      "0.08\n",
      "0.02\n",
      "0.01\n",
      "0.07\n",
      "0.0\n",
      "0.02\n",
      "0.04\n",
      "0.12\n",
      "0.03\n",
      "0.12\n",
      "0.07\n",
      "0.0\n",
      "0.12\n",
      "0.1\n",
      "0.24\n",
      "0.02\n",
      "0.03\n",
      "0.0\n",
      "0.0\n",
      "0.0\n",
      "0.0\n",
      "0.0\n",
      "0.01\n",
      "0.18\n",
      "0.0\n",
      "0.11\n",
      "0.1\n",
      "0.04\n",
      "0.07\n",
      "0.07\n",
      "0.1\n",
      "0.01\n",
      "0.05\n",
      "0.55\n",
      "0.08\n",
      "0.02\n",
      "0.01\n",
      "0.16\n",
      "0.04\n",
      "0.01\n",
      "0.11\n",
      "0.0\n",
      "0.0\n",
      "0.06\n",
      "0.04\n",
      "0.02\n",
      "0.09\n",
      "0.06\n",
      "0.01\n",
      "0.0\n",
      "0.09\n",
      "0.0\n",
      "0.14\n",
      "0.0\n",
      "0.02\n",
      "0.02\n",
      "0.01\n",
      "0.14\n",
      "0.08\n",
      "0.04\n",
      "0.02\n",
      "0.06\n",
      "0.04\n",
      "0.16\n",
      "0.3\n",
      "0.01\n",
      "0.0\n",
      "0.0\n",
      "0.16\n",
      "0.08\n",
      "0.0\n",
      "0.09\n",
      "0.29\n",
      "0.03\n",
      "0.41\n",
      "0.01\n",
      "0.01\n",
      "0.0\n",
      "0.29\n",
      "0.02\n",
      "0.07\n",
      "0.03\n",
      "0.18\n",
      "0.03\n",
      "0.0\n",
      "0.07\n",
      "0.08\n",
      "0.16\n",
      "0.45\n",
      "0.14\n",
      "0.08\n",
      "0.2\n",
      "0.22\n",
      "0.0\n",
      "0.01\n",
      "0.17\n",
      "0.02\n",
      "0.0\n",
      "0.0\n",
      "0.02\n",
      "0.0\n",
      "0.14\n",
      "0.01\n",
      "0.03\n",
      "0.03\n",
      "0.0\n",
      "0.14\n",
      "0.04\n",
      "0.03\n",
      "0.09\n",
      "0.03\n",
      "0.25\n",
      "0.05\n",
      "0.03\n",
      "0.0\n",
      "0.12\n",
      "0.05\n",
      "0.01\n",
      "0.05\n",
      "0.56\n",
      "0.41\n",
      "0.0\n",
      "0.04\n",
      "0.27\n",
      "0.11\n",
      "0.42\n",
      "0.0\n",
      "0.0\n",
      "0.16\n",
      "0.08\n",
      "0.0\n",
      "0.07\n",
      "0.25\n",
      "0.06\n",
      "0.14\n",
      "0.15\n",
      "0.06\n",
      "0.05\n",
      "0.0\n",
      "0.01\n",
      "0.02\n",
      "0.0\n",
      "0.57\n",
      "0.2\n",
      "0.0\n",
      "0.24\n",
      "0.04\n",
      "0.05\n",
      "0.05\n",
      "0.2\n",
      "0.0\n",
      "0.03\n",
      "0.07\n",
      "0.01\n",
      "0.27\n",
      "0.03\n",
      "0.03\n",
      "0.0\n",
      "0.34\n",
      "0.06\n",
      "0.29\n",
      "0.0\n",
      "0.17\n",
      "0.08\n",
      "0.24\n",
      "0.18\n",
      "0.05\n",
      "0.1\n",
      "0.0\n",
      "0.04\n",
      "0.1\n",
      "0.0\n",
      "0.08\n",
      "0.01\n",
      "0.02\n",
      "0.0\n",
      "0.07\n",
      "0.03\n",
      "0.03\n",
      "0.06\n",
      "0.01\n",
      "0.0\n",
      "0.01\n",
      "0.01\n",
      "0.0\n",
      "0.01\n",
      "0.0\n",
      "0.0\n",
      "0.39\n",
      "0.05\n",
      "0.03\n",
      "0.08\n",
      "0.02\n",
      "0.05\n",
      "0.02\n",
      "0.0\n",
      "0.0\n",
      "0.04\n",
      "0.11\n",
      "0.04\n",
      "0.01\n",
      "0.0\n",
      "0.24\n",
      "0.03\n",
      "0.08\n",
      "0.1\n",
      "0.05\n",
      "0.1\n",
      "0.15\n",
      "0.02\n",
      "0.21\n",
      "0.03\n",
      "0.25\n",
      "0.0\n",
      "0.04\n",
      "0.0\n",
      "0.05\n",
      "0.0\n",
      "0.12\n",
      "0.15\n",
      "0.05\n",
      "0.03\n",
      "0.22\n",
      "0.03\n",
      "0.43\n",
      "0.06\n",
      "0.02\n",
      "0.0\n",
      "0.09\n",
      "0.03\n",
      "0.0\n",
      "0.06\n",
      "0.01\n",
      "0.0\n",
      "0.24\n",
      "0.1\n",
      "0.16\n",
      "0.14\n",
      "0.0\n",
      "0.03\n",
      "0.0\n",
      "0.0\n",
      "0.12\n",
      "0.07\n",
      "0.06\n",
      "0.33\n",
      "0.04\n",
      "0.07\n",
      "0.22\n",
      "0.04\n",
      "0.0\n",
      "0.07\n",
      "0.02\n",
      "0.01\n",
      "0.05\n",
      "0.15\n",
      "0.0\n",
      "0.16\n",
      "0.01\n",
      "0.1\n",
      "0.0\n",
      "0.05\n",
      "0.05\n",
      "0.03\n",
      "0.0\n",
      "0.01\n",
      "0.06\n",
      "0.03\n",
      "0.13\n",
      "0.15\n",
      "0.01\n",
      "0.01\n",
      "0.03\n",
      "0.02\n",
      "0.0\n",
      "0.05\n",
      "0.13\n",
      "0.14\n",
      "0.0\n",
      "0.24\n",
      "0.01\n",
      "0.01\n",
      "0.0\n",
      "0.02\n",
      "0.05\n",
      "0.0\n",
      "0.04\n",
      "0.0\n",
      "0.0\n",
      "0.25\n",
      "0.12\n",
      "0.05\n",
      "0.0\n",
      "0.04\n",
      "0.07\n",
      "0.03\n",
      "0.06\n",
      "0.0\n",
      "0.0\n",
      "0.56\n",
      "0.75\n",
      "0.16\n",
      "0.15\n",
      "0.0\n",
      "0.17\n",
      "0.14\n",
      "0.04\n",
      "0.29\n",
      "0.16\n",
      "0.01\n",
      "0.27\n",
      "0.06\n",
      "0.29\n",
      "0.44\n",
      "0.12\n",
      "0.0\n",
      "0.1\n",
      "0.04\n",
      "0.32\n",
      "0.18\n",
      "0.08\n",
      "0.18\n",
      "0.04\n",
      "0.16\n",
      "0.14\n",
      "0.0\n",
      "0.0\n",
      "0.42\n",
      "0.16\n",
      "0.0\n",
      "0.0\n",
      "0.0\n",
      "0.0\n",
      "0.04\n",
      "0.59\n",
      "0.18\n",
      "0.11\n",
      "0.11\n",
      "0.36\n",
      "0.51\n",
      "0.05\n",
      "0.05\n",
      "0.01\n",
      "0.0\n",
      "0.03\n",
      "0.07\n",
      "0.03\n",
      "0.0\n",
      "0.05\n",
      "0.59\n",
      "0.06\n",
      "0.05\n",
      "0.0\n",
      "0.01\n",
      "0.0\n",
      "0.03\n",
      "0.13\n",
      "0.04\n",
      "0.21\n",
      "0.46\n",
      "0.11\n",
      "0.08\n",
      "0.09\n",
      "0.02\n",
      "0.06\n",
      "0.0\n",
      "0.0\n",
      "0.13\n",
      "0.04\n",
      "0.03\n",
      "0.02\n",
      "0.18\n",
      "0.02\n",
      "0.0\n",
      "0.11\n",
      "0.03\n",
      "0.0\n",
      "0.03\n",
      "0.01\n",
      "0.07\n",
      "0.07\n",
      "0.0\n",
      "0.06\n",
      "0.09\n",
      "0.11\n",
      "0.46\n",
      "0.04\n",
      "0.11\n",
      "0.0\n",
      "0.0\n",
      "0.0\n",
      "0.16\n",
      "0.36\n",
      "0.09\n",
      "0.13\n",
      "0.05\n",
      "0.22\n",
      "0.05\n",
      "0.01\n",
      "0.84\n",
      "0.08\n",
      "0.03\n",
      "0.03\n",
      "0.13\n",
      "0.38\n",
      "0.0\n",
      "0.0\n",
      "0.04\n",
      "0.03\n",
      "0.02\n",
      "0.01\n",
      "0.02\n",
      "0.06\n",
      "0.0\n",
      "0.0\n",
      "0.02\n",
      "0.05\n",
      "0.0\n",
      "0.01\n",
      "0.04\n",
      "0.09\n",
      "0.03\n",
      "0.07\n",
      "0.69\n",
      "0.01\n",
      "0.01\n",
      "0.02\n",
      "0.12\n",
      "0.14\n",
      "0.12\n",
      "0.03\n",
      "0.03\n",
      "0.0\n",
      "0.0\n",
      "0.11\n",
      "0.03\n",
      "0.09\n",
      "0.0\n",
      "0.0\n",
      "0.24\n",
      "0.05\n",
      "0.05\n",
      "0.21\n",
      "0.02\n",
      "0.2\n",
      "0.04\n",
      "0.15\n",
      "0.08\n",
      "0.25\n",
      "0.03\n",
      "0.04\n",
      "0.08\n",
      "0.01\n",
      "0.04\n",
      "0.08\n",
      "0.0\n",
      "0.04\n",
      "0.01\n",
      "0.02\n",
      "0.02\n",
      "0.04\n",
      "0.02\n",
      "0.02\n",
      "0.13\n",
      "0.07\n",
      "0.33\n",
      "0.88\n",
      "0.08\n",
      "0.11\n",
      "0.01\n",
      "0.13\n",
      "0.1\n",
      "0.26\n",
      "0.02\n",
      "0.08\n",
      "0.01\n",
      "0.18\n",
      "0.0\n",
      "0.09\n",
      "0.13\n",
      "0.0\n",
      "0.24\n",
      "0.01\n",
      "0.13\n",
      "0.03\n",
      "0.07\n",
      "0.03\n",
      "0.09\n",
      "0.0\n",
      "0.14\n",
      "0.0\n",
      "0.0\n",
      "0.12\n",
      "0.0\n",
      "0.04\n",
      "0.03\n",
      "0.0\n",
      "0.71\n",
      "0.03\n",
      "0.0\n",
      "0.06\n",
      "0.04\n",
      "0.0\n",
      "0.01\n",
      "0.1\n",
      "0.07\n",
      "0.3\n",
      "0.03\n",
      "0.47\n",
      "0.03\n",
      "0.42\n",
      "0.01\n",
      "0.14\n",
      "0.01\n",
      "0.11\n",
      "0.21\n",
      "0.21\n",
      "0.03\n",
      "0.11\n",
      "0.12\n",
      "0.05\n",
      "0.04\n",
      "0.09\n",
      "0.0\n",
      "0.02\n",
      "0.02\n",
      "0.14\n",
      "0.21\n",
      "0.05\n",
      "0.2\n",
      "0.2\n",
      "0.0\n",
      "0.09\n",
      "0.07\n",
      "0.07\n",
      "0.0\n",
      "0.02\n",
      "0.06\n",
      "0.18\n",
      "0.34\n",
      "0.28\n",
      "0.04\n",
      "0.07\n",
      "0.05\n",
      "0.11\n",
      "0.0\n",
      "0.01\n",
      "0.06\n",
      "0.01\n",
      "0.13\n",
      "0.03\n",
      "0.04\n",
      "0.02\n",
      "0.0\n",
      "0.6\n",
      "0.01\n",
      "0.0\n",
      "0.04\n",
      "0.01\n",
      "0.06\n",
      "0.06\n",
      "0.06\n",
      "0.32\n",
      "0.58\n",
      "0.7\n",
      "0.01\n",
      "0.11\n",
      "0.0\n",
      "0.1\n",
      "0.06\n",
      "0.04\n",
      "0.16\n",
      "0.09\n",
      "0.02\n",
      "0.06\n",
      "0.06\n",
      "0.01\n",
      "0.05\n",
      "0.01\n",
      "0.0\n",
      "0.0\n",
      "0.0\n",
      "0.0\n",
      "0.11\n",
      "0.16\n",
      "0.0\n",
      "0.06\n",
      "0.0\n",
      "0.03\n",
      "0.03\n",
      "0.04\n",
      "0.11\n",
      "0.0\n",
      "0.0\n",
      "0.06\n",
      "0.03\n",
      "0.05\n",
      "0.15\n",
      "0.0\n",
      "0.03\n",
      "0.04\n",
      "0.0\n",
      "0.02\n",
      "0.03\n",
      "0.04\n",
      "0.06\n",
      "0.25\n",
      "0.04\n",
      "0.05\n",
      "0.04\n",
      "0.51\n",
      "0.03\n",
      "0.0\n",
      "0.21\n",
      "0.0\n",
      "0.04\n",
      "0.06\n",
      "0.03\n",
      "0.11\n",
      "0.01\n",
      "0.01\n",
      "0.0\n",
      "0.0\n",
      "0.03\n",
      "0.2\n",
      "0.03\n"
     ]
    }
   ],
   "source": [
    "for i in range(1000):\n",
    "    print(round(model_lr.predict_proba(encoded_df)[i][1],2))"
   ]
  },
  {
   "cell_type": "code",
   "execution_count": 94,
   "id": "4b4e634a",
   "metadata": {},
   "outputs": [],
   "source": [
    "def train_model(cols):\n",
    "    \n",
    "    model_lr=LogisticRegression(solver='lbfgs', max_iter=1000)\n",
    "    model_lr.fit(train_X,train_y)\n",
    "    y_pred=model_lr.predict(test_X)\n",
    "    print(classification_report(test_y,y_pred))"
   ]
  },
  {
   "cell_type": "code",
   "execution_count": 67,
   "id": "025f36ca",
   "metadata": {},
   "outputs": [
    {
     "data": {
      "text/plain": [
       "Index(['Agent_id', 'status', 'lost_reason', 'budget', 'lease', 'movein',\n",
       "       'source', 'source_city', 'source_country', 'utm_source', 'utm_medium',\n",
       "       'des_city', 'des_country', 'room_type', 'lead_id'],\n",
       "      dtype='object')"
      ]
     },
     "execution_count": 67,
     "metadata": {},
     "output_type": "execute_result"
    }
   ],
   "source": [
    "df.columns"
   ]
  },
  {
   "cell_type": "code",
   "execution_count": 68,
   "id": "5b4bc557",
   "metadata": {},
   "outputs": [
    {
     "name": "stdout",
     "output_type": "stream",
     "text": [
      "              precision    recall  f1-score   support\n",
      "\n",
      "           0       0.93      1.00      0.97      4324\n",
      "           1       0.35      0.02      0.04       307\n",
      "\n",
      "    accuracy                           0.93      4631\n",
      "   macro avg       0.64      0.51      0.50      4631\n",
      "weighted avg       0.90      0.93      0.90      4631\n",
      "\n"
     ]
    }
   ],
   "source": [
    "train_model(['budget', 'lease','room_type'])"
   ]
  },
  {
   "cell_type": "code",
   "execution_count": 69,
   "id": "20d7a145",
   "metadata": {},
   "outputs": [
    {
     "name": "stdout",
     "output_type": "stream",
     "text": [
      "              precision    recall  f1-score   support\n",
      "\n",
      "           0       0.93      1.00      0.97      4324\n",
      "           1       0.35      0.02      0.04       307\n",
      "\n",
      "    accuracy                           0.93      4631\n",
      "   macro avg       0.64      0.51      0.50      4631\n",
      "weighted avg       0.90      0.93      0.90      4631\n",
      "\n"
     ]
    }
   ],
   "source": [
    "train_model(['budget', 'lease','room_type', 'des_city'])"
   ]
  },
  {
   "cell_type": "code",
   "execution_count": 70,
   "id": "8674befb",
   "metadata": {},
   "outputs": [
    {
     "name": "stdout",
     "output_type": "stream",
     "text": [
      "              precision    recall  f1-score   support\n",
      "\n",
      "           0       0.93      1.00      0.97      4324\n",
      "           1       0.35      0.02      0.04       307\n",
      "\n",
      "    accuracy                           0.93      4631\n",
      "   macro avg       0.64      0.51      0.50      4631\n",
      "weighted avg       0.90      0.93      0.90      4631\n",
      "\n"
     ]
    }
   ],
   "source": [
    "train_model(['budget', 'lease','room_type', 'source_country'])"
   ]
  },
  {
   "cell_type": "code",
   "execution_count": 71,
   "id": "38c497f3",
   "metadata": {},
   "outputs": [
    {
     "name": "stdout",
     "output_type": "stream",
     "text": [
      "              precision    recall  f1-score   support\n",
      "\n",
      "           0       0.93      1.00      0.97      4324\n",
      "           1       0.35      0.02      0.04       307\n",
      "\n",
      "    accuracy                           0.93      4631\n",
      "   macro avg       0.64      0.51      0.50      4631\n",
      "weighted avg       0.90      0.93      0.90      4631\n",
      "\n"
     ]
    }
   ],
   "source": [
    "train_model(['Agent_id','budget', 'lease','source_city', 'source_country','des_city', 'des_country', 'room_type'])"
   ]
  },
  {
   "cell_type": "code",
   "execution_count": 72,
   "id": "9bdbb267",
   "metadata": {},
   "outputs": [],
   "source": [
    "def train_models(cols, algo):\n",
    "    X=df[cols]\n",
    "    X=pd.get_dummies(X)\n",
    "    Y=df['status']\n",
    "    model_lr=algo()\n",
    "    model_lr.fit(train_X,train_y)\n",
    "    y_pred=model_lr.predict(test_X)\n",
    "    print(classification_report(test_y,y_pred))"
   ]
  },
  {
   "cell_type": "code",
   "execution_count": 73,
   "id": "a31d0096",
   "metadata": {},
   "outputs": [
    {
     "name": "stdout",
     "output_type": "stream",
     "text": [
      "              precision    recall  f1-score   support\n",
      "\n",
      "           0       0.93      1.00      0.97      4324\n",
      "           1       0.50      0.01      0.03       307\n",
      "\n",
      "    accuracy                           0.93      4631\n",
      "   macro avg       0.72      0.51      0.50      4631\n",
      "weighted avg       0.91      0.93      0.90      4631\n",
      "\n"
     ]
    }
   ],
   "source": [
    "from sklearn.ensemble import GradientBoostingClassifier\n",
    "train_models(['budget', 'lease','room_type'],GradientBoostingClassifier)\n"
   ]
  },
  {
   "cell_type": "code",
   "execution_count": 74,
   "id": "0544e86f",
   "metadata": {},
   "outputs": [
    {
     "name": "stdout",
     "output_type": "stream",
     "text": [
      "              precision    recall  f1-score   support\n",
      "\n",
      "           0       0.93      1.00      0.97      4324\n",
      "           1       0.50      0.01      0.03       307\n",
      "\n",
      "    accuracy                           0.93      4631\n",
      "   macro avg       0.72      0.51      0.50      4631\n",
      "weighted avg       0.91      0.93      0.90      4631\n",
      "\n"
     ]
    }
   ],
   "source": [
    "train_models(['Agent_id','budget', 'lease','source_city', 'source_country','des_city', 'des_country', 'room_type'],GradientBoostingClassifier)"
   ]
  },
  {
   "cell_type": "code",
   "execution_count": 75,
   "id": "e87036c2",
   "metadata": {},
   "outputs": [
    {
     "name": "stdout",
     "output_type": "stream",
     "text": [
      "              precision    recall  f1-score   support\n",
      "\n",
      "           0       0.93      1.00      0.97      4324\n",
      "           1       0.56      0.02      0.03       307\n",
      "\n",
      "    accuracy                           0.93      4631\n",
      "   macro avg       0.75      0.51      0.50      4631\n",
      "weighted avg       0.91      0.93      0.90      4631\n",
      "\n"
     ]
    }
   ],
   "source": [
    "train_models(['budget', 'lease','des_city', 'room_type'],GradientBoostingClassifier)"
   ]
  },
  {
   "cell_type": "code",
   "execution_count": 76,
   "id": "03b9bab5",
   "metadata": {},
   "outputs": [
    {
     "data": {
      "text/html": [
       "<div>\n",
       "<style scoped>\n",
       "    .dataframe tbody tr th:only-of-type {\n",
       "        vertical-align: middle;\n",
       "    }\n",
       "\n",
       "    .dataframe tbody tr th {\n",
       "        vertical-align: top;\n",
       "    }\n",
       "\n",
       "    .dataframe thead th {\n",
       "        text-align: right;\n",
       "    }\n",
       "</style>\n",
       "<table border=\"1\" class=\"dataframe\">\n",
       "  <thead>\n",
       "    <tr style=\"text-align: right;\">\n",
       "      <th></th>\n",
       "      <th>Agent_id</th>\n",
       "      <th>status</th>\n",
       "      <th>lost_reason</th>\n",
       "      <th>budget</th>\n",
       "      <th>lease</th>\n",
       "      <th>movein</th>\n",
       "      <th>source</th>\n",
       "      <th>source_city</th>\n",
       "      <th>source_country</th>\n",
       "      <th>utm_source</th>\n",
       "      <th>utm_medium</th>\n",
       "      <th>des_city</th>\n",
       "      <th>des_country</th>\n",
       "      <th>room_type</th>\n",
       "      <th>lead_id</th>\n",
       "    </tr>\n",
       "  </thead>\n",
       "  <tbody>\n",
       "    <tr>\n",
       "      <th>0</th>\n",
       "      <td>1deba9e96f404694373de9749ddd1ca8aa7bb823145a6f...</td>\n",
       "      <td>0</td>\n",
       "      <td>Not responding</td>\n",
       "      <td>unavailable</td>\n",
       "      <td>unavailable</td>\n",
       "      <td>NaN</td>\n",
       "      <td>NaN</td>\n",
       "      <td>unavailable</td>\n",
       "      <td>unavailable</td>\n",
       "      <td>3d59f7548e1af2151b64135003ce63c0a484c26b9b8b16...</td>\n",
       "      <td>268ad70eb5bc4737a2ae28162cbca30118cc94520e49ef...</td>\n",
       "      <td>ecc0e7dc084f141b29479058967d0bc07dee25d9690a98...</td>\n",
       "      <td>8d23a6e37e0a6431a8f1b43a91026dcff51170a89a6512...</td>\n",
       "      <td>NaN</td>\n",
       "      <td>cd5dc0d9393f3980d11d4ba6f88f8110c2b7a7f7796307...</td>\n",
       "    </tr>\n",
       "    <tr>\n",
       "      <th>1</th>\n",
       "      <td>299ae77a4ef350ae0dd37d6bba1c002d03444fb1edb236...</td>\n",
       "      <td>0</td>\n",
       "      <td>Low budget</td>\n",
       "      <td>unavailable</td>\n",
       "      <td>unavailable</td>\n",
       "      <td>NaN</td>\n",
       "      <td>NaN</td>\n",
       "      <td>unavailable</td>\n",
       "      <td>unavailable</td>\n",
       "      <td>3d59f7548e1af2151b64135003ce63c0a484c26b9b8b16...</td>\n",
       "      <td>268ad70eb5bc4737a2ae28162cbca30118cc94520e49ef...</td>\n",
       "      <td>5372372f3bf5896820cb2819300c3e681820d82c6efc54...</td>\n",
       "      <td>8d23a6e37e0a6431a8f1b43a91026dcff51170a89a6512...</td>\n",
       "      <td>NaN</td>\n",
       "      <td>b94693673a5f7178d1b114e4004ad52377d3244dd24a3d...</td>\n",
       "    </tr>\n",
       "    <tr>\n",
       "      <th>2</th>\n",
       "      <td>c213697430c006013012dd2aca82dd9732aa0a1a6bca13...</td>\n",
       "      <td>0</td>\n",
       "      <td>Not responding</td>\n",
       "      <td>121-180</td>\n",
       "      <td>9 months - 1 year</td>\n",
       "      <td>31/08/22</td>\n",
       "      <td>7aae3e886e89fc1187a5c47d6cea1c22998ee610ade1f2...</td>\n",
       "      <td>9b8cc3c63cdf447e463c11544924bf027945cbd29675f7...</td>\n",
       "      <td>e09e10e67812e9d236ad900e5d46b4308fc62f5d69446a...</td>\n",
       "      <td>bbdefa2950f49882f295b1285d4fa9dec45fc4144bfb07...</td>\n",
       "      <td>09076eb7665d1fb9389c7c4517fee0b00e43092eb34821...</td>\n",
       "      <td>11ab03a1a8c367191355c152f39fe28cae5e426fce49ef...</td>\n",
       "      <td>8d23a6e37e0a6431a8f1b43a91026dcff51170a89a6512...</td>\n",
       "      <td>Ensuite</td>\n",
       "      <td>96ea4e2bf04496c044745938c0299c264c3f4ba079e572...</td>\n",
       "    </tr>\n",
       "    <tr>\n",
       "      <th>3</th>\n",
       "      <td>eac9815a500f908736d303e23aa227f0957177b0e6756b...</td>\n",
       "      <td>0</td>\n",
       "      <td>Low budget</td>\n",
       "      <td>0-60</td>\n",
       "      <td>less than 3 months</td>\n",
       "      <td>NaN</td>\n",
       "      <td>ba2d0a29556ac20f86f45e4543c0825428cba33fd7a9ea...</td>\n",
       "      <td>Other Source Cities</td>\n",
       "      <td>e09e10e67812e9d236ad900e5d46b4308fc62f5d69446a...</td>\n",
       "      <td>bbdefa2950f49882f295b1285d4fa9dec45fc4144bfb07...</td>\n",
       "      <td>09076eb7665d1fb9389c7c4517fee0b00e43092eb34821...</td>\n",
       "      <td>19372fa44c57a01c37a5a8418779ca3d99b0b59731fb35...</td>\n",
       "      <td>8d23a6e37e0a6431a8f1b43a91026dcff51170a89a6512...</td>\n",
       "      <td>NaN</td>\n",
       "      <td>1d2b34d8add02a182a4129023766ca4585a8ddced0e5b3...</td>\n",
       "    </tr>\n",
       "    <tr>\n",
       "      <th>4</th>\n",
       "      <td>1deba9e96f404694373de9749ddd1ca8aa7bb823145a6f...</td>\n",
       "      <td>0</td>\n",
       "      <td>Junk lead</td>\n",
       "      <td>unavailable</td>\n",
       "      <td>unavailable</td>\n",
       "      <td>NaN</td>\n",
       "      <td>NaN</td>\n",
       "      <td>unavailable</td>\n",
       "      <td>unavailable</td>\n",
       "      <td>3d59f7548e1af2151b64135003ce63c0a484c26b9b8b16...</td>\n",
       "      <td>268ad70eb5bc4737a2ae28162cbca30118cc94520e49ef...</td>\n",
       "      <td>unavailable</td>\n",
       "      <td>NaN</td>\n",
       "      <td>NaN</td>\n",
       "      <td>fc10fffd29cfbe93c55158fb47752a7501c211d253468c...</td>\n",
       "    </tr>\n",
       "    <tr>\n",
       "      <th>...</th>\n",
       "      <td>...</td>\n",
       "      <td>...</td>\n",
       "      <td>...</td>\n",
       "      <td>...</td>\n",
       "      <td>...</td>\n",
       "      <td>...</td>\n",
       "      <td>...</td>\n",
       "      <td>...</td>\n",
       "      <td>...</td>\n",
       "      <td>...</td>\n",
       "      <td>...</td>\n",
       "      <td>...</td>\n",
       "      <td>...</td>\n",
       "      <td>...</td>\n",
       "      <td>...</td>\n",
       "    </tr>\n",
       "    <tr>\n",
       "      <th>46603</th>\n",
       "      <td>2306878a9ad9b57686cd623dd285aaa9b25afdf627f651...</td>\n",
       "      <td>0</td>\n",
       "      <td>Low availability</td>\n",
       "      <td>61-120</td>\n",
       "      <td>1 year or more</td>\n",
       "      <td>01/09/22</td>\n",
       "      <td>NaN</td>\n",
       "      <td>7d1550b844ff586a6023216c06263105eed0a849a2a1f6...</td>\n",
       "      <td>8da82000ef9c4468ba47362a924b895e40662fed846942...</td>\n",
       "      <td>bbdefa2950f49882f295b1285d4fa9dec45fc4144bfb07...</td>\n",
       "      <td>09076eb7665d1fb9389c7c4517fee0b00e43092eb34821...</td>\n",
       "      <td>13d4b96b6ee361b737e22404aeecca45f322ba7d4c2c42...</td>\n",
       "      <td>8d23a6e37e0a6431a8f1b43a91026dcff51170a89a6512...</td>\n",
       "      <td>Studio</td>\n",
       "      <td>1aaa4a4a9092e4c0eabf958ed9aea59c50d8ea3f08f691...</td>\n",
       "    </tr>\n",
       "    <tr>\n",
       "      <th>46604</th>\n",
       "      <td>327ec29056cc47c24bf922f7dc0f78261dad5c726d7353...</td>\n",
       "      <td>0</td>\n",
       "      <td>Semester stay</td>\n",
       "      <td>61-120</td>\n",
       "      <td>less than 3 months</td>\n",
       "      <td>29/09/22</td>\n",
       "      <td>NaN</td>\n",
       "      <td>9f2ba6981e36ea0fca6c16f42e6413d788d2a7499b8b7f...</td>\n",
       "      <td>8da82000ef9c4468ba47362a924b895e40662fed846942...</td>\n",
       "      <td>bbdefa2950f49882f295b1285d4fa9dec45fc4144bfb07...</td>\n",
       "      <td>09076eb7665d1fb9389c7c4517fee0b00e43092eb34821...</td>\n",
       "      <td>998c18dc0e513ab0035c7b858e3780bbbead88695a15de...</td>\n",
       "      <td>8d23a6e37e0a6431a8f1b43a91026dcff51170a89a6512...</td>\n",
       "      <td>Studio</td>\n",
       "      <td>1f90dbad4873cb9673ff3c7ec69fbac4289181453c6cea...</td>\n",
       "    </tr>\n",
       "    <tr>\n",
       "      <th>46605</th>\n",
       "      <td>1134c0a7d44fdae1afd7f1f64e2789496784095ca0a050...</td>\n",
       "      <td>0</td>\n",
       "      <td>Low availability</td>\n",
       "      <td>240-300</td>\n",
       "      <td>9 months - 1 year</td>\n",
       "      <td>20/09/22</td>\n",
       "      <td>7aae3e886e89fc1187a5c47d6cea1c22998ee610ade1f2...</td>\n",
       "      <td>7d1550b844ff586a6023216c06263105eed0a849a2a1f6...</td>\n",
       "      <td>8da82000ef9c4468ba47362a924b895e40662fed846942...</td>\n",
       "      <td>bbdefa2950f49882f295b1285d4fa9dec45fc4144bfb07...</td>\n",
       "      <td>09076eb7665d1fb9389c7c4517fee0b00e43092eb34821...</td>\n",
       "      <td>ecc0e7dc084f141b29479058967d0bc07dee25d9690a98...</td>\n",
       "      <td>8d23a6e37e0a6431a8f1b43a91026dcff51170a89a6512...</td>\n",
       "      <td>Studio</td>\n",
       "      <td>d9e0f455b68a6573544ffac32292541a510fe2daffe2bb...</td>\n",
       "    </tr>\n",
       "    <tr>\n",
       "      <th>46606</th>\n",
       "      <td>8b8b029f1142f5cbc825aa6cbee01406c915c6b055db79...</td>\n",
       "      <td>0</td>\n",
       "      <td>Low availability</td>\n",
       "      <td>&gt;300</td>\n",
       "      <td>1 year or more</td>\n",
       "      <td>30/08/22</td>\n",
       "      <td>d684761c17c11590f6e2525b48141cb2c0c6f2be5df4e2...</td>\n",
       "      <td>Other Source Cities</td>\n",
       "      <td>b936ee09e20b3b2234907cde349cda1c1a5327c4a486bf...</td>\n",
       "      <td>7f3fa48ca885678134842fa7456f3ece53a97f843b6101...</td>\n",
       "      <td>abb8e2badd5b6265c3237170cc599257a4f566706715d2...</td>\n",
       "      <td>ecc0e7dc084f141b29479058967d0bc07dee25d9690a98...</td>\n",
       "      <td>8d23a6e37e0a6431a8f1b43a91026dcff51170a89a6512...</td>\n",
       "      <td>NaN</td>\n",
       "      <td>1f90dbad4873cb9673ff3c7ec69fbac4289181453c6cea...</td>\n",
       "    </tr>\n",
       "    <tr>\n",
       "      <th>46607</th>\n",
       "      <td>1ea65ea38f2f574b3875ba895e4ff76b284b7725041612...</td>\n",
       "      <td>0</td>\n",
       "      <td>Low availability</td>\n",
       "      <td>181-240</td>\n",
       "      <td>9 months - 1 year</td>\n",
       "      <td>01/09/22</td>\n",
       "      <td>7aae3e886e89fc1187a5c47d6cea1c22998ee610ade1f2...</td>\n",
       "      <td>Other Source Cities</td>\n",
       "      <td>e09e10e67812e9d236ad900e5d46b4308fc62f5d69446a...</td>\n",
       "      <td>bbdefa2950f49882f295b1285d4fa9dec45fc4144bfb07...</td>\n",
       "      <td>09076eb7665d1fb9389c7c4517fee0b00e43092eb34821...</td>\n",
       "      <td>618738f7143c9b43a98a6b42d743a6595069a9b4dcf42d...</td>\n",
       "      <td>8d23a6e37e0a6431a8f1b43a91026dcff51170a89a6512...</td>\n",
       "      <td>Studio</td>\n",
       "      <td>7520a8abba2b44d7f37c0ddbe5f7f3d87540b2b7a670e9...</td>\n",
       "    </tr>\n",
       "  </tbody>\n",
       "</table>\n",
       "<p>46307 rows × 15 columns</p>\n",
       "</div>"
      ],
      "text/plain": [
       "                                                Agent_id  status  \\\n",
       "0      1deba9e96f404694373de9749ddd1ca8aa7bb823145a6f...       0   \n",
       "1      299ae77a4ef350ae0dd37d6bba1c002d03444fb1edb236...       0   \n",
       "2      c213697430c006013012dd2aca82dd9732aa0a1a6bca13...       0   \n",
       "3      eac9815a500f908736d303e23aa227f0957177b0e6756b...       0   \n",
       "4      1deba9e96f404694373de9749ddd1ca8aa7bb823145a6f...       0   \n",
       "...                                                  ...     ...   \n",
       "46603  2306878a9ad9b57686cd623dd285aaa9b25afdf627f651...       0   \n",
       "46604  327ec29056cc47c24bf922f7dc0f78261dad5c726d7353...       0   \n",
       "46605  1134c0a7d44fdae1afd7f1f64e2789496784095ca0a050...       0   \n",
       "46606  8b8b029f1142f5cbc825aa6cbee01406c915c6b055db79...       0   \n",
       "46607  1ea65ea38f2f574b3875ba895e4ff76b284b7725041612...       0   \n",
       "\n",
       "            lost_reason       budget               lease    movein  \\\n",
       "0        Not responding  unavailable         unavailable       NaN   \n",
       "1            Low budget  unavailable         unavailable       NaN   \n",
       "2        Not responding      121-180   9 months - 1 year  31/08/22   \n",
       "3            Low budget         0-60  less than 3 months       NaN   \n",
       "4             Junk lead  unavailable         unavailable       NaN   \n",
       "...                 ...          ...                 ...       ...   \n",
       "46603  Low availability       61-120      1 year or more  01/09/22   \n",
       "46604     Semester stay       61-120  less than 3 months  29/09/22   \n",
       "46605  Low availability      240-300   9 months - 1 year  20/09/22   \n",
       "46606  Low availability         >300      1 year or more  30/08/22   \n",
       "46607  Low availability      181-240   9 months - 1 year  01/09/22   \n",
       "\n",
       "                                                  source  \\\n",
       "0                                                    NaN   \n",
       "1                                                    NaN   \n",
       "2      7aae3e886e89fc1187a5c47d6cea1c22998ee610ade1f2...   \n",
       "3      ba2d0a29556ac20f86f45e4543c0825428cba33fd7a9ea...   \n",
       "4                                                    NaN   \n",
       "...                                                  ...   \n",
       "46603                                                NaN   \n",
       "46604                                                NaN   \n",
       "46605  7aae3e886e89fc1187a5c47d6cea1c22998ee610ade1f2...   \n",
       "46606  d684761c17c11590f6e2525b48141cb2c0c6f2be5df4e2...   \n",
       "46607  7aae3e886e89fc1187a5c47d6cea1c22998ee610ade1f2...   \n",
       "\n",
       "                                             source_city  \\\n",
       "0                                            unavailable   \n",
       "1                                            unavailable   \n",
       "2      9b8cc3c63cdf447e463c11544924bf027945cbd29675f7...   \n",
       "3                                    Other Source Cities   \n",
       "4                                            unavailable   \n",
       "...                                                  ...   \n",
       "46603  7d1550b844ff586a6023216c06263105eed0a849a2a1f6...   \n",
       "46604  9f2ba6981e36ea0fca6c16f42e6413d788d2a7499b8b7f...   \n",
       "46605  7d1550b844ff586a6023216c06263105eed0a849a2a1f6...   \n",
       "46606                                Other Source Cities   \n",
       "46607                                Other Source Cities   \n",
       "\n",
       "                                          source_country  \\\n",
       "0                                            unavailable   \n",
       "1                                            unavailable   \n",
       "2      e09e10e67812e9d236ad900e5d46b4308fc62f5d69446a...   \n",
       "3      e09e10e67812e9d236ad900e5d46b4308fc62f5d69446a...   \n",
       "4                                            unavailable   \n",
       "...                                                  ...   \n",
       "46603  8da82000ef9c4468ba47362a924b895e40662fed846942...   \n",
       "46604  8da82000ef9c4468ba47362a924b895e40662fed846942...   \n",
       "46605  8da82000ef9c4468ba47362a924b895e40662fed846942...   \n",
       "46606  b936ee09e20b3b2234907cde349cda1c1a5327c4a486bf...   \n",
       "46607  e09e10e67812e9d236ad900e5d46b4308fc62f5d69446a...   \n",
       "\n",
       "                                              utm_source  \\\n",
       "0      3d59f7548e1af2151b64135003ce63c0a484c26b9b8b16...   \n",
       "1      3d59f7548e1af2151b64135003ce63c0a484c26b9b8b16...   \n",
       "2      bbdefa2950f49882f295b1285d4fa9dec45fc4144bfb07...   \n",
       "3      bbdefa2950f49882f295b1285d4fa9dec45fc4144bfb07...   \n",
       "4      3d59f7548e1af2151b64135003ce63c0a484c26b9b8b16...   \n",
       "...                                                  ...   \n",
       "46603  bbdefa2950f49882f295b1285d4fa9dec45fc4144bfb07...   \n",
       "46604  bbdefa2950f49882f295b1285d4fa9dec45fc4144bfb07...   \n",
       "46605  bbdefa2950f49882f295b1285d4fa9dec45fc4144bfb07...   \n",
       "46606  7f3fa48ca885678134842fa7456f3ece53a97f843b6101...   \n",
       "46607  bbdefa2950f49882f295b1285d4fa9dec45fc4144bfb07...   \n",
       "\n",
       "                                              utm_medium  \\\n",
       "0      268ad70eb5bc4737a2ae28162cbca30118cc94520e49ef...   \n",
       "1      268ad70eb5bc4737a2ae28162cbca30118cc94520e49ef...   \n",
       "2      09076eb7665d1fb9389c7c4517fee0b00e43092eb34821...   \n",
       "3      09076eb7665d1fb9389c7c4517fee0b00e43092eb34821...   \n",
       "4      268ad70eb5bc4737a2ae28162cbca30118cc94520e49ef...   \n",
       "...                                                  ...   \n",
       "46603  09076eb7665d1fb9389c7c4517fee0b00e43092eb34821...   \n",
       "46604  09076eb7665d1fb9389c7c4517fee0b00e43092eb34821...   \n",
       "46605  09076eb7665d1fb9389c7c4517fee0b00e43092eb34821...   \n",
       "46606  abb8e2badd5b6265c3237170cc599257a4f566706715d2...   \n",
       "46607  09076eb7665d1fb9389c7c4517fee0b00e43092eb34821...   \n",
       "\n",
       "                                                des_city  \\\n",
       "0      ecc0e7dc084f141b29479058967d0bc07dee25d9690a98...   \n",
       "1      5372372f3bf5896820cb2819300c3e681820d82c6efc54...   \n",
       "2      11ab03a1a8c367191355c152f39fe28cae5e426fce49ef...   \n",
       "3      19372fa44c57a01c37a5a8418779ca3d99b0b59731fb35...   \n",
       "4                                            unavailable   \n",
       "...                                                  ...   \n",
       "46603  13d4b96b6ee361b737e22404aeecca45f322ba7d4c2c42...   \n",
       "46604  998c18dc0e513ab0035c7b858e3780bbbead88695a15de...   \n",
       "46605  ecc0e7dc084f141b29479058967d0bc07dee25d9690a98...   \n",
       "46606  ecc0e7dc084f141b29479058967d0bc07dee25d9690a98...   \n",
       "46607  618738f7143c9b43a98a6b42d743a6595069a9b4dcf42d...   \n",
       "\n",
       "                                             des_country room_type  \\\n",
       "0      8d23a6e37e0a6431a8f1b43a91026dcff51170a89a6512...       NaN   \n",
       "1      8d23a6e37e0a6431a8f1b43a91026dcff51170a89a6512...       NaN   \n",
       "2      8d23a6e37e0a6431a8f1b43a91026dcff51170a89a6512...   Ensuite   \n",
       "3      8d23a6e37e0a6431a8f1b43a91026dcff51170a89a6512...       NaN   \n",
       "4                                                    NaN       NaN   \n",
       "...                                                  ...       ...   \n",
       "46603  8d23a6e37e0a6431a8f1b43a91026dcff51170a89a6512...    Studio   \n",
       "46604  8d23a6e37e0a6431a8f1b43a91026dcff51170a89a6512...    Studio   \n",
       "46605  8d23a6e37e0a6431a8f1b43a91026dcff51170a89a6512...    Studio   \n",
       "46606  8d23a6e37e0a6431a8f1b43a91026dcff51170a89a6512...       NaN   \n",
       "46607  8d23a6e37e0a6431a8f1b43a91026dcff51170a89a6512...    Studio   \n",
       "\n",
       "                                                 lead_id  \n",
       "0      cd5dc0d9393f3980d11d4ba6f88f8110c2b7a7f7796307...  \n",
       "1      b94693673a5f7178d1b114e4004ad52377d3244dd24a3d...  \n",
       "2      96ea4e2bf04496c044745938c0299c264c3f4ba079e572...  \n",
       "3      1d2b34d8add02a182a4129023766ca4585a8ddced0e5b3...  \n",
       "4      fc10fffd29cfbe93c55158fb47752a7501c211d253468c...  \n",
       "...                                                  ...  \n",
       "46603  1aaa4a4a9092e4c0eabf958ed9aea59c50d8ea3f08f691...  \n",
       "46604  1f90dbad4873cb9673ff3c7ec69fbac4289181453c6cea...  \n",
       "46605  d9e0f455b68a6573544ffac32292541a510fe2daffe2bb...  \n",
       "46606  1f90dbad4873cb9673ff3c7ec69fbac4289181453c6cea...  \n",
       "46607  7520a8abba2b44d7f37c0ddbe5f7f3d87540b2b7a670e9...  \n",
       "\n",
       "[46307 rows x 15 columns]"
      ]
     },
     "execution_count": 76,
     "metadata": {},
     "output_type": "execute_result"
    }
   ],
   "source": [
    "df"
   ]
  },
  {
   "cell_type": "code",
   "execution_count": 77,
   "id": "145e8d56",
   "metadata": {},
   "outputs": [
    {
     "data": {
      "text/plain": [
       "30491"
      ]
     },
     "execution_count": 77,
     "metadata": {},
     "output_type": "execute_result"
    }
   ],
   "source": [
    "df.lead_id.nunique()"
   ]
  },
  {
   "cell_type": "code",
   "execution_count": 78,
   "id": "fc80d70a",
   "metadata": {},
   "outputs": [],
   "source": [
    "df_majority=df[df.status==0]\n",
    "df_minority=df[df.status==1]"
   ]
  },
  {
   "cell_type": "code",
   "execution_count": 79,
   "id": "559ef4f5",
   "metadata": {},
   "outputs": [
    {
     "data": {
      "text/plain": [
       "(43235, 15)"
      ]
     },
     "execution_count": 79,
     "metadata": {},
     "output_type": "execute_result"
    }
   ],
   "source": [
    "df_majority.shape"
   ]
  },
  {
   "cell_type": "code",
   "execution_count": 81,
   "id": "33e68ad5",
   "metadata": {},
   "outputs": [
    {
     "data": {
      "text/plain": [
       "Index(['Agent_id', 'status', 'lost_reason', 'budget', 'lease', 'movein',\n",
       "       'source', 'source_city', 'source_country', 'utm_source', 'utm_medium',\n",
       "       'des_city', 'des_country', 'room_type', 'lead_id'],\n",
       "      dtype='object')"
      ]
     },
     "execution_count": 81,
     "metadata": {},
     "output_type": "execute_result"
    }
   ],
   "source": [
    "df.columns"
   ]
  },
  {
   "cell_type": "code",
   "execution_count": 87,
   "id": "7aa388db",
   "metadata": {},
   "outputs": [
    {
     "name": "stdout",
     "output_type": "stream",
     "text": [
      "\n",
      " Agent_id \n",
      " majority dataset\n",
      "120\n",
      "minority_dataset\n",
      "73\n",
      "\n",
      " status \n",
      " majority dataset\n",
      "1\n",
      "minority_dataset\n",
      "1\n",
      "\n",
      " lost_reason \n",
      " majority dataset\n",
      "30\n",
      "minority_dataset\n",
      "0\n",
      "\n",
      " budget \n",
      " majority dataset\n",
      "7\n",
      "minority_dataset\n",
      "7\n",
      "\n",
      " lease \n",
      " majority dataset\n",
      "7\n",
      "minority_dataset\n",
      "7\n",
      "\n",
      " movein \n",
      " majority dataset\n",
      "466\n",
      "minority_dataset\n",
      "124\n",
      "\n",
      " source \n",
      " majority dataset\n",
      "637\n",
      "minority_dataset\n",
      "168\n",
      "\n",
      " source_city \n",
      " majority dataset\n",
      "57\n",
      "minority_dataset\n",
      "56\n",
      "\n",
      " source_country \n",
      " majority dataset\n",
      "36\n",
      "minority_dataset\n",
      "36\n",
      "\n",
      " utm_source \n",
      " majority dataset\n",
      "33\n",
      "minority_dataset\n",
      "24\n",
      "\n",
      " utm_medium \n",
      " majority dataset\n",
      "63\n",
      "minority_dataset\n",
      "31\n",
      "\n",
      " des_city \n",
      " majority dataset\n",
      "53\n",
      "minority_dataset\n",
      "48\n",
      "\n",
      " des_country \n",
      " majority dataset\n",
      "14\n",
      "minority_dataset\n",
      "5\n",
      "\n",
      " room_type \n",
      " majority dataset\n",
      "5\n",
      "minority_dataset\n",
      "3\n",
      "\n",
      " lead_id \n",
      " majority dataset\n",
      "29425\n",
      "minority_dataset\n",
      "3005\n"
     ]
    }
   ],
   "source": [
    "cols=df.columns\n",
    "for col in cols:\n",
    "    print('\\n',col,'\\n', 'majority dataset')\n",
    "    print(df_majority[col].nunique())\n",
    "    print('minority_dataset')\n",
    "    print(df_minority[col].nunique())"
   ]
  }
 ],
 "metadata": {
  "kernelspec": {
   "display_name": "Python 3 (ipykernel)",
   "language": "python",
   "name": "python3"
  },
  "language_info": {
   "codemirror_mode": {
    "name": "ipython",
    "version": 3
   },
   "file_extension": ".py",
   "mimetype": "text/x-python",
   "name": "python",
   "nbconvert_exporter": "python",
   "pygments_lexer": "ipython3",
   "version": "3.9.7"
  }
 },
 "nbformat": 4,
 "nbformat_minor": 5
}
